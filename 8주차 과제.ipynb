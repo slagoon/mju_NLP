{
 "cells": [
  {
   "cell_type": "markdown",
   "id": "44edb727",
   "metadata": {},
   "source": [
    "# 8주차 과제\n",
    "- 60171100 윤민혁"
   ]
  },
  {
   "cell_type": "code",
   "execution_count": 1,
   "id": "76239968",
   "metadata": {
    "ExecuteTime": {
     "end_time": "2022-04-22T08:45:42.394173Z",
     "start_time": "2022-04-22T08:45:42.311173Z"
    }
   },
   "outputs": [],
   "source": [
    "from selenium import webdriver\n",
    "from selenium.webdriver.common.keys import Keys\n",
    "import warnings\n",
    "warnings.filterwarnings('ignore')\n",
    "import time\n",
    "import urllib"
   ]
  },
  {
   "cell_type": "code",
   "execution_count": 63,
   "id": "786883b2",
   "metadata": {
    "ExecuteTime": {
     "end_time": "2022-04-24T06:26:46.834032Z",
     "start_time": "2022-04-24T06:26:31.002719Z"
    },
    "scrolled": true
   },
   "outputs": [],
   "source": [
    "driver = webdriver.Chrome()\n",
    "url = 'http://google.com'\n",
    "driver.get(url)\n",
    "\n",
    "driver.maximize_window()\n",
    "\n",
    "driver.find_element_by_class_name('gLFyf.gsfi').send_keys('손흥민')\n",
    "driver.find_element_by_class_name('gLFyf.gsfi').send_keys(Keys.ENTER)\n",
    "driver.find_element_by_css_selector('#hdtb-msb > div:nth-child(1) > div > div:nth-child(3) > a').click()\n",
    "\n",
    "time.sleep(1)\n",
    "\n",
    "\n",
    "\n",
    "for i in range(30):\n",
    "    driver.find_elements_by_class_name('rg_i.Q4LuWd')[i].click()\n",
    "\n",
    "    img = driver.find_element_by_class_name('n3VNCb')\n",
    "    src = img.get_attribute('src')\n",
    "    urllib.request.urlretrieve(src, \"./images/{}.jpg\" .format(i))\n",
    "    \n",
    "    \n",
    "   "
   ]
  },
  {
   "cell_type": "code",
   "execution_count": null,
   "id": "252d196e",
   "metadata": {},
   "outputs": [],
   "source": []
  }
 ],
 "metadata": {
  "kernelspec": {
   "display_name": "Python 3 (ipykernel)",
   "language": "python",
   "name": "python3"
  },
  "language_info": {
   "codemirror_mode": {
    "name": "ipython",
    "version": 3
   },
   "file_extension": ".py",
   "mimetype": "text/x-python",
   "name": "python",
   "nbconvert_exporter": "python",
   "pygments_lexer": "ipython3",
   "version": "3.8.8"
  },
  "toc": {
   "base_numbering": 1,
   "nav_menu": {},
   "number_sections": true,
   "sideBar": true,
   "skip_h1_title": false,
   "title_cell": "Table of Contents",
   "title_sidebar": "Contents",
   "toc_cell": false,
   "toc_position": {},
   "toc_section_display": true,
   "toc_window_display": false
  }
 },
 "nbformat": 4,
 "nbformat_minor": 5
}
