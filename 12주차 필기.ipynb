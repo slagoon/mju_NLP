{
 "cells": [
  {
   "cell_type": "markdown",
   "id": "28b31c2a",
   "metadata": {},
   "source": [
    "# LSA"
   ]
  },
  {
   "cell_type": "code",
   "execution_count": 1,
   "id": "4bec18fe",
   "metadata": {
    "ExecuteTime": {
     "end_time": "2022-05-20T17:41:43.706436Z",
     "start_time": "2022-05-20T17:41:43.685416Z"
    }
   },
   "outputs": [
    {
     "data": {
      "text/plain": [
       "(4, 9)"
      ]
     },
     "execution_count": 1,
     "metadata": {},
     "output_type": "execute_result"
    }
   ],
   "source": [
    "#dtm 만들기\n",
    "import numpy as np\n",
    "A = np.array([[0,0,0,1,0,1,1,0,0],[0,0,0,1,1,0,1,0,0],[0,1,1,0,2,0,0,0,0],[1,0,0,0,0,0,0,1,1]])\n",
    "np.shape(A)"
   ]
  },
  {
   "cell_type": "code",
   "execution_count": 2,
   "id": "1dd71cbc",
   "metadata": {
    "ExecuteTime": {
     "end_time": "2022-05-20T17:42:23.577333Z",
     "start_time": "2022-05-20T17:42:23.558336Z"
    }
   },
   "outputs": [],
   "source": [
    "# SVD\n",
    "import numpy as np\n",
    "U, s, VT = np.linalg.svd(A, full_matrices=True) # 시그마 대신 s를 사용"
   ]
  },
  {
   "cell_type": "code",
   "execution_count": 3,
   "id": "adf68936",
   "metadata": {
    "ExecuteTime": {
     "end_time": "2022-05-20T17:42:39.491424Z",
     "start_time": "2022-05-20T17:42:39.467840Z"
    }
   },
   "outputs": [
    {
     "name": "stdout",
     "output_type": "stream",
     "text": [
      "[[-0.24  0.75  0.   -0.62]\n",
      " [-0.51  0.44 -0.    0.74]\n",
      " [-0.83 -0.49 -0.   -0.27]\n",
      " [-0.   -0.    1.    0.  ]]\n"
     ]
    },
    {
     "data": {
      "text/plain": [
       "(4, 4)"
      ]
     },
     "execution_count": 3,
     "metadata": {},
     "output_type": "execute_result"
    }
   ],
   "source": [
    "print(U.round(2))\n",
    "np.shape(U)"
   ]
  },
  {
   "cell_type": "code",
   "execution_count": 5,
   "id": "25a20dc5",
   "metadata": {
    "ExecuteTime": {
     "end_time": "2022-05-20T17:44:40.034066Z",
     "start_time": "2022-05-20T17:44:40.016066Z"
    }
   },
   "outputs": [
    {
     "name": "stdout",
     "output_type": "stream",
     "text": [
      "[2.69 2.05 1.73 0.77]\n"
     ]
    },
    {
     "data": {
      "text/plain": [
       "(4,)"
      ]
     },
     "execution_count": 5,
     "metadata": {},
     "output_type": "execute_result"
    }
   ],
   "source": [
    "# Numpy의 linalg.svd()는 특이값 분해의 결과로 대각 행렬이 아닌 특이값의 리스트를 반환\n",
    "print(s.round(2))\n",
    "np.shape(s)"
   ]
  },
  {
   "cell_type": "code",
   "execution_count": 6,
   "id": "f62b2c84",
   "metadata": {
    "ExecuteTime": {
     "end_time": "2022-05-20T17:45:23.564122Z",
     "start_time": "2022-05-20T17:45:23.551287Z"
    }
   },
   "outputs": [
    {
     "name": "stdout",
     "output_type": "stream",
     "text": [
      "[[2.69 0.   0.   0.   0.   0.   0.   0.   0.  ]\n",
      " [0.   2.05 0.   0.   0.   0.   0.   0.   0.  ]\n",
      " [0.   0.   1.73 0.   0.   0.   0.   0.   0.  ]\n",
      " [0.   0.   0.   0.77 0.   0.   0.   0.   0.  ]]\n"
     ]
    },
    {
     "data": {
      "text/plain": [
       "(4, 9)"
      ]
     },
     "execution_count": 6,
     "metadata": {},
     "output_type": "execute_result"
    }
   ],
   "source": [
    "# 다시 대각 행렬로 바꿔 주어야 함\n",
    "S = np.zeros((4,9))\n",
    "S[:4,:4] = np.diag(s)\n",
    "print(S.round(2))\n",
    "np.shape(S)"
   ]
  },
  {
   "cell_type": "code",
   "execution_count": 7,
   "id": "0bdd3b78",
   "metadata": {
    "ExecuteTime": {
     "end_time": "2022-05-20T17:45:50.707551Z",
     "start_time": "2022-05-20T17:45:50.702090Z"
    }
   },
   "outputs": [
    {
     "name": "stdout",
     "output_type": "stream",
     "text": [
      "[[-0.   -0.31 -0.31 -0.28 -0.8  -0.09 -0.28 -0.   -0.  ]\n",
      " [ 0.   -0.24 -0.24  0.58 -0.26  0.37  0.58 -0.   -0.  ]\n",
      " [ 0.58 -0.    0.    0.   -0.    0.   -0.    0.58  0.58]\n",
      " [ 0.   -0.35 -0.35  0.16  0.25 -0.8   0.16 -0.   -0.  ]\n",
      " [-0.   -0.78 -0.01 -0.2   0.4   0.4  -0.2   0.    0.  ]\n",
      " [-0.29  0.31 -0.78 -0.24  0.23  0.23  0.01  0.14  0.14]\n",
      " [-0.29 -0.1   0.26 -0.59 -0.08 -0.08  0.66  0.14  0.14]\n",
      " [-0.5  -0.06  0.15  0.24 -0.05 -0.05 -0.19  0.75 -0.25]\n",
      " [-0.5  -0.06  0.15  0.24 -0.05 -0.05 -0.19 -0.25  0.75]]\n"
     ]
    },
    {
     "data": {
      "text/plain": [
       "(9, 9)"
      ]
     },
     "execution_count": 7,
     "metadata": {},
     "output_type": "execute_result"
    }
   ],
   "source": [
    "print(VT.round(2)) # 직교행렬 VT, V의 전치행렬\n",
    "np.shape(VT)"
   ]
  },
  {
   "cell_type": "code",
   "execution_count": 8,
   "id": "d300a3a1",
   "metadata": {
    "ExecuteTime": {
     "end_time": "2022-05-20T17:47:10.174093Z",
     "start_time": "2022-05-20T17:47:10.166810Z"
    }
   },
   "outputs": [
    {
     "data": {
      "text/plain": [
       "True"
      ]
     },
     "execution_count": 8,
     "metadata": {},
     "output_type": "execute_result"
    }
   ],
   "source": [
    "# U x S x VT를 하면 기존의 행렬 A가 나오는지 확인\n",
    "np.allclose(A, np.dot(np.dot(U,S), VT).round(2))"
   ]
  },
  {
   "cell_type": "code",
   "execution_count": 9,
   "id": "36cbe095",
   "metadata": {
    "ExecuteTime": {
     "end_time": "2022-05-20T17:48:48.800381Z",
     "start_time": "2022-05-20T17:48:48.790057Z"
    }
   },
   "outputs": [
    {
     "name": "stdout",
     "output_type": "stream",
     "text": [
      "[[2.69 0.  ]\n",
      " [0.   2.05]]\n"
     ]
    }
   ],
   "source": [
    "# Truncated SVD (t=2), 원래 행렬과 유사할 수록 줄어든 모델이 좋은 설명력을 가짐\n",
    "S = S[:2,:2]\n",
    "print(S.round(2))"
   ]
  },
  {
   "cell_type": "code",
   "execution_count": 10,
   "id": "a2d1b7e6",
   "metadata": {
    "ExecuteTime": {
     "end_time": "2022-05-20T17:49:22.826839Z",
     "start_time": "2022-05-20T17:49:22.819840Z"
    }
   },
   "outputs": [
    {
     "name": "stdout",
     "output_type": "stream",
     "text": [
      "[[-0.24  0.75]\n",
      " [-0.51  0.44]\n",
      " [-0.83 -0.49]\n",
      " [-0.   -0.  ]]\n"
     ]
    }
   ],
   "source": [
    "U = U[:,:2]\n",
    "print(U.round(2))"
   ]
  },
  {
   "cell_type": "code",
   "execution_count": 11,
   "id": "c647f6c9",
   "metadata": {
    "ExecuteTime": {
     "end_time": "2022-05-20T17:50:07.230067Z",
     "start_time": "2022-05-20T17:50:07.218703Z"
    }
   },
   "outputs": [
    {
     "name": "stdout",
     "output_type": "stream",
     "text": [
      "[[-0.   -0.31 -0.31 -0.28 -0.8  -0.09 -0.28 -0.   -0.  ]\n",
      " [ 0.   -0.24 -0.24  0.58 -0.26  0.37  0.58 -0.   -0.  ]]\n"
     ]
    }
   ],
   "source": [
    "VT = VT[:2,:]\n",
    "print(VT.round(2))"
   ]
  },
  {
   "cell_type": "code",
   "execution_count": 12,
   "id": "174ef8b4",
   "metadata": {
    "ExecuteTime": {
     "end_time": "2022-05-20T17:50:53.880202Z",
     "start_time": "2022-05-20T17:50:53.863782Z"
    }
   },
   "outputs": [
    {
     "name": "stdout",
     "output_type": "stream",
     "text": [
      "[[0 0 0 1 0 1 1 0 0]\n",
      " [0 0 0 1 1 0 1 0 0]\n",
      " [0 1 1 0 2 0 0 0 0]\n",
      " [1 0 0 0 0 0 0 1 1]]\n",
      "[[ 0.   -0.17 -0.17  1.08  0.12  0.62  1.08 -0.   -0.  ]\n",
      " [ 0.    0.2   0.2   0.91  0.86  0.45  0.91  0.    0.  ]\n",
      " [ 0.    0.93  0.93  0.03  2.05 -0.17  0.03  0.    0.  ]\n",
      " [ 0.    0.    0.    0.    0.   -0.    0.    0.    0.  ]]\n"
     ]
    }
   ],
   "source": [
    "# 기존  행렬과 비교\n",
    "A_prime = np.dot(np.dot(U,S),VT)\n",
    "print(A)\n",
    "print(A_prime.round(2))"
   ]
  },
  {
   "cell_type": "markdown",
   "id": "338f7a9c",
   "metadata": {},
   "source": [
    "## 잡 플레닛 기업리뷰 실습"
   ]
  },
  {
   "cell_type": "code",
   "execution_count": 14,
   "id": "1039c05c",
   "metadata": {
    "ExecuteTime": {
     "end_time": "2022-05-20T17:55:09.294966Z",
     "start_time": "2022-05-20T17:55:07.980776Z"
    }
   },
   "outputs": [
    {
     "name": "stderr",
     "output_type": "stream",
     "text": [
      "C:\\Users\\alsgu\\anaconda3\\lib\\site-packages\\IPython\\core\\interactiveshell.py:3441: DtypeWarning: Columns (11) have mixed types.Specify dtype option on import or set low_memory=False.\n",
      "  exec(code_obj, self.user_global_ns, self.user_ns)\n"
     ]
    }
   ],
   "source": [
    "from konlpy.tag import Okt\n",
    "import pandas as pd\n",
    "\n",
    "df = pd.read_csv('job_review.csv')"
   ]
  },
  {
   "cell_type": "code",
   "execution_count": 15,
   "id": "59f0ea58",
   "metadata": {
    "ExecuteTime": {
     "end_time": "2022-05-20T17:55:22.997904Z",
     "start_time": "2022-05-20T17:55:22.942816Z"
    }
   },
   "outputs": [],
   "source": [
    "df = df.dropna()"
   ]
  },
  {
   "cell_type": "code",
   "execution_count": null,
   "id": "1d508a03",
   "metadata": {},
   "outputs": [],
   "source": [
    "okt = Okt()\n",
    "noun_list = []\n",
    "#stop_words = "
   ]
  }
 ],
 "metadata": {
  "kernelspec": {
   "display_name": "Python 3 (ipykernel)",
   "language": "python",
   "name": "python3"
  },
  "language_info": {
   "codemirror_mode": {
    "name": "ipython",
    "version": 3
   },
   "file_extension": ".py",
   "mimetype": "text/x-python",
   "name": "python",
   "nbconvert_exporter": "python",
   "pygments_lexer": "ipython3",
   "version": "3.8.8"
  },
  "toc": {
   "base_numbering": 1,
   "nav_menu": {},
   "number_sections": true,
   "sideBar": true,
   "skip_h1_title": false,
   "title_cell": "Table of Contents",
   "title_sidebar": "Contents",
   "toc_cell": false,
   "toc_position": {},
   "toc_section_display": true,
   "toc_window_display": false
  }
 },
 "nbformat": 4,
 "nbformat_minor": 5
}
