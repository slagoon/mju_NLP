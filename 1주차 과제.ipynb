{
 "cells": [
  {
   "cell_type": "code",
   "execution_count": 8,
   "id": "8bbe3901",
   "metadata": {
    "ExecuteTime": {
     "end_time": "2022-03-07T06:15:05.798078Z",
     "start_time": "2022-03-07T06:15:03.239518Z"
    }
   },
   "outputs": [
    {
     "name": "stdout",
     "output_type": "stream",
     "text": [
      "Collecting openpyxl\n",
      "  Downloading openpyxl-3.0.9-py2.py3-none-any.whl (242 kB)\n",
      "Collecting et-xmlfile\n",
      "  Downloading et_xmlfile-1.1.0-py3-none-any.whl (4.7 kB)\n",
      "Installing collected packages: et-xmlfile, openpyxl\n",
      "Successfully installed et-xmlfile-1.1.0 openpyxl-3.0.9\n",
      "Note: you may need to restart the kernel to use updated packages.\n"
     ]
    }
   ],
   "source": [
    "pip install openpyxl"
   ]
  },
  {
   "cell_type": "markdown",
   "id": "789f925c",
   "metadata": {},
   "source": [
    "# 1주차 단톡방 과제\n",
    "- 60171100 윤민혁"
   ]
  },
  {
   "cell_type": "code",
   "execution_count": 31,
   "id": "176afe94",
   "metadata": {
    "ExecuteTime": {
     "end_time": "2022-03-08T07:39:04.525500Z",
     "start_time": "2022-03-08T07:39:04.517842Z"
    }
   },
   "outputs": [],
   "source": [
    "import pandas as pd\n"
   ]
  },
  {
   "cell_type": "code",
   "execution_count": 10,
   "id": "3957d08c",
   "metadata": {
    "ExecuteTime": {
     "end_time": "2022-03-07T06:15:45.441650Z",
     "start_time": "2022-03-07T06:15:31.300488Z"
    }
   },
   "outputs": [],
   "source": [
    "df1 = pd.read_excel('./data/Casualty.xlsx')"
   ]
  },
  {
   "cell_type": "code",
   "execution_count": 11,
   "id": "3fe57707",
   "metadata": {
    "ExecuteTime": {
     "end_time": "2022-03-07T06:15:47.922553Z",
     "start_time": "2022-03-07T06:15:47.893650Z"
    }
   },
   "outputs": [
    {
     "data": {
      "text/html": [
       "<div>\n",
       "<style scoped>\n",
       "    .dataframe tbody tr th:only-of-type {\n",
       "        vertical-align: middle;\n",
       "    }\n",
       "\n",
       "    .dataframe tbody tr th {\n",
       "        vertical-align: top;\n",
       "    }\n",
       "\n",
       "    .dataframe thead th {\n",
       "        text-align: right;\n",
       "    }\n",
       "</style>\n",
       "<table border=\"1\" class=\"dataframe\">\n",
       "  <thead>\n",
       "    <tr style=\"text-align: right;\">\n",
       "      <th></th>\n",
       "      <th>Acc_Index</th>\n",
       "      <th>Vehicle_Reference</th>\n",
       "      <th>Casualty_Reference</th>\n",
       "      <th>Casualty_Class</th>\n",
       "      <th>Gender_of_Casualty</th>\n",
       "      <th>Age_Band_of_Casualty</th>\n",
       "      <th>Casualty_Severity</th>\n",
       "      <th>Pedestrian_Location</th>\n",
       "      <th>Pedestrian_Movement</th>\n",
       "      <th>Car_Passenger</th>\n",
       "      <th>Bus_or_Coach_Passenger</th>\n",
       "      <th>Pedestrian_Road_Maintenance_Worker</th>\n",
       "      <th>Casualty_Type</th>\n",
       "      <th>Casualty_Home_Area_Type</th>\n",
       "    </tr>\n",
       "  </thead>\n",
       "  <tbody>\n",
       "    <tr>\n",
       "      <th>0</th>\n",
       "      <td>197901A11AD14</td>\n",
       "      <td>2</td>\n",
       "      <td>1</td>\n",
       "      <td>1</td>\n",
       "      <td>1</td>\n",
       "      <td>-1</td>\n",
       "      <td>3</td>\n",
       "      <td>0</td>\n",
       "      <td>0</td>\n",
       "      <td>0</td>\n",
       "      <td>0</td>\n",
       "      <td>0</td>\n",
       "      <td>104</td>\n",
       "      <td>-1</td>\n",
       "    </tr>\n",
       "    <tr>\n",
       "      <th>1</th>\n",
       "      <td>197901A1BAW34</td>\n",
       "      <td>1</td>\n",
       "      <td>1</td>\n",
       "      <td>3</td>\n",
       "      <td>2</td>\n",
       "      <td>6</td>\n",
       "      <td>3</td>\n",
       "      <td>10</td>\n",
       "      <td>5</td>\n",
       "      <td>0</td>\n",
       "      <td>0</td>\n",
       "      <td>-1</td>\n",
       "      <td>0</td>\n",
       "      <td>-1</td>\n",
       "    </tr>\n",
       "    <tr>\n",
       "      <th>2</th>\n",
       "      <td>197901A1BFD77</td>\n",
       "      <td>1</td>\n",
       "      <td>1</td>\n",
       "      <td>1</td>\n",
       "      <td>1</td>\n",
       "      <td>5</td>\n",
       "      <td>3</td>\n",
       "      <td>0</td>\n",
       "      <td>0</td>\n",
       "      <td>0</td>\n",
       "      <td>0</td>\n",
       "      <td>0</td>\n",
       "      <td>109</td>\n",
       "      <td>-1</td>\n",
       "    </tr>\n",
       "    <tr>\n",
       "      <th>3</th>\n",
       "      <td>197901A1BFD77</td>\n",
       "      <td>1</td>\n",
       "      <td>2</td>\n",
       "      <td>2</td>\n",
       "      <td>1</td>\n",
       "      <td>4</td>\n",
       "      <td>3</td>\n",
       "      <td>0</td>\n",
       "      <td>0</td>\n",
       "      <td>1</td>\n",
       "      <td>0</td>\n",
       "      <td>0</td>\n",
       "      <td>109</td>\n",
       "      <td>-1</td>\n",
       "    </tr>\n",
       "    <tr>\n",
       "      <th>4</th>\n",
       "      <td>197901A1BFD77</td>\n",
       "      <td>2</td>\n",
       "      <td>3</td>\n",
       "      <td>1</td>\n",
       "      <td>1</td>\n",
       "      <td>6</td>\n",
       "      <td>3</td>\n",
       "      <td>0</td>\n",
       "      <td>0</td>\n",
       "      <td>0</td>\n",
       "      <td>0</td>\n",
       "      <td>0</td>\n",
       "      <td>109</td>\n",
       "      <td>-1</td>\n",
       "    </tr>\n",
       "    <tr>\n",
       "      <th>...</th>\n",
       "      <td>...</td>\n",
       "      <td>...</td>\n",
       "      <td>...</td>\n",
       "      <td>...</td>\n",
       "      <td>...</td>\n",
       "      <td>...</td>\n",
       "      <td>...</td>\n",
       "      <td>...</td>\n",
       "      <td>...</td>\n",
       "      <td>...</td>\n",
       "      <td>...</td>\n",
       "      <td>...</td>\n",
       "      <td>...</td>\n",
       "      <td>...</td>\n",
       "    </tr>\n",
       "    <tr>\n",
       "      <th>93040</th>\n",
       "      <td>197906P001185</td>\n",
       "      <td>1</td>\n",
       "      <td>1</td>\n",
       "      <td>3</td>\n",
       "      <td>1</td>\n",
       "      <td>1</td>\n",
       "      <td>3</td>\n",
       "      <td>5</td>\n",
       "      <td>4</td>\n",
       "      <td>0</td>\n",
       "      <td>0</td>\n",
       "      <td>-1</td>\n",
       "      <td>0</td>\n",
       "      <td>-1</td>\n",
       "    </tr>\n",
       "    <tr>\n",
       "      <th>93041</th>\n",
       "      <td>197906P001187</td>\n",
       "      <td>1</td>\n",
       "      <td>1</td>\n",
       "      <td>3</td>\n",
       "      <td>2</td>\n",
       "      <td>7</td>\n",
       "      <td>3</td>\n",
       "      <td>5</td>\n",
       "      <td>1</td>\n",
       "      <td>0</td>\n",
       "      <td>0</td>\n",
       "      <td>-1</td>\n",
       "      <td>0</td>\n",
       "      <td>-1</td>\n",
       "    </tr>\n",
       "    <tr>\n",
       "      <th>93042</th>\n",
       "      <td>197906P001188</td>\n",
       "      <td>1</td>\n",
       "      <td>1</td>\n",
       "      <td>1</td>\n",
       "      <td>1</td>\n",
       "      <td>6</td>\n",
       "      <td>3</td>\n",
       "      <td>0</td>\n",
       "      <td>0</td>\n",
       "      <td>0</td>\n",
       "      <td>0</td>\n",
       "      <td>0</td>\n",
       "      <td>109</td>\n",
       "      <td>-1</td>\n",
       "    </tr>\n",
       "    <tr>\n",
       "      <th>93043</th>\n",
       "      <td>197906P001199</td>\n",
       "      <td>1</td>\n",
       "      <td>1</td>\n",
       "      <td>1</td>\n",
       "      <td>1</td>\n",
       "      <td>7</td>\n",
       "      <td>3</td>\n",
       "      <td>0</td>\n",
       "      <td>0</td>\n",
       "      <td>0</td>\n",
       "      <td>0</td>\n",
       "      <td>0</td>\n",
       "      <td>109</td>\n",
       "      <td>-1</td>\n",
       "    </tr>\n",
       "    <tr>\n",
       "      <th>93044</th>\n",
       "      <td>197906P001202</td>\n",
       "      <td>2</td>\n",
       "      <td>1</td>\n",
       "      <td>1</td>\n",
       "      <td>2</td>\n",
       "      <td>3</td>\n",
       "      <td>3</td>\n",
       "      <td>0</td>\n",
       "      <td>0</td>\n",
       "      <td>0</td>\n",
       "      <td>0</td>\n",
       "      <td>0</td>\n",
       "      <td>1</td>\n",
       "      <td>-1</td>\n",
       "    </tr>\n",
       "  </tbody>\n",
       "</table>\n",
       "<p>93045 rows × 14 columns</p>\n",
       "</div>"
      ],
      "text/plain": [
       "           Acc_Index  Vehicle_Reference  Casualty_Reference  Casualty_Class  \\\n",
       "0      197901A11AD14                  2                   1               1   \n",
       "1      197901A1BAW34                  1                   1               3   \n",
       "2      197901A1BFD77                  1                   1               1   \n",
       "3      197901A1BFD77                  1                   2               2   \n",
       "4      197901A1BFD77                  2                   3               1   \n",
       "...              ...                ...                 ...             ...   \n",
       "93040  197906P001185                  1                   1               3   \n",
       "93041  197906P001187                  1                   1               3   \n",
       "93042  197906P001188                  1                   1               1   \n",
       "93043  197906P001199                  1                   1               1   \n",
       "93044  197906P001202                  2                   1               1   \n",
       "\n",
       "       Gender_of_Casualty  Age_Band_of_Casualty  Casualty_Severity  \\\n",
       "0                       1                    -1                  3   \n",
       "1                       2                     6                  3   \n",
       "2                       1                     5                  3   \n",
       "3                       1                     4                  3   \n",
       "4                       1                     6                  3   \n",
       "...                   ...                   ...                ...   \n",
       "93040                   1                     1                  3   \n",
       "93041                   2                     7                  3   \n",
       "93042                   1                     6                  3   \n",
       "93043                   1                     7                  3   \n",
       "93044                   2                     3                  3   \n",
       "\n",
       "       Pedestrian_Location  Pedestrian_Movement  Car_Passenger  \\\n",
       "0                        0                    0              0   \n",
       "1                       10                    5              0   \n",
       "2                        0                    0              0   \n",
       "3                        0                    0              1   \n",
       "4                        0                    0              0   \n",
       "...                    ...                  ...            ...   \n",
       "93040                    5                    4              0   \n",
       "93041                    5                    1              0   \n",
       "93042                    0                    0              0   \n",
       "93043                    0                    0              0   \n",
       "93044                    0                    0              0   \n",
       "\n",
       "       Bus_or_Coach_Passenger  Pedestrian_Road_Maintenance_Worker  \\\n",
       "0                           0                                   0   \n",
       "1                           0                                  -1   \n",
       "2                           0                                   0   \n",
       "3                           0                                   0   \n",
       "4                           0                                   0   \n",
       "...                       ...                                 ...   \n",
       "93040                       0                                  -1   \n",
       "93041                       0                                  -1   \n",
       "93042                       0                                   0   \n",
       "93043                       0                                   0   \n",
       "93044                       0                                   0   \n",
       "\n",
       "       Casualty_Type  Casualty_Home_Area_Type  \n",
       "0                104                       -1  \n",
       "1                  0                       -1  \n",
       "2                109                       -1  \n",
       "3                109                       -1  \n",
       "4                109                       -1  \n",
       "...              ...                      ...  \n",
       "93040              0                       -1  \n",
       "93041              0                       -1  \n",
       "93042            109                       -1  \n",
       "93043            109                       -1  \n",
       "93044              1                       -1  \n",
       "\n",
       "[93045 rows x 14 columns]"
      ]
     },
     "execution_count": 11,
     "metadata": {},
     "output_type": "execute_result"
    }
   ],
   "source": [
    "df1"
   ]
  },
  {
   "cell_type": "markdown",
   "id": "84f883b7",
   "metadata": {},
   "source": [
    "## 기록된 전체 교통사고 건수는?"
   ]
  },
  {
   "cell_type": "code",
   "execution_count": 12,
   "id": "c43281de",
   "metadata": {
    "ExecuteTime": {
     "end_time": "2022-03-07T06:16:22.059406Z",
     "start_time": "2022-03-07T06:16:22.045146Z"
    }
   },
   "outputs": [
    {
     "data": {
      "text/plain": [
       "93045"
      ]
     },
     "execution_count": 12,
     "metadata": {},
     "output_type": "execute_result"
    }
   ],
   "source": [
    "len(df1)"
   ]
  },
  {
   "cell_type": "markdown",
   "id": "39377f94",
   "metadata": {},
   "source": [
    "## 남성의 교통사고 건수는? 여성의 교통사고 건수는?"
   ]
  },
  {
   "cell_type": "code",
   "execution_count": 18,
   "id": "85181b3e",
   "metadata": {
    "ExecuteTime": {
     "end_time": "2022-03-07T06:19:55.369645Z",
     "start_time": "2022-03-07T06:19:55.348707Z"
    }
   },
   "outputs": [
    {
     "data": {
      "text/plain": [
       " 1    59778\n",
       " 2    32961\n",
       "-1      306\n",
       "Name: Gender_of_Casualty, dtype: int64"
      ]
     },
     "execution_count": 18,
     "metadata": {},
     "output_type": "execute_result"
    }
   ],
   "source": [
    "df1['Gender_of_Casualty'].value_counts()"
   ]
  },
  {
   "cell_type": "markdown",
   "id": "02459536",
   "metadata": {},
   "source": [
    "- 남자는 59778, 여자는 32961"
   ]
  },
  {
   "cell_type": "markdown",
   "id": "baf5828b",
   "metadata": {},
   "source": [
    "## 사고가 일어나는 버스 안에서 가장 위험한 사람은?"
   ]
  },
  {
   "cell_type": "code",
   "execution_count": 19,
   "id": "374bd3ab",
   "metadata": {
    "ExecuteTime": {
     "end_time": "2022-03-07T06:31:02.190141Z",
     "start_time": "2022-03-07T06:31:02.180177Z"
    }
   },
   "outputs": [
    {
     "data": {
      "text/plain": [
       " 0    88722\n",
       "-1     1837\n",
       " 1     1371\n",
       " 4      551\n",
       " 3      354\n",
       " 2      210\n",
       "Name: Bus_or_Coach_Passenger, dtype: int64"
      ]
     },
     "execution_count": 19,
     "metadata": {},
     "output_type": "execute_result"
    }
   ],
   "source": [
    "df1['Bus_or_Coach_Passenger'].value_counts()"
   ]
  },
  {
   "cell_type": "markdown",
   "id": "1052f643",
   "metadata": {},
   "source": [
    "- 0(버스에 탄 승객이 아님)과 -1(기록이 남아있지 않은 경우)를 제외하면 1로 승차중이던 승객이 가장 위험하다"
   ]
  },
  {
   "cell_type": "markdown",
   "id": "972656b9",
   "metadata": {},
   "source": [
    "## 전체 Casualty_Type 중 가장 많은 사고 종류는? 가장 적은 사고 종류는?"
   ]
  },
  {
   "cell_type": "code",
   "execution_count": 24,
   "id": "9e924450",
   "metadata": {
    "ExecuteTime": {
     "end_time": "2022-03-07T07:07:55.485237Z",
     "start_time": "2022-03-07T07:07:55.470371Z"
    }
   },
   "outputs": [
    {
     "data": {
      "text/plain": [
       "109    37273\n",
       "0      23006\n",
       "104    14305\n",
       "1       6555\n",
       "11      4488\n",
       "19      2866\n",
       "2       2291\n",
       "108      754\n",
       "113      710\n",
       "90       377\n",
       "103      247\n",
       "110      143\n",
       "105       30\n",
       "Name: Casualty_Type, dtype: int64"
      ]
     },
     "execution_count": 24,
     "metadata": {},
     "output_type": "execute_result"
    }
   ],
   "source": [
    "df1['Casualty_Type'].value_counts()"
   ]
  },
  {
   "cell_type": "markdown",
   "id": "c14e83b4",
   "metadata": {},
   "source": [
    "- 가장 많은 사고 종류는 109번인 차량탑승자(개인 렌트카 포함)으로 총 37273건이다\n",
    "- 가장 적은 사고 종류는 105번인 오토바이 - 콤비네이션 라이더 또는 조수석으로 30건이다"
   ]
  },
  {
   "cell_type": "markdown",
   "id": "fe51c58a",
   "metadata": {},
   "source": [
    "# 1주차 개인톡 과제\n",
    "- 60171100 윤민혁"
   ]
  },
  {
   "cell_type": "markdown",
   "id": "3fbea549",
   "metadata": {},
   "source": [
    "## 운전자들이 가장 많이 당하는 사고 종류는 ? 두번째로 많이 당하는 사고 종류는?"
   ]
  },
  {
   "cell_type": "code",
   "execution_count": 32,
   "id": "f1d431b6",
   "metadata": {
    "ExecuteTime": {
     "end_time": "2022-03-08T08:10:47.071350Z",
     "start_time": "2022-03-08T08:10:47.049873Z"
    }
   },
   "outputs": [
    {
     "data": {
      "text/html": [
       "<div>\n",
       "<style scoped>\n",
       "    .dataframe tbody tr th:only-of-type {\n",
       "        vertical-align: middle;\n",
       "    }\n",
       "\n",
       "    .dataframe tbody tr th {\n",
       "        vertical-align: top;\n",
       "    }\n",
       "\n",
       "    .dataframe thead th {\n",
       "        text-align: right;\n",
       "    }\n",
       "</style>\n",
       "<table border=\"1\" class=\"dataframe\">\n",
       "  <thead>\n",
       "    <tr style=\"text-align: right;\">\n",
       "      <th></th>\n",
       "      <th>Acc_Index</th>\n",
       "      <th>Vehicle_Reference</th>\n",
       "      <th>Casualty_Reference</th>\n",
       "      <th>Casualty_Class</th>\n",
       "      <th>Gender_of_Casualty</th>\n",
       "      <th>Age_Band_of_Casualty</th>\n",
       "      <th>Casualty_Severity</th>\n",
       "      <th>Pedestrian_Location</th>\n",
       "      <th>Pedestrian_Movement</th>\n",
       "      <th>Car_Passenger</th>\n",
       "      <th>Bus_or_Coach_Passenger</th>\n",
       "      <th>Pedestrian_Road_Maintenance_Worker</th>\n",
       "      <th>Casualty_Type</th>\n",
       "      <th>Casualty_Home_Area_Type</th>\n",
       "    </tr>\n",
       "  </thead>\n",
       "  <tbody>\n",
       "    <tr>\n",
       "      <th>0</th>\n",
       "      <td>197901A11AD14</td>\n",
       "      <td>2</td>\n",
       "      <td>1</td>\n",
       "      <td>1</td>\n",
       "      <td>1</td>\n",
       "      <td>-1</td>\n",
       "      <td>3</td>\n",
       "      <td>0</td>\n",
       "      <td>0</td>\n",
       "      <td>0</td>\n",
       "      <td>0</td>\n",
       "      <td>0</td>\n",
       "      <td>104</td>\n",
       "      <td>-1</td>\n",
       "    </tr>\n",
       "    <tr>\n",
       "      <th>2</th>\n",
       "      <td>197901A1BFD77</td>\n",
       "      <td>1</td>\n",
       "      <td>1</td>\n",
       "      <td>1</td>\n",
       "      <td>1</td>\n",
       "      <td>5</td>\n",
       "      <td>3</td>\n",
       "      <td>0</td>\n",
       "      <td>0</td>\n",
       "      <td>0</td>\n",
       "      <td>0</td>\n",
       "      <td>0</td>\n",
       "      <td>109</td>\n",
       "      <td>-1</td>\n",
       "    </tr>\n",
       "    <tr>\n",
       "      <th>4</th>\n",
       "      <td>197901A1BFD77</td>\n",
       "      <td>2</td>\n",
       "      <td>3</td>\n",
       "      <td>1</td>\n",
       "      <td>1</td>\n",
       "      <td>6</td>\n",
       "      <td>3</td>\n",
       "      <td>0</td>\n",
       "      <td>0</td>\n",
       "      <td>0</td>\n",
       "      <td>0</td>\n",
       "      <td>0</td>\n",
       "      <td>109</td>\n",
       "      <td>-1</td>\n",
       "    </tr>\n",
       "    <tr>\n",
       "      <th>10</th>\n",
       "      <td>197901A1DAK71</td>\n",
       "      <td>2</td>\n",
       "      <td>2</td>\n",
       "      <td>1</td>\n",
       "      <td>1</td>\n",
       "      <td>5</td>\n",
       "      <td>3</td>\n",
       "      <td>0</td>\n",
       "      <td>0</td>\n",
       "      <td>0</td>\n",
       "      <td>0</td>\n",
       "      <td>0</td>\n",
       "      <td>109</td>\n",
       "      <td>-1</td>\n",
       "    </tr>\n",
       "    <tr>\n",
       "      <th>13</th>\n",
       "      <td>197901A1FBK75</td>\n",
       "      <td>1</td>\n",
       "      <td>1</td>\n",
       "      <td>1</td>\n",
       "      <td>1</td>\n",
       "      <td>5</td>\n",
       "      <td>3</td>\n",
       "      <td>0</td>\n",
       "      <td>0</td>\n",
       "      <td>0</td>\n",
       "      <td>0</td>\n",
       "      <td>0</td>\n",
       "      <td>109</td>\n",
       "      <td>-1</td>\n",
       "    </tr>\n",
       "    <tr>\n",
       "      <th>...</th>\n",
       "      <td>...</td>\n",
       "      <td>...</td>\n",
       "      <td>...</td>\n",
       "      <td>...</td>\n",
       "      <td>...</td>\n",
       "      <td>...</td>\n",
       "      <td>...</td>\n",
       "      <td>...</td>\n",
       "      <td>...</td>\n",
       "      <td>...</td>\n",
       "      <td>...</td>\n",
       "      <td>...</td>\n",
       "      <td>...</td>\n",
       "      <td>...</td>\n",
       "    </tr>\n",
       "    <tr>\n",
       "      <th>93037</th>\n",
       "      <td>197906P001182</td>\n",
       "      <td>1</td>\n",
       "      <td>1</td>\n",
       "      <td>1</td>\n",
       "      <td>1</td>\n",
       "      <td>6</td>\n",
       "      <td>3</td>\n",
       "      <td>0</td>\n",
       "      <td>0</td>\n",
       "      <td>0</td>\n",
       "      <td>0</td>\n",
       "      <td>0</td>\n",
       "      <td>104</td>\n",
       "      <td>-1</td>\n",
       "    </tr>\n",
       "    <tr>\n",
       "      <th>93039</th>\n",
       "      <td>197906P001183</td>\n",
       "      <td>1</td>\n",
       "      <td>2</td>\n",
       "      <td>1</td>\n",
       "      <td>1</td>\n",
       "      <td>6</td>\n",
       "      <td>3</td>\n",
       "      <td>0</td>\n",
       "      <td>0</td>\n",
       "      <td>0</td>\n",
       "      <td>0</td>\n",
       "      <td>0</td>\n",
       "      <td>104</td>\n",
       "      <td>-1</td>\n",
       "    </tr>\n",
       "    <tr>\n",
       "      <th>93042</th>\n",
       "      <td>197906P001188</td>\n",
       "      <td>1</td>\n",
       "      <td>1</td>\n",
       "      <td>1</td>\n",
       "      <td>1</td>\n",
       "      <td>6</td>\n",
       "      <td>3</td>\n",
       "      <td>0</td>\n",
       "      <td>0</td>\n",
       "      <td>0</td>\n",
       "      <td>0</td>\n",
       "      <td>0</td>\n",
       "      <td>109</td>\n",
       "      <td>-1</td>\n",
       "    </tr>\n",
       "    <tr>\n",
       "      <th>93043</th>\n",
       "      <td>197906P001199</td>\n",
       "      <td>1</td>\n",
       "      <td>1</td>\n",
       "      <td>1</td>\n",
       "      <td>1</td>\n",
       "      <td>7</td>\n",
       "      <td>3</td>\n",
       "      <td>0</td>\n",
       "      <td>0</td>\n",
       "      <td>0</td>\n",
       "      <td>0</td>\n",
       "      <td>0</td>\n",
       "      <td>109</td>\n",
       "      <td>-1</td>\n",
       "    </tr>\n",
       "    <tr>\n",
       "      <th>93044</th>\n",
       "      <td>197906P001202</td>\n",
       "      <td>2</td>\n",
       "      <td>1</td>\n",
       "      <td>1</td>\n",
       "      <td>2</td>\n",
       "      <td>3</td>\n",
       "      <td>3</td>\n",
       "      <td>0</td>\n",
       "      <td>0</td>\n",
       "      <td>0</td>\n",
       "      <td>0</td>\n",
       "      <td>0</td>\n",
       "      <td>1</td>\n",
       "      <td>-1</td>\n",
       "    </tr>\n",
       "  </tbody>\n",
       "</table>\n",
       "<p>46327 rows × 14 columns</p>\n",
       "</div>"
      ],
      "text/plain": [
       "           Acc_Index  Vehicle_Reference  Casualty_Reference  Casualty_Class  \\\n",
       "0      197901A11AD14                  2                   1               1   \n",
       "2      197901A1BFD77                  1                   1               1   \n",
       "4      197901A1BFD77                  2                   3               1   \n",
       "10     197901A1DAK71                  2                   2               1   \n",
       "13     197901A1FBK75                  1                   1               1   \n",
       "...              ...                ...                 ...             ...   \n",
       "93037  197906P001182                  1                   1               1   \n",
       "93039  197906P001183                  1                   2               1   \n",
       "93042  197906P001188                  1                   1               1   \n",
       "93043  197906P001199                  1                   1               1   \n",
       "93044  197906P001202                  2                   1               1   \n",
       "\n",
       "       Gender_of_Casualty  Age_Band_of_Casualty  Casualty_Severity  \\\n",
       "0                       1                    -1                  3   \n",
       "2                       1                     5                  3   \n",
       "4                       1                     6                  3   \n",
       "10                      1                     5                  3   \n",
       "13                      1                     5                  3   \n",
       "...                   ...                   ...                ...   \n",
       "93037                   1                     6                  3   \n",
       "93039                   1                     6                  3   \n",
       "93042                   1                     6                  3   \n",
       "93043                   1                     7                  3   \n",
       "93044                   2                     3                  3   \n",
       "\n",
       "       Pedestrian_Location  Pedestrian_Movement  Car_Passenger  \\\n",
       "0                        0                    0              0   \n",
       "2                        0                    0              0   \n",
       "4                        0                    0              0   \n",
       "10                       0                    0              0   \n",
       "13                       0                    0              0   \n",
       "...                    ...                  ...            ...   \n",
       "93037                    0                    0              0   \n",
       "93039                    0                    0              0   \n",
       "93042                    0                    0              0   \n",
       "93043                    0                    0              0   \n",
       "93044                    0                    0              0   \n",
       "\n",
       "       Bus_or_Coach_Passenger  Pedestrian_Road_Maintenance_Worker  \\\n",
       "0                           0                                   0   \n",
       "2                           0                                   0   \n",
       "4                           0                                   0   \n",
       "10                          0                                   0   \n",
       "13                          0                                   0   \n",
       "...                       ...                                 ...   \n",
       "93037                       0                                   0   \n",
       "93039                       0                                   0   \n",
       "93042                       0                                   0   \n",
       "93043                       0                                   0   \n",
       "93044                       0                                   0   \n",
       "\n",
       "       Casualty_Type  Casualty_Home_Area_Type  \n",
       "0                104                       -1  \n",
       "2                109                       -1  \n",
       "4                109                       -1  \n",
       "10               109                       -1  \n",
       "13               109                       -1  \n",
       "...              ...                      ...  \n",
       "93037            104                       -1  \n",
       "93039            104                       -1  \n",
       "93042            109                       -1  \n",
       "93043            109                       -1  \n",
       "93044              1                       -1  \n",
       "\n",
       "[46327 rows x 14 columns]"
      ]
     },
     "execution_count": 32,
     "metadata": {},
     "output_type": "execute_result"
    }
   ],
   "source": [
    "df2 = df1[df1['Casualty_Class']==1]\n",
    "df2"
   ]
  },
  {
   "cell_type": "code",
   "execution_count": 33,
   "id": "ce8a1c86",
   "metadata": {
    "ExecuteTime": {
     "end_time": "2022-03-08T08:10:47.679288Z",
     "start_time": "2022-03-08T08:10:47.671395Z"
    }
   },
   "outputs": [
    {
     "data": {
      "text/html": [
       "<div>\n",
       "<style scoped>\n",
       "    .dataframe tbody tr th:only-of-type {\n",
       "        vertical-align: middle;\n",
       "    }\n",
       "\n",
       "    .dataframe tbody tr th {\n",
       "        vertical-align: top;\n",
       "    }\n",
       "\n",
       "    .dataframe thead th {\n",
       "        text-align: right;\n",
       "    }\n",
       "</style>\n",
       "<table border=\"1\" class=\"dataframe\">\n",
       "  <thead>\n",
       "    <tr style=\"text-align: right;\">\n",
       "      <th></th>\n",
       "      <th>Casualty_Type</th>\n",
       "    </tr>\n",
       "  </thead>\n",
       "  <tbody>\n",
       "    <tr>\n",
       "      <th>0</th>\n",
       "      <td>104</td>\n",
       "    </tr>\n",
       "    <tr>\n",
       "      <th>2</th>\n",
       "      <td>109</td>\n",
       "    </tr>\n",
       "    <tr>\n",
       "      <th>4</th>\n",
       "      <td>109</td>\n",
       "    </tr>\n",
       "    <tr>\n",
       "      <th>10</th>\n",
       "      <td>109</td>\n",
       "    </tr>\n",
       "    <tr>\n",
       "      <th>13</th>\n",
       "      <td>109</td>\n",
       "    </tr>\n",
       "    <tr>\n",
       "      <th>...</th>\n",
       "      <td>...</td>\n",
       "    </tr>\n",
       "    <tr>\n",
       "      <th>93037</th>\n",
       "      <td>104</td>\n",
       "    </tr>\n",
       "    <tr>\n",
       "      <th>93039</th>\n",
       "      <td>104</td>\n",
       "    </tr>\n",
       "    <tr>\n",
       "      <th>93042</th>\n",
       "      <td>109</td>\n",
       "    </tr>\n",
       "    <tr>\n",
       "      <th>93043</th>\n",
       "      <td>109</td>\n",
       "    </tr>\n",
       "    <tr>\n",
       "      <th>93044</th>\n",
       "      <td>1</td>\n",
       "    </tr>\n",
       "  </tbody>\n",
       "</table>\n",
       "<p>46327 rows × 1 columns</p>\n",
       "</div>"
      ],
      "text/plain": [
       "       Casualty_Type\n",
       "0                104\n",
       "2                109\n",
       "4                109\n",
       "10               109\n",
       "13               109\n",
       "...              ...\n",
       "93037            104\n",
       "93039            104\n",
       "93042            109\n",
       "93043            109\n",
       "93044              1\n",
       "\n",
       "[46327 rows x 1 columns]"
      ]
     },
     "execution_count": 33,
     "metadata": {},
     "output_type": "execute_result"
    }
   ],
   "source": [
    "df_driver = df2[['Casualty_Type']]\n",
    "df_driver"
   ]
  },
  {
   "cell_type": "code",
   "execution_count": 34,
   "id": "26a4beb9",
   "metadata": {
    "ExecuteTime": {
     "end_time": "2022-03-08T08:10:48.542137Z",
     "start_time": "2022-03-08T08:10:48.536156Z"
    }
   },
   "outputs": [
    {
     "data": {
      "text/plain": [
       "109    21469\n",
       "104    12802\n",
       "1       6502\n",
       "2       2243\n",
       "19      1858\n",
       "113      569\n",
       "103      222\n",
       "90       220\n",
       "108      210\n",
       "11       164\n",
       "110       44\n",
       "105       24\n",
       "Name: Casualty_Type, dtype: int64"
      ]
     },
     "execution_count": 34,
     "metadata": {},
     "output_type": "execute_result"
    }
   ],
   "source": [
    "df_driver['Casualty_Type'].value_counts()"
   ]
  },
  {
   "cell_type": "markdown",
   "id": "06dd2d34",
   "metadata": {},
   "source": [
    "- 가장 많이 당하는 사고는 109번인 개인용 렌트카 포함으로 21469건이다.\n",
    "- 두번쨰로 많이 당하는 사고는 104번인 오토바이 라이더 또는 승객으로 12802건이다."
   ]
  },
  {
   "cell_type": "code",
   "execution_count": null,
   "id": "c2313a13",
   "metadata": {},
   "outputs": [],
   "source": []
  }
 ],
 "metadata": {
  "kernelspec": {
   "display_name": "Python 3 (ipykernel)",
   "language": "python",
   "name": "python3"
  },
  "language_info": {
   "codemirror_mode": {
    "name": "ipython",
    "version": 3
   },
   "file_extension": ".py",
   "mimetype": "text/x-python",
   "name": "python",
   "nbconvert_exporter": "python",
   "pygments_lexer": "ipython3",
   "version": "3.8.8"
  },
  "toc": {
   "base_numbering": 1,
   "nav_menu": {},
   "number_sections": true,
   "sideBar": true,
   "skip_h1_title": false,
   "title_cell": "Table of Contents",
   "title_sidebar": "Contents",
   "toc_cell": false,
   "toc_position": {},
   "toc_section_display": true,
   "toc_window_display": false
  }
 },
 "nbformat": 4,
 "nbformat_minor": 5
}
