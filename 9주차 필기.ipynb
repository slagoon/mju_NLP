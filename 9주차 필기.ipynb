{
 "cells": [
  {
   "cell_type": "markdown",
   "id": "218e66cc",
   "metadata": {},
   "source": [
    "# 리뷰의 긍부정을 분류하는 모델을 만들기"
   ]
  },
  {
   "cell_type": "markdown",
   "id": "9ec630a2",
   "metadata": {},
   "source": [
    "## 네이버 영화에서 리뷰를 평점과 함께 크롤링"
   ]
  },
  {
   "cell_type": "code",
   "execution_count": 1,
   "id": "2d693ad5",
   "metadata": {
    "ExecuteTime": {
     "end_time": "2022-04-28T11:29:41.972553Z",
     "start_time": "2022-04-28T11:29:41.328193Z"
    }
   },
   "outputs": [],
   "source": [
    "import requests\n",
    "import pandas as pd\n",
    "from bs4 import BeautifulSoup\n",
    "import re"
   ]
  },
  {
   "cell_type": "code",
   "execution_count": 2,
   "id": "815a7d91",
   "metadata": {
    "ExecuteTime": {
     "end_time": "2022-04-28T11:29:51.404216Z",
     "start_time": "2022-04-28T11:29:41.974624Z"
    }
   },
   "outputs": [],
   "source": [
    "site_pre = 'https://movie.naver.com/movie/bi/mi/pointWriteFormList.naver?code=45290&type=after&isActualPointWriteExecute=false&isMileageSubscriptionAlready=false&isMileageSubscriptionReject=false&page='\n",
    "\n",
    "review=[]\n",
    "rate=[]\n",
    "for i in range(1,100):\n",
    "    site = site_pre + str(i)\n",
    "    res = requests.get(site)\n",
    "    soup = BeautifulSoup(res.content,'html.parser')\n",
    "    \n",
    "    id_list = []\n",
    "    id_pre = '_filtered_ment_'\n",
    "    \n",
    "    for i in range(10):\n",
    "        id_list.append(id_pre+str(i))\n",
    "    \n",
    "    for id in id_list:\n",
    "        review.append(soup.find('span',{'id':id}).get_text().strip())\n",
    "        \n",
    "    rate_list = []\n",
    "    rate_list = (soup.select('div.star_score > em'))\n",
    "    \n",
    "    for r in rate_list:\n",
    "        r = int(re.sub('<.+?>', '',str(r)))\n",
    "        rate.append(r)"
   ]
  },
  {
   "cell_type": "code",
   "execution_count": 3,
   "id": "238a0af5",
   "metadata": {
    "ExecuteTime": {
     "end_time": "2022-04-28T11:29:51.434550Z",
     "start_time": "2022-04-28T11:29:51.406129Z"
    }
   },
   "outputs": [
    {
     "data": {
      "text/html": [
       "<div>\n",
       "<style scoped>\n",
       "    .dataframe tbody tr th:only-of-type {\n",
       "        vertical-align: middle;\n",
       "    }\n",
       "\n",
       "    .dataframe tbody tr th {\n",
       "        vertical-align: top;\n",
       "    }\n",
       "\n",
       "    .dataframe thead th {\n",
       "        text-align: right;\n",
       "    }\n",
       "</style>\n",
       "<table border=\"1\" class=\"dataframe\">\n",
       "  <thead>\n",
       "    <tr style=\"text-align: right;\">\n",
       "      <th></th>\n",
       "      <th>review</th>\n",
       "      <th>rate</th>\n",
       "    </tr>\n",
       "  </thead>\n",
       "  <tbody>\n",
       "    <tr>\n",
       "      <th>0</th>\n",
       "      <td>인셉션은 대단하다 느꼈는데, 인터스텔라는 경이롭다고 느껴진다.</td>\n",
       "      <td>10</td>\n",
       "    </tr>\n",
       "    <tr>\n",
       "      <th>1</th>\n",
       "      <td>결론만 말하자면 대박이다 더이상 어떤단어로 칭찬해야하는지도모르겠다.약 3시간의 긴러...</td>\n",
       "      <td>10</td>\n",
       "    </tr>\n",
       "    <tr>\n",
       "      <th>2</th>\n",
       "      <td>전율과 환희의 169분이였다. 그 어떤 영화도 시도한 적 없는 명석함과 감동이 담겨...</td>\n",
       "      <td>10</td>\n",
       "    </tr>\n",
       "    <tr>\n",
       "      <th>3</th>\n",
       "      <td>이 영화가 명량이나 도둑들보다 관객수가 적다면 진짜 부끄러울듯</td>\n",
       "      <td>10</td>\n",
       "    </tr>\n",
       "    <tr>\n",
       "      <th>4</th>\n",
       "      <td>팝콘, 콜라 사가지 마라.. 먹을시간 없다</td>\n",
       "      <td>10</td>\n",
       "    </tr>\n",
       "    <tr>\n",
       "      <th>...</th>\n",
       "      <td>...</td>\n",
       "      <td>...</td>\n",
       "    </tr>\n",
       "    <tr>\n",
       "      <th>985</th>\n",
       "      <td>나에게 있어 러닝타임을 30분으로 만들어낸 시각적 예술작품 그 자체이다.</td>\n",
       "      <td>10</td>\n",
       "    </tr>\n",
       "    <tr>\n",
       "      <th>986</th>\n",
       "      <td>정말 감동적이고 재밌네요</td>\n",
       "      <td>10</td>\n",
       "    </tr>\n",
       "    <tr>\n",
       "      <th>987</th>\n",
       "      <td>최고이 영화를 극장에서 봤다는게 자랑스럽다</td>\n",
       "      <td>10</td>\n",
       "    </tr>\n",
       "    <tr>\n",
       "      <th>988</th>\n",
       "      <td>간만에 본 수작이네요 ㄷㄷㄷ</td>\n",
       "      <td>10</td>\n",
       "    </tr>\n",
       "    <tr>\n",
       "      <th>989</th>\n",
       "      <td>내가본영화중에최고!!</td>\n",
       "      <td>10</td>\n",
       "    </tr>\n",
       "  </tbody>\n",
       "</table>\n",
       "<p>990 rows × 2 columns</p>\n",
       "</div>"
      ],
      "text/plain": [
       "                                                review  rate\n",
       "0                   인셉션은 대단하다 느꼈는데, 인터스텔라는 경이롭다고 느껴진다.    10\n",
       "1    결론만 말하자면 대박이다 더이상 어떤단어로 칭찬해야하는지도모르겠다.약 3시간의 긴러...    10\n",
       "2    전율과 환희의 169분이였다. 그 어떤 영화도 시도한 적 없는 명석함과 감동이 담겨...    10\n",
       "3                   이 영화가 명량이나 도둑들보다 관객수가 적다면 진짜 부끄러울듯    10\n",
       "4                              팝콘, 콜라 사가지 마라.. 먹을시간 없다    10\n",
       "..                                                 ...   ...\n",
       "985           나에게 있어 러닝타임을 30분으로 만들어낸 시각적 예술작품 그 자체이다.    10\n",
       "986                                      정말 감동적이고 재밌네요    10\n",
       "987                            최고이 영화를 극장에서 봤다는게 자랑스럽다    10\n",
       "988                                    간만에 본 수작이네요 ㄷㄷㄷ    10\n",
       "989                                        내가본영화중에최고!!    10\n",
       "\n",
       "[990 rows x 2 columns]"
      ]
     },
     "execution_count": 3,
     "metadata": {},
     "output_type": "execute_result"
    }
   ],
   "source": [
    "df = pd.DataFrame({'review':review,'rate':rate})\n",
    "df"
   ]
  },
  {
   "cell_type": "code",
   "execution_count": 4,
   "id": "c75618f2",
   "metadata": {
    "ExecuteTime": {
     "end_time": "2022-04-28T11:30:38.172240Z",
     "start_time": "2022-04-28T11:29:51.436433Z"
    }
   },
   "outputs": [],
   "source": [
    "pres = ['https://movie.naver.com/movie/bi/mi/pointWriteFormList.naver?code=45290&type=after&onlyActualPointYn=N&onlySpoilerPointYn=N&order=highest&page=',\n",
    "        'https://movie.naver.com/movie/bi/mi/pointWriteFormList.naver?code=45290&type=after&onlyActualPointYn=N&onlySpoilerPointYn=N&order=lowest&page=']\n",
    "\n",
    "review=[]\n",
    "rate=[]\n",
    "target=[]\n",
    "for pre in pres:\n",
    "    for i in range(1,200):\n",
    "        site = pre + str(i)\n",
    "        res = requests.get(site)\n",
    "        soup = BeautifulSoup(res.content,'html.parser')\n",
    "    \n",
    "        id_list = []\n",
    "        id_pre = '_filtered_ment_'\n",
    "    \n",
    "        for i in range(10):\n",
    "            id_list.append(id_pre+str(i))\n",
    "    \n",
    "        for id in id_list:\n",
    "            review.append(soup.find('span',{'id':id}).get_text().strip())\n",
    "        \n",
    "        rate_list = []\n",
    "        rate_list = (soup.select('div.star_score > em'))\n",
    "    \n",
    "        for r in rate_list:\n",
    "            r = int(re.sub('<.+?>', '',str(r)))\n",
    "            rate.append(r)\n",
    "            if r>8:\n",
    "                target.append(1)\n",
    "            elif r<=4:\n",
    "                target.append(0)\n",
    "            else:\n",
    "                target.append(-1)"
   ]
  },
  {
   "cell_type": "code",
   "execution_count": 5,
   "id": "06aa58a6",
   "metadata": {
    "ExecuteTime": {
     "end_time": "2022-04-28T11:30:38.187267Z",
     "start_time": "2022-04-28T11:30:38.174129Z"
    }
   },
   "outputs": [
    {
     "data": {
      "text/html": [
       "<div>\n",
       "<style scoped>\n",
       "    .dataframe tbody tr th:only-of-type {\n",
       "        vertical-align: middle;\n",
       "    }\n",
       "\n",
       "    .dataframe tbody tr th {\n",
       "        vertical-align: top;\n",
       "    }\n",
       "\n",
       "    .dataframe thead th {\n",
       "        text-align: right;\n",
       "    }\n",
       "</style>\n",
       "<table border=\"1\" class=\"dataframe\">\n",
       "  <thead>\n",
       "    <tr style=\"text-align: right;\">\n",
       "      <th></th>\n",
       "      <th>review</th>\n",
       "      <th>rate</th>\n",
       "      <th>target</th>\n",
       "    </tr>\n",
       "  </thead>\n",
       "  <tbody>\n",
       "    <tr>\n",
       "      <th>0</th>\n",
       "      <td></td>\n",
       "      <td>10</td>\n",
       "      <td>1</td>\n",
       "    </tr>\n",
       "    <tr>\n",
       "      <th>1</th>\n",
       "      <td></td>\n",
       "      <td>10</td>\n",
       "      <td>1</td>\n",
       "    </tr>\n",
       "    <tr>\n",
       "      <th>2</th>\n",
       "      <td>내 인생 최고의 영화.딱 이거임</td>\n",
       "      <td>10</td>\n",
       "      <td>1</td>\n",
       "    </tr>\n",
       "    <tr>\n",
       "      <th>3</th>\n",
       "      <td>내 인생영화다 진짜 재개봉 했으면…</td>\n",
       "      <td>10</td>\n",
       "      <td>1</td>\n",
       "    </tr>\n",
       "    <tr>\n",
       "      <th>4</th>\n",
       "      <td>모든것을 뛰어넘은 명작</td>\n",
       "      <td>10</td>\n",
       "      <td>1</td>\n",
       "    </tr>\n",
       "    <tr>\n",
       "      <th>...</th>\n",
       "      <td>...</td>\n",
       "      <td>...</td>\n",
       "      <td>...</td>\n",
       "    </tr>\n",
       "    <tr>\n",
       "      <th>3975</th>\n",
       "      <td>난해하고 억지스럽다. 이영화가 왜 이렇게 흥행하는지 이해할 수 없다. 사랑의 힘으로...</td>\n",
       "      <td>3</td>\n",
       "      <td>0</td>\n",
       "    </tr>\n",
       "    <tr>\n",
       "      <th>3976</th>\n",
       "      <td>이해력이  낮아  이해못했음</td>\n",
       "      <td>3</td>\n",
       "      <td>0</td>\n",
       "    </tr>\n",
       "    <tr>\n",
       "      <th>3977</th>\n",
       "      <td>심야시간에 보았다 + 졸렸다+볼거리 없다 왜케 평점이 높은건지 이해가 안간다(알바들...</td>\n",
       "      <td>3</td>\n",
       "      <td>0</td>\n",
       "    </tr>\n",
       "    <tr>\n",
       "      <th>3978</th>\n",
       "      <td>너무 기대를 해서 그런지....별로라는 생각이 드네요...약간 지루했습니다..</td>\n",
       "      <td>3</td>\n",
       "      <td>0</td>\n",
       "    </tr>\n",
       "    <tr>\n",
       "      <th>3979</th>\n",
       "      <td>하여간 한국인들 허세는 알아줘야해 ㅋㅋ 이영화 재미없다고 세상이 다인정했는데 한국만...</td>\n",
       "      <td>3</td>\n",
       "      <td>0</td>\n",
       "    </tr>\n",
       "  </tbody>\n",
       "</table>\n",
       "<p>3980 rows × 3 columns</p>\n",
       "</div>"
      ],
      "text/plain": [
       "                                                 review  rate  target\n",
       "0                                                          10       1\n",
       "1                                                          10       1\n",
       "2                                     내 인생 최고의 영화.딱 이거임    10       1\n",
       "3                                   내 인생영화다 진짜 재개봉 했으면…    10       1\n",
       "4                                          모든것을 뛰어넘은 명작    10       1\n",
       "...                                                 ...   ...     ...\n",
       "3975  난해하고 억지스럽다. 이영화가 왜 이렇게 흥행하는지 이해할 수 없다. 사랑의 힘으로...     3       0\n",
       "3976                                    이해력이  낮아  이해못했음     3       0\n",
       "3977  심야시간에 보았다 + 졸렸다+볼거리 없다 왜케 평점이 높은건지 이해가 안간다(알바들...     3       0\n",
       "3978        너무 기대를 해서 그런지....별로라는 생각이 드네요...약간 지루했습니다..     3       0\n",
       "3979  하여간 한국인들 허세는 알아줘야해 ㅋㅋ 이영화 재미없다고 세상이 다인정했는데 한국만...     3       0\n",
       "\n",
       "[3980 rows x 3 columns]"
      ]
     },
     "execution_count": 5,
     "metadata": {},
     "output_type": "execute_result"
    }
   ],
   "source": [
    "df2 = pd.DataFrame({'review':review,'rate':rate,'target':target})\n",
    "df2"
   ]
  },
  {
   "cell_type": "code",
   "execution_count": 6,
   "id": "cc9614f4",
   "metadata": {
    "ExecuteTime": {
     "end_time": "2022-04-28T11:30:38.202189Z",
     "start_time": "2022-04-28T11:30:38.189203Z"
    }
   },
   "outputs": [
    {
     "data": {
      "text/plain": [
       "array([10,  1,  2,  3], dtype=int64)"
      ]
     },
     "execution_count": 6,
     "metadata": {},
     "output_type": "execute_result"
    }
   ],
   "source": [
    "df2.rate.unique()"
   ]
  },
  {
   "cell_type": "markdown",
   "id": "12357f5e",
   "metadata": {},
   "source": [
    "## 트레이닝/테스트 셋 분리"
   ]
  },
  {
   "cell_type": "code",
   "execution_count": 7,
   "id": "3748f23a",
   "metadata": {
    "ExecuteTime": {
     "end_time": "2022-04-28T11:30:38.760616Z",
     "start_time": "2022-04-28T11:30:38.203186Z"
    }
   },
   "outputs": [],
   "source": [
    "from sklearn.model_selection import train_test_split\n",
    "\n",
    "train_x, test_x, train_y, test_y = train_test_split(review, target, test_size=0.2, random_state=0)"
   ]
  },
  {
   "cell_type": "code",
   "execution_count": 8,
   "id": "b1468f67",
   "metadata": {
    "ExecuteTime": {
     "end_time": "2022-04-28T11:30:38.775639Z",
     "start_time": "2022-04-28T11:30:38.762536Z"
    }
   },
   "outputs": [
    {
     "data": {
      "text/plain": [
       "(3184, 3184)"
      ]
     },
     "execution_count": 8,
     "metadata": {},
     "output_type": "execute_result"
    }
   ],
   "source": [
    "len(train_x), len(train_y)"
   ]
  },
  {
   "cell_type": "code",
   "execution_count": 9,
   "id": "71a709f4",
   "metadata": {
    "ExecuteTime": {
     "end_time": "2022-04-28T11:30:38.790688Z",
     "start_time": "2022-04-28T11:30:38.778624Z"
    }
   },
   "outputs": [
    {
     "data": {
      "text/plain": [
       "(796, 796)"
      ]
     },
     "execution_count": 9,
     "metadata": {},
     "output_type": "execute_result"
    }
   ],
   "source": [
    "len(test_x), len(test_y)"
   ]
  },
  {
   "cell_type": "markdown",
   "id": "83ead9e6",
   "metadata": {},
   "source": [
    "- 텍스트 데이터를 정량적인 데이터로 변환해줘야 함"
   ]
  },
  {
   "cell_type": "markdown",
   "id": "15cdc782",
   "metadata": {},
   "source": [
    "## 학습(적합)과 성능평가"
   ]
  },
  {
   "cell_type": "code",
   "execution_count": 10,
   "id": "88fd16de",
   "metadata": {
    "ExecuteTime": {
     "end_time": "2022-04-28T11:30:50.605490Z",
     "start_time": "2022-04-28T11:30:38.792689Z"
    }
   },
   "outputs": [
    {
     "name": "stderr",
     "output_type": "stream",
     "text": [
      "C:\\Users\\alsgu\\anaconda3\\lib\\site-packages\\sklearn\\feature_extraction\\text.py:516: UserWarning: The parameter 'token_pattern' will not be used since 'tokenizer' is not None'\n",
      "  warnings.warn(\n"
     ]
    },
    {
     "data": {
      "text/plain": [
       "<3184x4900 sparse matrix of type '<class 'numpy.float64'>'\n",
       "\twith 61251 stored elements in Compressed Sparse Row format>"
      ]
     },
     "execution_count": 10,
     "metadata": {},
     "output_type": "execute_result"
    }
   ],
   "source": [
    "#텍스트 데이터의 벡터화\n",
    "\n",
    "from konlpy.tag import Okt\n",
    "from sklearn.feature_extraction.text import TfidfVectorizer\n",
    "\n",
    "okt = Okt()\n",
    "tfv = TfidfVectorizer(tokenizer=okt.morphs, ngram_range=(1,2), min_df=3, max_df = 0.9)\n",
    "tfv.fit(train_x)\n",
    "\n",
    "tfv_train_x = tfv.transform(train_x)\n",
    "tfv_train_x"
   ]
  },
  {
   "cell_type": "code",
   "execution_count": 11,
   "id": "00f78e50",
   "metadata": {
    "ExecuteTime": {
     "end_time": "2022-04-28T11:30:51.477857Z",
     "start_time": "2022-04-28T11:30:50.606576Z"
    }
   },
   "outputs": [
    {
     "name": "stdout",
     "output_type": "stream",
     "text": [
      "Fitting 4 folds for each of 5 candidates, totalling 20 fits\n"
     ]
    },
    {
     "data": {
      "text/plain": [
       "GridSearchCV(cv=4, estimator=LogisticRegression(random_state=0),\n",
       "             param_grid={'C': [1, 3, 5, 7, 9]}, scoring='accuracy', verbose=1)"
      ]
     },
     "execution_count": 11,
     "metadata": {},
     "output_type": "execute_result"
    }
   ],
   "source": [
    "# 로지스틱회귀모형으로 모델 적합\n",
    "\n",
    "from sklearn.linear_model import LogisticRegression\n",
    "from sklearn.model_selection import GridSearchCV\n",
    "\n",
    "clf = LogisticRegression(random_state=0)\n",
    "params = {'C':[1,3,5,7,9]}\n",
    "grid_cv = GridSearchCV(clf, param_grid=params, cv = 4, scoring='accuracy', verbose=1)\n",
    "grid_cv.fit(tfv_train_x, train_y)"
   ]
  },
  {
   "cell_type": "code",
   "execution_count": 13,
   "id": "386fcf84",
   "metadata": {
    "ExecuteTime": {
     "end_time": "2022-04-28T11:31:00.935140Z",
     "start_time": "2022-04-28T11:30:59.331603Z"
    }
   },
   "outputs": [
    {
     "data": {
      "text/plain": [
       "0.907035175879397"
      ]
     },
     "execution_count": 13,
     "metadata": {},
     "output_type": "execute_result"
    }
   ],
   "source": [
    "#테스트 데이터를 통한 예측 정확도 산출\n",
    "tfv_test_x = tfv.transform(test_x)\n",
    "grid_cv.best_estimator_.score(tfv_test_x,test_y)"
   ]
  },
  {
   "cell_type": "code",
   "execution_count": 25,
   "id": "dc244b96",
   "metadata": {
    "ExecuteTime": {
     "end_time": "2022-04-28T11:33:03.961778Z",
     "start_time": "2022-04-28T11:32:53.321320Z"
    }
   },
   "outputs": [
    {
     "name": "stdout",
     "output_type": "stream",
     "text": [
      "일상의 고단함을 잊게 해주었던 인생영화\n",
      "<class 'scipy.sparse.csr.csr_matrix'>\n",
      "<class 'scipy.sparse.csr.csr_matrix'>\n",
      "긍정 리뷰\n"
     ]
    }
   ],
   "source": [
    "# 영화리뷰에 대한 긍부정분류\n",
    "my_review = tfv.transform([input()])\n",
    "print(type(my_review))\n",
    "if(grid_cv.best_estimator_.predict(my_review)):\n",
    "    print(type(my_review))\n",
    "    print('긍정 리뷰')\n",
    "else:\n",
    "    print(type(my_review))\n",
    "    print('부정 리뷰')"
   ]
  },
  {
   "cell_type": "code",
   "execution_count": null,
   "id": "c0f36493",
   "metadata": {},
   "outputs": [],
   "source": []
  },
  {
   "cell_type": "code",
   "execution_count": null,
   "id": "6b3b46a1",
   "metadata": {},
   "outputs": [],
   "source": []
  }
 ],
 "metadata": {
  "kernelspec": {
   "display_name": "Python 3 (ipykernel)",
   "language": "python",
   "name": "python3"
  },
  "language_info": {
   "codemirror_mode": {
    "name": "ipython",
    "version": 3
   },
   "file_extension": ".py",
   "mimetype": "text/x-python",
   "name": "python",
   "nbconvert_exporter": "python",
   "pygments_lexer": "ipython3",
   "version": "3.8.8"
  },
  "toc": {
   "base_numbering": 1,
   "nav_menu": {},
   "number_sections": true,
   "sideBar": true,
   "skip_h1_title": false,
   "title_cell": "Table of Contents",
   "title_sidebar": "Contents",
   "toc_cell": false,
   "toc_position": {},
   "toc_section_display": true,
   "toc_window_display": false
  }
 },
 "nbformat": 4,
 "nbformat_minor": 5
}
