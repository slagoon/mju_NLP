{
 "cells": [
  {
   "cell_type": "markdown",
   "id": "22cc00e8",
   "metadata": {},
   "source": [
    "# 7주차 과제\n",
    "- 60171100 윤민혁"
   ]
  },
  {
   "cell_type": "markdown",
   "id": "016fad47",
   "metadata": {},
   "source": [
    "## 단톡방 과제 1"
   ]
  },
  {
   "cell_type": "code",
   "execution_count": 2,
   "id": "5f636d2b",
   "metadata": {
    "ExecuteTime": {
     "end_time": "2022-04-17T04:16:35.491293Z",
     "start_time": "2022-04-17T04:16:35.484246Z"
    }
   },
   "outputs": [],
   "source": [
    "import re"
   ]
  },
  {
   "cell_type": "code",
   "execution_count": 3,
   "id": "a03b798c",
   "metadata": {
    "ExecuteTime": {
     "end_time": "2022-04-17T04:16:35.506248Z",
     "start_time": "2022-04-17T04:16:35.493253Z"
    }
   },
   "outputs": [
    {
     "name": "stdout",
     "output_type": "stream",
     "text": [
      "['Spider man', 'Super man']\n",
      "['Iron man', 'Ultron']\n"
     ]
    }
   ],
   "source": [
    "pattern = re.compile(' vs. ')\n",
    "splited = pattern.split('Spider man vs. Super man')\n",
    "splited2 = pattern.split('Iron man vs. Ultron')\n",
    "print(splited)\n",
    "print(splited2)"
   ]
  },
  {
   "cell_type": "markdown",
   "id": "b21b7b3a",
   "metadata": {},
   "source": [
    "## 단톡방 과제 2"
   ]
  },
  {
   "cell_type": "code",
   "execution_count": 4,
   "id": "ab146833",
   "metadata": {
    "ExecuteTime": {
     "end_time": "2022-04-17T04:16:35.521318Z",
     "start_time": "2022-04-17T04:16:35.508253Z"
    },
    "scrolled": true
   },
   "outputs": [
    {
     "name": "stdout",
     "output_type": "stream",
     "text": [
      "23140104296081\n",
      "3010173716502\n"
     ]
    }
   ],
   "source": [
    "account1 = 'KB 231401-04-296081'\n",
    "account2 = 'NH 301-0173-716502'\n",
    "\n",
    "pat = re.compile('[^0-9]')\n",
    "print(pat.sub('',account1))\n",
    "print(pat.sub('',account2))"
   ]
  },
  {
   "cell_type": "markdown",
   "id": "b8f711a1",
   "metadata": {},
   "source": [
    "# 7주차 개인톡 과제\n",
    "- 60171100 윤민혁"
   ]
  },
  {
   "cell_type": "markdown",
   "id": "4a26ecd6",
   "metadata": {},
   "source": [
    "## 과제 1\n",
    "- 학번에서 입학년도만 **으로 변경하기 (정규 표현식 사용)"
   ]
  },
  {
   "cell_type": "code",
   "execution_count": 5,
   "id": "2dcb774b",
   "metadata": {
    "ExecuteTime": {
     "end_time": "2022-04-17T04:16:35.536246Z",
     "start_time": "2022-04-17T04:16:35.524246Z"
    }
   },
   "outputs": [],
   "source": [
    "import re"
   ]
  },
  {
   "cell_type": "code",
   "execution_count": 6,
   "id": "a09da29a",
   "metadata": {
    "ExecuteTime": {
     "end_time": "2022-04-17T04:16:35.551321Z",
     "start_time": "2022-04-17T04:16:35.538246Z"
    }
   },
   "outputs": [
    {
     "name": "stdout",
     "output_type": "stream",
     "text": [
      "\n",
      "60**1234\n",
      "60**3456\n",
      "\n"
     ]
    }
   ],
   "source": [
    "student_number = '''\n",
    "60191234\n",
    "60163456\n",
    "'''\n",
    "pat = re.compile('(\\d{2})(\\d{2})(\\d{4})')\n",
    "print(pat.sub('\\g<1>**\\g<3>',student_number))"
   ]
  },
  {
   "cell_type": "markdown",
   "id": "73b52d1b",
   "metadata": {},
   "source": [
    "## 7주차 개인톡 과제 2\n",
    "- 60171100 윤민혁\n",
    "- 비번인증 만들기(대문자, 소문자, 숫자, 특수기호(#, @, &) 각각 하나 이상 포함, 전체 8글자 이상 13자리 미만)"
   ]
  },
  {
   "cell_type": "code",
   "execution_count": 7,
   "id": "11696564",
   "metadata": {
    "ExecuteTime": {
     "end_time": "2022-04-17T04:16:37.739057Z",
     "start_time": "2022-04-17T04:16:35.552484Z"
    }
   },
   "outputs": [
    {
     "name": "stdout",
     "output_type": "stream",
     "text": [
      "숫자를 입력하시오: wefkjs\n",
      "부적합\n"
     ]
    }
   ],
   "source": [
    "passward = (input('숫자를 입력하시오: '))\n",
    "pat1 = re.compile('[A-Z]')\n",
    "pat2 = re.compile('[a-z]')\n",
    "pat3 = re.compile('[0-9]')\n",
    "pat4 = re.compile('[#@&]')\n",
    "if (len(passward) >= 8) & (len(passward) < 13):\n",
    "    if  pat1.findall(passward) and pat2.findall(passward) and pat3.findall(passward) and pat4.findall(passward):\n",
    "        print('적합')\n",
    "    else:\n",
    "        print('부적합')\n",
    "else:\n",
    "    print('부적합')"
   ]
  },
  {
   "cell_type": "markdown",
   "id": "2474f92f",
   "metadata": {},
   "source": [
    "## 7주차 개인톡 과제 3\n",
    "- 60171100 윤민혁\n",
    "- Mr은 남성, Miss는 미혼여성, Mrs는 기혼여성 나머지는 기타로 분류"
   ]
  },
  {
   "cell_type": "code",
   "execution_count": 8,
   "id": "047f5da6",
   "metadata": {
    "ExecuteTime": {
     "end_time": "2022-04-17T04:16:38.451408Z",
     "start_time": "2022-04-17T04:16:37.740983Z"
    }
   },
   "outputs": [],
   "source": [
    "import pandas as pd\n",
    "import numpy as np"
   ]
  },
  {
   "cell_type": "code",
   "execution_count": 9,
   "id": "e913fafa",
   "metadata": {
    "ExecuteTime": {
     "end_time": "2022-04-17T04:16:38.497060Z",
     "start_time": "2022-04-17T04:16:38.453414Z"
    },
    "scrolled": false
   },
   "outputs": [
    {
     "data": {
      "text/html": [
       "<div>\n",
       "<style scoped>\n",
       "    .dataframe tbody tr th:only-of-type {\n",
       "        vertical-align: middle;\n",
       "    }\n",
       "\n",
       "    .dataframe tbody tr th {\n",
       "        vertical-align: top;\n",
       "    }\n",
       "\n",
       "    .dataframe thead th {\n",
       "        text-align: right;\n",
       "    }\n",
       "</style>\n",
       "<table border=\"1\" class=\"dataframe\">\n",
       "  <thead>\n",
       "    <tr style=\"text-align: right;\">\n",
       "      <th></th>\n",
       "      <th>PassengerId</th>\n",
       "      <th>Survived</th>\n",
       "      <th>Pclass</th>\n",
       "      <th>Name</th>\n",
       "      <th>Sex</th>\n",
       "      <th>Age</th>\n",
       "      <th>SibSp</th>\n",
       "      <th>Parch</th>\n",
       "      <th>Ticket</th>\n",
       "      <th>Fare</th>\n",
       "      <th>Cabin</th>\n",
       "      <th>Embarked</th>\n",
       "    </tr>\n",
       "  </thead>\n",
       "  <tbody>\n",
       "    <tr>\n",
       "      <th>0</th>\n",
       "      <td>1</td>\n",
       "      <td>0</td>\n",
       "      <td>3</td>\n",
       "      <td>Braund, Mr. Owen Harris</td>\n",
       "      <td>male</td>\n",
       "      <td>22.0</td>\n",
       "      <td>1</td>\n",
       "      <td>0</td>\n",
       "      <td>A/5 21171</td>\n",
       "      <td>7.2500</td>\n",
       "      <td>NaN</td>\n",
       "      <td>S</td>\n",
       "    </tr>\n",
       "    <tr>\n",
       "      <th>1</th>\n",
       "      <td>2</td>\n",
       "      <td>1</td>\n",
       "      <td>1</td>\n",
       "      <td>Cumings, Mrs. John Bradley (Florence Briggs Th...</td>\n",
       "      <td>female</td>\n",
       "      <td>38.0</td>\n",
       "      <td>1</td>\n",
       "      <td>0</td>\n",
       "      <td>PC 17599</td>\n",
       "      <td>71.2833</td>\n",
       "      <td>C85</td>\n",
       "      <td>C</td>\n",
       "    </tr>\n",
       "    <tr>\n",
       "      <th>2</th>\n",
       "      <td>3</td>\n",
       "      <td>1</td>\n",
       "      <td>3</td>\n",
       "      <td>Heikkinen, Miss. Laina</td>\n",
       "      <td>female</td>\n",
       "      <td>26.0</td>\n",
       "      <td>0</td>\n",
       "      <td>0</td>\n",
       "      <td>STON/O2. 3101282</td>\n",
       "      <td>7.9250</td>\n",
       "      <td>NaN</td>\n",
       "      <td>S</td>\n",
       "    </tr>\n",
       "    <tr>\n",
       "      <th>3</th>\n",
       "      <td>4</td>\n",
       "      <td>1</td>\n",
       "      <td>1</td>\n",
       "      <td>Futrelle, Mrs. Jacques Heath (Lily May Peel)</td>\n",
       "      <td>female</td>\n",
       "      <td>35.0</td>\n",
       "      <td>1</td>\n",
       "      <td>0</td>\n",
       "      <td>113803</td>\n",
       "      <td>53.1000</td>\n",
       "      <td>C123</td>\n",
       "      <td>S</td>\n",
       "    </tr>\n",
       "    <tr>\n",
       "      <th>4</th>\n",
       "      <td>5</td>\n",
       "      <td>0</td>\n",
       "      <td>3</td>\n",
       "      <td>Allen, Mr. William Henry</td>\n",
       "      <td>male</td>\n",
       "      <td>35.0</td>\n",
       "      <td>0</td>\n",
       "      <td>0</td>\n",
       "      <td>373450</td>\n",
       "      <td>8.0500</td>\n",
       "      <td>NaN</td>\n",
       "      <td>S</td>\n",
       "    </tr>\n",
       "    <tr>\n",
       "      <th>...</th>\n",
       "      <td>...</td>\n",
       "      <td>...</td>\n",
       "      <td>...</td>\n",
       "      <td>...</td>\n",
       "      <td>...</td>\n",
       "      <td>...</td>\n",
       "      <td>...</td>\n",
       "      <td>...</td>\n",
       "      <td>...</td>\n",
       "      <td>...</td>\n",
       "      <td>...</td>\n",
       "      <td>...</td>\n",
       "    </tr>\n",
       "    <tr>\n",
       "      <th>886</th>\n",
       "      <td>887</td>\n",
       "      <td>0</td>\n",
       "      <td>2</td>\n",
       "      <td>Montvila, Rev. Juozas</td>\n",
       "      <td>male</td>\n",
       "      <td>27.0</td>\n",
       "      <td>0</td>\n",
       "      <td>0</td>\n",
       "      <td>211536</td>\n",
       "      <td>13.0000</td>\n",
       "      <td>NaN</td>\n",
       "      <td>S</td>\n",
       "    </tr>\n",
       "    <tr>\n",
       "      <th>887</th>\n",
       "      <td>888</td>\n",
       "      <td>1</td>\n",
       "      <td>1</td>\n",
       "      <td>Graham, Miss. Margaret Edith</td>\n",
       "      <td>female</td>\n",
       "      <td>19.0</td>\n",
       "      <td>0</td>\n",
       "      <td>0</td>\n",
       "      <td>112053</td>\n",
       "      <td>30.0000</td>\n",
       "      <td>B42</td>\n",
       "      <td>S</td>\n",
       "    </tr>\n",
       "    <tr>\n",
       "      <th>888</th>\n",
       "      <td>889</td>\n",
       "      <td>0</td>\n",
       "      <td>3</td>\n",
       "      <td>Johnston, Miss. Catherine Helen \"Carrie\"</td>\n",
       "      <td>female</td>\n",
       "      <td>NaN</td>\n",
       "      <td>1</td>\n",
       "      <td>2</td>\n",
       "      <td>W./C. 6607</td>\n",
       "      <td>23.4500</td>\n",
       "      <td>NaN</td>\n",
       "      <td>S</td>\n",
       "    </tr>\n",
       "    <tr>\n",
       "      <th>889</th>\n",
       "      <td>890</td>\n",
       "      <td>1</td>\n",
       "      <td>1</td>\n",
       "      <td>Behr, Mr. Karl Howell</td>\n",
       "      <td>male</td>\n",
       "      <td>26.0</td>\n",
       "      <td>0</td>\n",
       "      <td>0</td>\n",
       "      <td>111369</td>\n",
       "      <td>30.0000</td>\n",
       "      <td>C148</td>\n",
       "      <td>C</td>\n",
       "    </tr>\n",
       "    <tr>\n",
       "      <th>890</th>\n",
       "      <td>891</td>\n",
       "      <td>0</td>\n",
       "      <td>3</td>\n",
       "      <td>Dooley, Mr. Patrick</td>\n",
       "      <td>male</td>\n",
       "      <td>32.0</td>\n",
       "      <td>0</td>\n",
       "      <td>0</td>\n",
       "      <td>370376</td>\n",
       "      <td>7.7500</td>\n",
       "      <td>NaN</td>\n",
       "      <td>Q</td>\n",
       "    </tr>\n",
       "  </tbody>\n",
       "</table>\n",
       "<p>891 rows × 12 columns</p>\n",
       "</div>"
      ],
      "text/plain": [
       "     PassengerId  Survived  Pclass  \\\n",
       "0              1         0       3   \n",
       "1              2         1       1   \n",
       "2              3         1       3   \n",
       "3              4         1       1   \n",
       "4              5         0       3   \n",
       "..           ...       ...     ...   \n",
       "886          887         0       2   \n",
       "887          888         1       1   \n",
       "888          889         0       3   \n",
       "889          890         1       1   \n",
       "890          891         0       3   \n",
       "\n",
       "                                                  Name     Sex   Age  SibSp  \\\n",
       "0                              Braund, Mr. Owen Harris    male  22.0      1   \n",
       "1    Cumings, Mrs. John Bradley (Florence Briggs Th...  female  38.0      1   \n",
       "2                               Heikkinen, Miss. Laina  female  26.0      0   \n",
       "3         Futrelle, Mrs. Jacques Heath (Lily May Peel)  female  35.0      1   \n",
       "4                             Allen, Mr. William Henry    male  35.0      0   \n",
       "..                                                 ...     ...   ...    ...   \n",
       "886                              Montvila, Rev. Juozas    male  27.0      0   \n",
       "887                       Graham, Miss. Margaret Edith  female  19.0      0   \n",
       "888           Johnston, Miss. Catherine Helen \"Carrie\"  female   NaN      1   \n",
       "889                              Behr, Mr. Karl Howell    male  26.0      0   \n",
       "890                                Dooley, Mr. Patrick    male  32.0      0   \n",
       "\n",
       "     Parch            Ticket     Fare Cabin Embarked  \n",
       "0        0         A/5 21171   7.2500   NaN        S  \n",
       "1        0          PC 17599  71.2833   C85        C  \n",
       "2        0  STON/O2. 3101282   7.9250   NaN        S  \n",
       "3        0            113803  53.1000  C123        S  \n",
       "4        0            373450   8.0500   NaN        S  \n",
       "..     ...               ...      ...   ...      ...  \n",
       "886      0            211536  13.0000   NaN        S  \n",
       "887      0            112053  30.0000   B42        S  \n",
       "888      2        W./C. 6607  23.4500   NaN        S  \n",
       "889      0            111369  30.0000  C148        C  \n",
       "890      0            370376   7.7500   NaN        Q  \n",
       "\n",
       "[891 rows x 12 columns]"
      ]
     },
     "execution_count": 9,
     "metadata": {},
     "output_type": "execute_result"
    }
   ],
   "source": [
    "df = pd.read_csv('./data/train (1).csv')\n",
    "df"
   ]
  },
  {
   "cell_type": "code",
   "execution_count": 10,
   "id": "71dd547d",
   "metadata": {
    "ExecuteTime": {
     "end_time": "2022-04-17T04:16:38.511982Z",
     "start_time": "2022-04-17T04:16:38.499033Z"
    }
   },
   "outputs": [
    {
     "data": {
      "text/html": [
       "<div>\n",
       "<style scoped>\n",
       "    .dataframe tbody tr th:only-of-type {\n",
       "        vertical-align: middle;\n",
       "    }\n",
       "\n",
       "    .dataframe tbody tr th {\n",
       "        vertical-align: top;\n",
       "    }\n",
       "\n",
       "    .dataframe thead th {\n",
       "        text-align: right;\n",
       "    }\n",
       "</style>\n",
       "<table border=\"1\" class=\"dataframe\">\n",
       "  <thead>\n",
       "    <tr style=\"text-align: right;\">\n",
       "      <th></th>\n",
       "      <th>PassengerId</th>\n",
       "      <th>Survived</th>\n",
       "      <th>Name</th>\n",
       "    </tr>\n",
       "  </thead>\n",
       "  <tbody>\n",
       "    <tr>\n",
       "      <th>871</th>\n",
       "      <td>872</td>\n",
       "      <td>1</td>\n",
       "      <td>Beckwith, Mrs. Richard Leonard (Sallie Monypeny)</td>\n",
       "    </tr>\n",
       "    <tr>\n",
       "      <th>872</th>\n",
       "      <td>873</td>\n",
       "      <td>0</td>\n",
       "      <td>Carlsson, Mr. Frans Olof</td>\n",
       "    </tr>\n",
       "    <tr>\n",
       "      <th>873</th>\n",
       "      <td>874</td>\n",
       "      <td>0</td>\n",
       "      <td>Vander Cruyssen, Mr. Victor</td>\n",
       "    </tr>\n",
       "    <tr>\n",
       "      <th>874</th>\n",
       "      <td>875</td>\n",
       "      <td>1</td>\n",
       "      <td>Abelson, Mrs. Samuel (Hannah Wizosky)</td>\n",
       "    </tr>\n",
       "    <tr>\n",
       "      <th>875</th>\n",
       "      <td>876</td>\n",
       "      <td>1</td>\n",
       "      <td>Najib, Miss. Adele Kiamie \"Jane\"</td>\n",
       "    </tr>\n",
       "    <tr>\n",
       "      <th>876</th>\n",
       "      <td>877</td>\n",
       "      <td>0</td>\n",
       "      <td>Gustafsson, Mr. Alfred Ossian</td>\n",
       "    </tr>\n",
       "    <tr>\n",
       "      <th>877</th>\n",
       "      <td>878</td>\n",
       "      <td>0</td>\n",
       "      <td>Petroff, Mr. Nedelio</td>\n",
       "    </tr>\n",
       "    <tr>\n",
       "      <th>878</th>\n",
       "      <td>879</td>\n",
       "      <td>0</td>\n",
       "      <td>Laleff, Mr. Kristo</td>\n",
       "    </tr>\n",
       "    <tr>\n",
       "      <th>879</th>\n",
       "      <td>880</td>\n",
       "      <td>1</td>\n",
       "      <td>Potter, Mrs. Thomas Jr (Lily Alexenia Wilson)</td>\n",
       "    </tr>\n",
       "    <tr>\n",
       "      <th>880</th>\n",
       "      <td>881</td>\n",
       "      <td>1</td>\n",
       "      <td>Shelley, Mrs. William (Imanita Parrish Hall)</td>\n",
       "    </tr>\n",
       "    <tr>\n",
       "      <th>881</th>\n",
       "      <td>882</td>\n",
       "      <td>0</td>\n",
       "      <td>Markun, Mr. Johann</td>\n",
       "    </tr>\n",
       "    <tr>\n",
       "      <th>882</th>\n",
       "      <td>883</td>\n",
       "      <td>0</td>\n",
       "      <td>Dahlberg, Miss. Gerda Ulrika</td>\n",
       "    </tr>\n",
       "    <tr>\n",
       "      <th>883</th>\n",
       "      <td>884</td>\n",
       "      <td>0</td>\n",
       "      <td>Banfield, Mr. Frederick James</td>\n",
       "    </tr>\n",
       "    <tr>\n",
       "      <th>884</th>\n",
       "      <td>885</td>\n",
       "      <td>0</td>\n",
       "      <td>Sutehall, Mr. Henry Jr</td>\n",
       "    </tr>\n",
       "    <tr>\n",
       "      <th>885</th>\n",
       "      <td>886</td>\n",
       "      <td>0</td>\n",
       "      <td>Rice, Mrs. William (Margaret Norton)</td>\n",
       "    </tr>\n",
       "    <tr>\n",
       "      <th>886</th>\n",
       "      <td>887</td>\n",
       "      <td>0</td>\n",
       "      <td>Montvila, Rev. Juozas</td>\n",
       "    </tr>\n",
       "    <tr>\n",
       "      <th>887</th>\n",
       "      <td>888</td>\n",
       "      <td>1</td>\n",
       "      <td>Graham, Miss. Margaret Edith</td>\n",
       "    </tr>\n",
       "    <tr>\n",
       "      <th>888</th>\n",
       "      <td>889</td>\n",
       "      <td>0</td>\n",
       "      <td>Johnston, Miss. Catherine Helen \"Carrie\"</td>\n",
       "    </tr>\n",
       "    <tr>\n",
       "      <th>889</th>\n",
       "      <td>890</td>\n",
       "      <td>1</td>\n",
       "      <td>Behr, Mr. Karl Howell</td>\n",
       "    </tr>\n",
       "    <tr>\n",
       "      <th>890</th>\n",
       "      <td>891</td>\n",
       "      <td>0</td>\n",
       "      <td>Dooley, Mr. Patrick</td>\n",
       "    </tr>\n",
       "  </tbody>\n",
       "</table>\n",
       "</div>"
      ],
      "text/plain": [
       "     PassengerId  Survived                                              Name\n",
       "871          872         1  Beckwith, Mrs. Richard Leonard (Sallie Monypeny)\n",
       "872          873         0                          Carlsson, Mr. Frans Olof\n",
       "873          874         0                       Vander Cruyssen, Mr. Victor\n",
       "874          875         1             Abelson, Mrs. Samuel (Hannah Wizosky)\n",
       "875          876         1                  Najib, Miss. Adele Kiamie \"Jane\"\n",
       "876          877         0                     Gustafsson, Mr. Alfred Ossian\n",
       "877          878         0                              Petroff, Mr. Nedelio\n",
       "878          879         0                                Laleff, Mr. Kristo\n",
       "879          880         1     Potter, Mrs. Thomas Jr (Lily Alexenia Wilson)\n",
       "880          881         1      Shelley, Mrs. William (Imanita Parrish Hall)\n",
       "881          882         0                                Markun, Mr. Johann\n",
       "882          883         0                      Dahlberg, Miss. Gerda Ulrika\n",
       "883          884         0                     Banfield, Mr. Frederick James\n",
       "884          885         0                            Sutehall, Mr. Henry Jr\n",
       "885          886         0              Rice, Mrs. William (Margaret Norton)\n",
       "886          887         0                             Montvila, Rev. Juozas\n",
       "887          888         1                      Graham, Miss. Margaret Edith\n",
       "888          889         0          Johnston, Miss. Catherine Helen \"Carrie\"\n",
       "889          890         1                             Behr, Mr. Karl Howell\n",
       "890          891         0                               Dooley, Mr. Patrick"
      ]
     },
     "execution_count": 10,
     "metadata": {},
     "output_type": "execute_result"
    }
   ],
   "source": [
    "df = df.drop(df[['Pclass','Sex','Age','SibSp','Parch','Ticket','Fare','Cabin','Embarked']], axis= 1)\n",
    "df.tail(20)"
   ]
  },
  {
   "cell_type": "code",
   "execution_count": 11,
   "id": "6f2a7244",
   "metadata": {
    "ExecuteTime": {
     "end_time": "2022-04-17T04:16:38.526995Z",
     "start_time": "2022-04-17T04:16:38.514983Z"
    }
   },
   "outputs": [],
   "source": [
    "pat = re.compile(' [A-Za-z]+\\.')\n",
    "title = []\n",
    "for item in range(len(df)):\n",
    "    a = pat.findall(df['Name'][item])\n",
    "    title.append(a)"
   ]
  },
  {
   "cell_type": "code",
   "execution_count": 12,
   "id": "d2084c64",
   "metadata": {
    "ExecuteTime": {
     "end_time": "2022-04-17T04:16:38.542127Z",
     "start_time": "2022-04-17T04:16:38.527992Z"
    }
   },
   "outputs": [
    {
     "name": "stderr",
     "output_type": "stream",
     "text": [
      "C:\\Users\\alsgu\\anaconda3\\lib\\site-packages\\numpy\\lib\\arraysetops.py:270: VisibleDeprecationWarning: Creating an ndarray from ragged nested sequences (which is a list-or-tuple of lists-or-tuples-or ndarrays with different lengths or shapes) is deprecated. If you meant to do this, you must specify 'dtype=object' when creating the ndarray.\n",
      "  ar = np.asanyarray(ar)\n"
     ]
    },
    {
     "data": {
      "text/plain": [
       "array([list([' Capt.']), list([' Col.']), list([' Countess.']),\n",
       "       list([' Don.']), list([' Dr.']), list([' Jonkheer.']),\n",
       "       list([' Lady.']), list([' Major.']), list([' Master.']),\n",
       "       list([' Miss.']), list([' Mlle.']), list([' Mme.']),\n",
       "       list([' Mr.']), list([' Mrs.']), list([' Mrs.', ' L.']),\n",
       "       list([' Ms.']), list([' Rev.']), list([' Sir.'])], dtype=object)"
      ]
     },
     "execution_count": 12,
     "metadata": {},
     "output_type": "execute_result"
    }
   ],
   "source": [
    "np.unique(title)"
   ]
  },
  {
   "cell_type": "code",
   "execution_count": 13,
   "id": "bb6f3555",
   "metadata": {
    "ExecuteTime": {
     "end_time": "2022-04-17T04:16:38.557130Z",
     "start_time": "2022-04-17T04:16:38.543126Z"
    }
   },
   "outputs": [
    {
     "data": {
      "text/plain": [
       "array([' Capt.', ' Col.', ' Countess.', ' Don.', ' Dr.', ' Jonkheer.',\n",
       "       ' Lady.', ' Major.', ' Master.', ' Miss.', ' Mlle.', ' Mme.',\n",
       "       ' Mr.', ' Mrs.', ' Ms.', ' Rev.', ' Sir.'], dtype='<U10')"
      ]
     },
     "execution_count": 13,
     "metadata": {},
     "output_type": "execute_result"
    }
   ],
   "source": [
    "title2 = [i[0] for i in title]\n",
    "np.unique(title2)"
   ]
  },
  {
   "cell_type": "code",
   "execution_count": 14,
   "id": "b427a86f",
   "metadata": {
    "ExecuteTime": {
     "end_time": "2022-04-17T04:16:38.572131Z",
     "start_time": "2022-04-17T04:16:38.560127Z"
    }
   },
   "outputs": [],
   "source": [
    "b=[]\n",
    "for i in range(len(title2)):\n",
    "    if title2[i] == \" Mr.\":\n",
    "        b.append(pat.sub('남성', title2[i]))\n",
    "    elif title2[i] == ' Miss.':\n",
    "        b.append(pat.sub('미혼여성', title2[i]))\n",
    "    elif title2[i] == ' Mrs.':\n",
    "        b.append(pat.sub('기혼여성', title2[i]))\n",
    "    else:\n",
    "        b.append(pat.sub('기타', title2[i]))\n",
    "   "
   ]
  },
  {
   "cell_type": "code",
   "execution_count": 15,
   "id": "898c2555",
   "metadata": {
    "ExecuteTime": {
     "end_time": "2022-04-17T04:16:38.587209Z",
     "start_time": "2022-04-17T04:16:38.573132Z"
    }
   },
   "outputs": [],
   "source": [
    "df['title'] = b"
   ]
  },
  {
   "cell_type": "code",
   "execution_count": 16,
   "id": "41069aac",
   "metadata": {
    "ExecuteTime": {
     "end_time": "2022-04-17T04:16:38.602215Z",
     "start_time": "2022-04-17T04:16:38.589216Z"
    }
   },
   "outputs": [
    {
     "data": {
      "text/html": [
       "<div>\n",
       "<style scoped>\n",
       "    .dataframe tbody tr th:only-of-type {\n",
       "        vertical-align: middle;\n",
       "    }\n",
       "\n",
       "    .dataframe tbody tr th {\n",
       "        vertical-align: top;\n",
       "    }\n",
       "\n",
       "    .dataframe thead th {\n",
       "        text-align: right;\n",
       "    }\n",
       "</style>\n",
       "<table border=\"1\" class=\"dataframe\">\n",
       "  <thead>\n",
       "    <tr style=\"text-align: right;\">\n",
       "      <th></th>\n",
       "      <th>PassengerId</th>\n",
       "      <th>Survived</th>\n",
       "      <th>Name</th>\n",
       "      <th>title</th>\n",
       "    </tr>\n",
       "  </thead>\n",
       "  <tbody>\n",
       "    <tr>\n",
       "      <th>0</th>\n",
       "      <td>1</td>\n",
       "      <td>0</td>\n",
       "      <td>Braund, Mr. Owen Harris</td>\n",
       "      <td>남성</td>\n",
       "    </tr>\n",
       "    <tr>\n",
       "      <th>1</th>\n",
       "      <td>2</td>\n",
       "      <td>1</td>\n",
       "      <td>Cumings, Mrs. John Bradley (Florence Briggs Th...</td>\n",
       "      <td>기혼여성</td>\n",
       "    </tr>\n",
       "    <tr>\n",
       "      <th>2</th>\n",
       "      <td>3</td>\n",
       "      <td>1</td>\n",
       "      <td>Heikkinen, Miss. Laina</td>\n",
       "      <td>미혼여성</td>\n",
       "    </tr>\n",
       "    <tr>\n",
       "      <th>3</th>\n",
       "      <td>4</td>\n",
       "      <td>1</td>\n",
       "      <td>Futrelle, Mrs. Jacques Heath (Lily May Peel)</td>\n",
       "      <td>기혼여성</td>\n",
       "    </tr>\n",
       "    <tr>\n",
       "      <th>4</th>\n",
       "      <td>5</td>\n",
       "      <td>0</td>\n",
       "      <td>Allen, Mr. William Henry</td>\n",
       "      <td>남성</td>\n",
       "    </tr>\n",
       "    <tr>\n",
       "      <th>...</th>\n",
       "      <td>...</td>\n",
       "      <td>...</td>\n",
       "      <td>...</td>\n",
       "      <td>...</td>\n",
       "    </tr>\n",
       "    <tr>\n",
       "      <th>886</th>\n",
       "      <td>887</td>\n",
       "      <td>0</td>\n",
       "      <td>Montvila, Rev. Juozas</td>\n",
       "      <td>기타</td>\n",
       "    </tr>\n",
       "    <tr>\n",
       "      <th>887</th>\n",
       "      <td>888</td>\n",
       "      <td>1</td>\n",
       "      <td>Graham, Miss. Margaret Edith</td>\n",
       "      <td>미혼여성</td>\n",
       "    </tr>\n",
       "    <tr>\n",
       "      <th>888</th>\n",
       "      <td>889</td>\n",
       "      <td>0</td>\n",
       "      <td>Johnston, Miss. Catherine Helen \"Carrie\"</td>\n",
       "      <td>미혼여성</td>\n",
       "    </tr>\n",
       "    <tr>\n",
       "      <th>889</th>\n",
       "      <td>890</td>\n",
       "      <td>1</td>\n",
       "      <td>Behr, Mr. Karl Howell</td>\n",
       "      <td>남성</td>\n",
       "    </tr>\n",
       "    <tr>\n",
       "      <th>890</th>\n",
       "      <td>891</td>\n",
       "      <td>0</td>\n",
       "      <td>Dooley, Mr. Patrick</td>\n",
       "      <td>남성</td>\n",
       "    </tr>\n",
       "  </tbody>\n",
       "</table>\n",
       "<p>891 rows × 4 columns</p>\n",
       "</div>"
      ],
      "text/plain": [
       "     PassengerId  Survived                                               Name  \\\n",
       "0              1         0                            Braund, Mr. Owen Harris   \n",
       "1              2         1  Cumings, Mrs. John Bradley (Florence Briggs Th...   \n",
       "2              3         1                             Heikkinen, Miss. Laina   \n",
       "3              4         1       Futrelle, Mrs. Jacques Heath (Lily May Peel)   \n",
       "4              5         0                           Allen, Mr. William Henry   \n",
       "..           ...       ...                                                ...   \n",
       "886          887         0                              Montvila, Rev. Juozas   \n",
       "887          888         1                       Graham, Miss. Margaret Edith   \n",
       "888          889         0           Johnston, Miss. Catherine Helen \"Carrie\"   \n",
       "889          890         1                              Behr, Mr. Karl Howell   \n",
       "890          891         0                                Dooley, Mr. Patrick   \n",
       "\n",
       "    title  \n",
       "0      남성  \n",
       "1    기혼여성  \n",
       "2    미혼여성  \n",
       "3    기혼여성  \n",
       "4      남성  \n",
       "..    ...  \n",
       "886    기타  \n",
       "887  미혼여성  \n",
       "888  미혼여성  \n",
       "889    남성  \n",
       "890    남성  \n",
       "\n",
       "[891 rows x 4 columns]"
      ]
     },
     "execution_count": 16,
     "metadata": {},
     "output_type": "execute_result"
    }
   ],
   "source": [
    "df"
   ]
  },
  {
   "cell_type": "code",
   "execution_count": 17,
   "id": "5a8e94da",
   "metadata": {
    "ExecuteTime": {
     "end_time": "2022-04-17T04:16:38.620215Z",
     "start_time": "2022-04-17T04:16:38.603217Z"
    }
   },
   "outputs": [
    {
     "data": {
      "text/html": [
       "<div>\n",
       "<style scoped>\n",
       "    .dataframe tbody tr th:only-of-type {\n",
       "        vertical-align: middle;\n",
       "    }\n",
       "\n",
       "    .dataframe tbody tr th {\n",
       "        vertical-align: top;\n",
       "    }\n",
       "\n",
       "    .dataframe thead th {\n",
       "        text-align: right;\n",
       "    }\n",
       "</style>\n",
       "<table border=\"1\" class=\"dataframe\">\n",
       "  <thead>\n",
       "    <tr style=\"text-align: right;\">\n",
       "      <th></th>\n",
       "      <th>Survived</th>\n",
       "    </tr>\n",
       "    <tr>\n",
       "      <th>title</th>\n",
       "      <th></th>\n",
       "    </tr>\n",
       "  </thead>\n",
       "  <tbody>\n",
       "    <tr>\n",
       "      <th>기타</th>\n",
       "      <td>67</td>\n",
       "    </tr>\n",
       "    <tr>\n",
       "      <th>기혼여성</th>\n",
       "      <td>125</td>\n",
       "    </tr>\n",
       "    <tr>\n",
       "      <th>남성</th>\n",
       "      <td>517</td>\n",
       "    </tr>\n",
       "    <tr>\n",
       "      <th>미혼여성</th>\n",
       "      <td>182</td>\n",
       "    </tr>\n",
       "  </tbody>\n",
       "</table>\n",
       "</div>"
      ],
      "text/plain": [
       "       Survived\n",
       "title          \n",
       "기타           67\n",
       "기혼여성        125\n",
       "남성          517\n",
       "미혼여성        182"
      ]
     },
     "execution_count": 17,
     "metadata": {},
     "output_type": "execute_result"
    }
   ],
   "source": [
    "total = df.groupby(['title'])[['Survived']].count()\n",
    "total"
   ]
  },
  {
   "cell_type": "code",
   "execution_count": 23,
   "id": "8577416f",
   "metadata": {
    "ExecuteTime": {
     "end_time": "2022-04-17T04:18:46.569932Z",
     "start_time": "2022-04-17T04:18:46.551852Z"
    }
   },
   "outputs": [
    {
     "data": {
      "text/html": [
       "<div>\n",
       "<style scoped>\n",
       "    .dataframe tbody tr th:only-of-type {\n",
       "        vertical-align: middle;\n",
       "    }\n",
       "\n",
       "    .dataframe tbody tr th {\n",
       "        vertical-align: top;\n",
       "    }\n",
       "\n",
       "    .dataframe thead th {\n",
       "        text-align: right;\n",
       "    }\n",
       "</style>\n",
       "<table border=\"1\" class=\"dataframe\">\n",
       "  <thead>\n",
       "    <tr style=\"text-align: right;\">\n",
       "      <th></th>\n",
       "      <th>Survived</th>\n",
       "    </tr>\n",
       "    <tr>\n",
       "      <th>title</th>\n",
       "      <th></th>\n",
       "    </tr>\n",
       "  </thead>\n",
       "  <tbody>\n",
       "    <tr>\n",
       "      <th>기타</th>\n",
       "      <td>35</td>\n",
       "    </tr>\n",
       "    <tr>\n",
       "      <th>기혼여성</th>\n",
       "      <td>99</td>\n",
       "    </tr>\n",
       "    <tr>\n",
       "      <th>남성</th>\n",
       "      <td>81</td>\n",
       "    </tr>\n",
       "    <tr>\n",
       "      <th>미혼여성</th>\n",
       "      <td>127</td>\n",
       "    </tr>\n",
       "  </tbody>\n",
       "</table>\n",
       "</div>"
      ],
      "text/plain": [
       "       Survived\n",
       "title          \n",
       "기타           35\n",
       "기혼여성         99\n",
       "남성           81\n",
       "미혼여성        127"
      ]
     },
     "execution_count": 23,
     "metadata": {},
     "output_type": "execute_result"
    }
   ],
   "source": [
    "df2 = df.groupby(['title'])[['Survived']].sum()\n",
    "df2"
   ]
  },
  {
   "cell_type": "code",
   "execution_count": 25,
   "id": "bb822468",
   "metadata": {
    "ExecuteTime": {
     "end_time": "2022-04-17T04:18:57.352460Z",
     "start_time": "2022-04-17T04:18:57.340423Z"
    }
   },
   "outputs": [
    {
     "data": {
      "text/html": [
       "<div>\n",
       "<style scoped>\n",
       "    .dataframe tbody tr th:only-of-type {\n",
       "        vertical-align: middle;\n",
       "    }\n",
       "\n",
       "    .dataframe tbody tr th {\n",
       "        vertical-align: top;\n",
       "    }\n",
       "\n",
       "    .dataframe thead th {\n",
       "        text-align: right;\n",
       "    }\n",
       "</style>\n",
       "<table border=\"1\" class=\"dataframe\">\n",
       "  <thead>\n",
       "    <tr style=\"text-align: right;\">\n",
       "      <th></th>\n",
       "      <th>Survived</th>\n",
       "    </tr>\n",
       "    <tr>\n",
       "      <th>title</th>\n",
       "      <th></th>\n",
       "    </tr>\n",
       "  </thead>\n",
       "  <tbody>\n",
       "    <tr>\n",
       "      <th>기타</th>\n",
       "      <td>0.522388</td>\n",
       "    </tr>\n",
       "    <tr>\n",
       "      <th>기혼여성</th>\n",
       "      <td>0.792000</td>\n",
       "    </tr>\n",
       "    <tr>\n",
       "      <th>남성</th>\n",
       "      <td>0.156673</td>\n",
       "    </tr>\n",
       "    <tr>\n",
       "      <th>미혼여성</th>\n",
       "      <td>0.697802</td>\n",
       "    </tr>\n",
       "  </tbody>\n",
       "</table>\n",
       "</div>"
      ],
      "text/plain": [
       "       Survived\n",
       "title          \n",
       "기타     0.522388\n",
       "기혼여성   0.792000\n",
       "남성     0.156673\n",
       "미혼여성   0.697802"
      ]
     },
     "execution_count": 25,
     "metadata": {},
     "output_type": "execute_result"
    }
   ],
   "source": [
    "final =  df2/total\n",
    "final"
   ]
  },
  {
   "cell_type": "code",
   "execution_count": null,
   "id": "07cc9ee9",
   "metadata": {},
   "outputs": [],
   "source": []
  }
 ],
 "metadata": {
  "kernelspec": {
   "display_name": "Python 3 (ipykernel)",
   "language": "python",
   "name": "python3"
  },
  "language_info": {
   "codemirror_mode": {
    "name": "ipython",
    "version": 3
   },
   "file_extension": ".py",
   "mimetype": "text/x-python",
   "name": "python",
   "nbconvert_exporter": "python",
   "pygments_lexer": "ipython3",
   "version": "3.8.8"
  },
  "toc": {
   "base_numbering": 1,
   "nav_menu": {},
   "number_sections": true,
   "sideBar": true,
   "skip_h1_title": false,
   "title_cell": "Table of Contents",
   "title_sidebar": "Contents",
   "toc_cell": false,
   "toc_position": {},
   "toc_section_display": true,
   "toc_window_display": false
  }
 },
 "nbformat": 4,
 "nbformat_minor": 5
}
