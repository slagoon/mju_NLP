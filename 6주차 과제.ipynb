{
 "cells": [
  {
   "cell_type": "markdown",
   "id": "79ebb10c",
   "metadata": {},
   "source": [
    "# 6주차 개인톡 과제\n",
    "- 60171100 윤민혁"
   ]
  },
  {
   "cell_type": "code",
   "execution_count": 197,
   "id": "0ea6d250",
   "metadata": {
    "ExecuteTime": {
     "end_time": "2022-04-10T08:20:56.446687Z",
     "start_time": "2022-04-10T08:20:56.438674Z"
    }
   },
   "outputs": [],
   "source": [
    "import requests\n",
    "from bs4 import BeautifulSoup\n",
    "\n",
    "import pandas as pd\n",
    "import re"
   ]
  },
  {
   "cell_type": "code",
   "execution_count": 219,
   "id": "794b02c3",
   "metadata": {
    "ExecuteTime": {
     "end_time": "2022-04-10T08:23:30.912330Z",
     "start_time": "2022-04-10T08:23:30.100992Z"
    }
   },
   "outputs": [],
   "source": [
    "res = requests.get('https://xexymix.com/shop/shopbrand.html?xcode=020&type=Y')\n",
    "soup = BeautifulSoup(res.content)\n",
    "\n",
    "mydata = soup.find_all('li','prd-name')\n",
    "mydata2 = soup.find_all('li','prd-price s_prd')\n",
    "\n",
    "name = []\n",
    "price = []\n",
    "\n",
    "for i in mydata:\n",
    "    name.append(i.get_text())\n",
    "\n",
    "for j in mydata2:\n",
    "\n",
    "    price.append(j.get_text())\n",
    "    "
   ]
  },
  {
   "cell_type": "code",
   "execution_count": 220,
   "id": "a044141d",
   "metadata": {
    "ExecuteTime": {
     "end_time": "2022-04-10T08:23:30.927363Z",
     "start_time": "2022-04-10T08:23:30.914233Z"
    }
   },
   "outputs": [],
   "source": [
    "# 품절상품 가격 추가\n",
    "price.append('52,000')"
   ]
  },
  {
   "cell_type": "code",
   "execution_count": 221,
   "id": "a7be702f",
   "metadata": {
    "ExecuteTime": {
     "end_time": "2022-04-10T08:23:31.497732Z",
     "start_time": "2022-04-10T08:23:31.485362Z"
    }
   },
   "outputs": [],
   "source": [
    "df = pd.DataFrame({'제품명':name,'가격':price})"
   ]
  },
  {
   "cell_type": "code",
   "execution_count": 222,
   "id": "271e2a42",
   "metadata": {
    "ExecuteTime": {
     "end_time": "2022-04-10T08:23:32.281057Z",
     "start_time": "2022-04-10T08:23:32.278058Z"
    }
   },
   "outputs": [],
   "source": [
    "def remove_comma(x):\n",
    "    return x.replace(',', '')"
   ]
  },
  {
   "cell_type": "code",
   "execution_count": 223,
   "id": "1fcdd59e",
   "metadata": {
    "ExecuteTime": {
     "end_time": "2022-04-10T08:23:32.822255Z",
     "start_time": "2022-04-10T08:23:32.809108Z"
    }
   },
   "outputs": [],
   "source": [
    "df['가격'] = df['가격'].apply(remove_comma)"
   ]
  },
  {
   "cell_type": "code",
   "execution_count": 224,
   "id": "2fddb761",
   "metadata": {
    "ExecuteTime": {
     "end_time": "2022-04-10T08:23:35.228709Z",
     "start_time": "2022-04-10T08:23:35.211328Z"
    }
   },
   "outputs": [
    {
     "data": {
      "text/html": [
       "<div>\n",
       "<style scoped>\n",
       "    .dataframe tbody tr th:only-of-type {\n",
       "        vertical-align: middle;\n",
       "    }\n",
       "\n",
       "    .dataframe tbody tr th {\n",
       "        vertical-align: top;\n",
       "    }\n",
       "\n",
       "    .dataframe thead th {\n",
       "        text-align: right;\n",
       "    }\n",
       "</style>\n",
       "<table border=\"1\" class=\"dataframe\">\n",
       "  <thead>\n",
       "    <tr style=\"text-align: right;\">\n",
       "      <th></th>\n",
       "      <th>제품명</th>\n",
       "      <th>가격</th>\n",
       "    </tr>\n",
       "  </thead>\n",
       "  <tbody>\n",
       "    <tr>\n",
       "      <th>0</th>\n",
       "      <td>셀라V업 3D 플러스 레깅스 마지막 1+1</td>\n",
       "      <td>32000</td>\n",
       "    </tr>\n",
       "    <tr>\n",
       "      <th>1</th>\n",
       "      <td>블랙라벨 시그니처 380N 레깅스 1+1</td>\n",
       "      <td>59000</td>\n",
       "    </tr>\n",
       "    <tr>\n",
       "      <th>2</th>\n",
       "      <td>아이스페더 1+1</td>\n",
       "      <td>32000</td>\n",
       "    </tr>\n",
       "    <tr>\n",
       "      <th>3</th>\n",
       "      <td>아이스페더 컴포트 1+1</td>\n",
       "      <td>34000</td>\n",
       "    </tr>\n",
       "    <tr>\n",
       "      <th>4</th>\n",
       "      <td>셀라업텐션 레깅스 마지막 1+1</td>\n",
       "      <td>39000</td>\n",
       "    </tr>\n",
       "    <tr>\n",
       "      <th>...</th>\n",
       "      <td>...</td>\n",
       "      <td>...</td>\n",
       "    </tr>\n",
       "    <tr>\n",
       "      <th>65</th>\n",
       "      <td>벨벳크림&amp;젤리볼륨 립틴트 1+1</td>\n",
       "      <td>14900</td>\n",
       "    </tr>\n",
       "    <tr>\n",
       "      <th>66</th>\n",
       "      <td>피그먼트 슬로건 티셔츠 1+1</td>\n",
       "      <td>49000</td>\n",
       "    </tr>\n",
       "    <tr>\n",
       "      <th>67</th>\n",
       "      <td>스탠다드 슬로건 후드집업 블랙</td>\n",
       "      <td>35000</td>\n",
       "    </tr>\n",
       "    <tr>\n",
       "      <th>68</th>\n",
       "      <td>스탠다드 슬로건 후드집업 모스베이지</td>\n",
       "      <td>35000</td>\n",
       "    </tr>\n",
       "    <tr>\n",
       "      <th>69</th>\n",
       "      <td>컴포터블 카고 조거팬츠 블랙</td>\n",
       "      <td>52000</td>\n",
       "    </tr>\n",
       "  </tbody>\n",
       "</table>\n",
       "<p>70 rows × 2 columns</p>\n",
       "</div>"
      ],
      "text/plain": [
       "                        제품명     가격\n",
       "0   셀라V업 3D 플러스 레깅스 마지막 1+1  32000\n",
       "1    블랙라벨 시그니처 380N 레깅스 1+1  59000\n",
       "2                아이스페더 1+1   32000\n",
       "3             아이스페더 컴포트 1+1  34000\n",
       "4         셀라업텐션 레깅스 마지막 1+1  39000\n",
       "..                      ...    ...\n",
       "65        벨벳크림&젤리볼륨 립틴트 1+1  14900\n",
       "66         피그먼트 슬로건 티셔츠 1+1  49000\n",
       "67         스탠다드 슬로건 후드집업 블랙  35000\n",
       "68      스탠다드 슬로건 후드집업 모스베이지  35000\n",
       "69          컴포터블 카고 조거팬츠 블랙  52000\n",
       "\n",
       "[70 rows x 2 columns]"
      ]
     },
     "execution_count": 224,
     "metadata": {},
     "output_type": "execute_result"
    }
   ],
   "source": [
    "df"
   ]
  },
  {
   "cell_type": "code",
   "execution_count": 227,
   "id": "a7f31c1b",
   "metadata": {
    "ExecuteTime": {
     "end_time": "2022-04-10T08:23:48.652694Z",
     "start_time": "2022-04-10T08:23:48.644321Z"
    }
   },
   "outputs": [
    {
     "data": {
      "text/plain": [
       "제품명    object\n",
       "가격      int32\n",
       "dtype: object"
      ]
     },
     "execution_count": 227,
     "metadata": {},
     "output_type": "execute_result"
    }
   ],
   "source": [
    "df = df.astype({'가격':'int'})\n",
    "df.dtypes"
   ]
  },
  {
   "cell_type": "code",
   "execution_count": 228,
   "id": "2db9b690",
   "metadata": {
    "ExecuteTime": {
     "end_time": "2022-04-10T08:23:50.035954Z",
     "start_time": "2022-04-10T08:23:50.007837Z"
    },
    "scrolled": false
   },
   "outputs": [
    {
     "data": {
      "text/html": [
       "<div>\n",
       "<style scoped>\n",
       "    .dataframe tbody tr th:only-of-type {\n",
       "        vertical-align: middle;\n",
       "    }\n",
       "\n",
       "    .dataframe tbody tr th {\n",
       "        vertical-align: top;\n",
       "    }\n",
       "\n",
       "    .dataframe thead th {\n",
       "        text-align: right;\n",
       "    }\n",
       "</style>\n",
       "<table border=\"1\" class=\"dataframe\">\n",
       "  <thead>\n",
       "    <tr style=\"text-align: right;\">\n",
       "      <th></th>\n",
       "      <th>제품명</th>\n",
       "      <th>가격</th>\n",
       "    </tr>\n",
       "  </thead>\n",
       "  <tbody>\n",
       "    <tr>\n",
       "      <th>13</th>\n",
       "      <td>컴포터블 카고 조거팬츠 1+1</td>\n",
       "      <td>99000</td>\n",
       "    </tr>\n",
       "    <tr>\n",
       "      <th>6</th>\n",
       "      <td>탄성팬츠 9.0&amp;9.5 1+1</td>\n",
       "      <td>99000</td>\n",
       "    </tr>\n",
       "    <tr>\n",
       "      <th>23</th>\n",
       "      <td>탄성팬츠 올시즌 9.0&amp;9.5 1+1</td>\n",
       "      <td>99000</td>\n",
       "    </tr>\n",
       "    <tr>\n",
       "      <th>30</th>\n",
       "      <td>젤라 인텐션 슬림핏 집업자켓 1+1</td>\n",
       "      <td>98000</td>\n",
       "    </tr>\n",
       "    <tr>\n",
       "      <th>63</th>\n",
       "      <td>X-하이커 트리플베이지</td>\n",
       "      <td>89000</td>\n",
       "    </tr>\n",
       "    <tr>\n",
       "      <th>...</th>\n",
       "      <td>...</td>\n",
       "      <td>...</td>\n",
       "    </tr>\n",
       "    <tr>\n",
       "      <th>14</th>\n",
       "      <td>요가삭스 1+1</td>\n",
       "      <td>11900</td>\n",
       "    </tr>\n",
       "    <tr>\n",
       "      <th>38</th>\n",
       "      <td>에어로 마스크 1+1</td>\n",
       "      <td>9900</td>\n",
       "    </tr>\n",
       "    <tr>\n",
       "      <th>44</th>\n",
       "      <td>레터링삭스 1+1</td>\n",
       "      <td>9900</td>\n",
       "    </tr>\n",
       "    <tr>\n",
       "      <th>59</th>\n",
       "      <td>딱붙 젤펜슬 라이너앤브로우</td>\n",
       "      <td>9900</td>\n",
       "    </tr>\n",
       "    <tr>\n",
       "      <th>55</th>\n",
       "      <td>볼륨브라패드(2.5cm)</td>\n",
       "      <td>4900</td>\n",
       "    </tr>\n",
       "  </tbody>\n",
       "</table>\n",
       "<p>70 rows × 2 columns</p>\n",
       "</div>"
      ],
      "text/plain": [
       "                     제품명     가격\n",
       "13      컴포터블 카고 조거팬츠 1+1  99000\n",
       "6       탄성팬츠 9.0&9.5 1+1  99000\n",
       "23  탄성팬츠 올시즌 9.0&9.5 1+1  99000\n",
       "30   젤라 인텐션 슬림핏 집업자켓 1+1  98000\n",
       "63          X-하이커 트리플베이지  89000\n",
       "..                   ...    ...\n",
       "14              요가삭스 1+1  11900\n",
       "38           에어로 마스크 1+1   9900\n",
       "44             레터링삭스 1+1   9900\n",
       "59        딱붙 젤펜슬 라이너앤브로우   9900\n",
       "55         볼륨브라패드(2.5cm)   4900\n",
       "\n",
       "[70 rows x 2 columns]"
      ]
     },
     "execution_count": 228,
     "metadata": {},
     "output_type": "execute_result"
    }
   ],
   "source": [
    "\n",
    "df.sort_values(by='가격', ascending=False)"
   ]
  },
  {
   "cell_type": "markdown",
   "id": "7d6cb4e0",
   "metadata": {},
   "source": [
    "## 6주차 단톡방 과제 1\n",
    "- 60171100 윤민혁"
   ]
  },
  {
   "cell_type": "code",
   "execution_count": 55,
   "id": "84ccb773",
   "metadata": {
    "ExecuteTime": {
     "end_time": "2022-04-10T02:18:08.128524Z",
     "start_time": "2022-04-10T02:18:02.717845Z"
    }
   },
   "outputs": [],
   "source": [
    "site_pre = 'https://www.inven.co.kr/board/fifaonline4/3145?category=_%EC%BF%A0%ED%8F%B0&p='\n",
    "\n",
    "title_list=[]\n",
    "date_list=[]\n",
    "for i in range(1,10):\n",
    "    site = site_pre + str(i)\n",
    "    res = requests.get(site)\n",
    "    soup = BeautifulSoup(res.content,'html.parser')\n",
    "    title = soup.find_all('a','subject-link')\n",
    "    for tag in soup.select('span'):\n",
    "        tag.extract()\n",
    "    date = soup.find_all('td','date')\n",
    "    for j in title:\n",
    "        \n",
    "        title_list.append(j.get_text().strip())\n",
    "    for l in date:\n",
    "        date_list.append(l.get_text())"
   ]
  },
  {
   "cell_type": "code",
   "execution_count": 56,
   "id": "4e30dac1",
   "metadata": {
    "ExecuteTime": {
     "end_time": "2022-04-10T02:18:08.158265Z",
     "start_time": "2022-04-10T02:18:08.130449Z"
    }
   },
   "outputs": [
    {
     "data": {
      "text/html": [
       "<div>\n",
       "<style scoped>\n",
       "    .dataframe tbody tr th:only-of-type {\n",
       "        vertical-align: middle;\n",
       "    }\n",
       "\n",
       "    .dataframe tbody tr th {\n",
       "        vertical-align: top;\n",
       "    }\n",
       "\n",
       "    .dataframe thead th {\n",
       "        text-align: right;\n",
       "    }\n",
       "</style>\n",
       "<table border=\"1\" class=\"dataframe\">\n",
       "  <thead>\n",
       "    <tr style=\"text-align: right;\">\n",
       "      <th></th>\n",
       "      <th>제목</th>\n",
       "      <th>작성일</th>\n",
       "    </tr>\n",
       "  </thead>\n",
       "  <tbody>\n",
       "    <tr>\n",
       "      <th>0</th>\n",
       "      <td>팁과 노하우 게시판 이용 안내</td>\n",
       "      <td>04-07</td>\n",
       "    </tr>\n",
       "    <tr>\n",
       "      <th>1</th>\n",
       "      <td>영상을 포함한 게시글과 관련하여 안내드립니다.</td>\n",
       "      <td>08-16</td>\n",
       "    </tr>\n",
       "    <tr>\n",
       "      <th>2</th>\n",
       "      <td>게시판 내 이슈 관련 게시글에 대하여 협조 부탁드립니다.</td>\n",
       "      <td>04-24</td>\n",
       "    </tr>\n",
       "    <tr>\n",
       "      <th>3</th>\n",
       "      <td>이벤트 쿠폰과 관련하여 안내드립니다</td>\n",
       "      <td>07-02</td>\n",
       "    </tr>\n",
       "    <tr>\n",
       "      <th>4</th>\n",
       "      <td>오늘이 의외로 사재기 타임이네요</td>\n",
       "      <td>15:32</td>\n",
       "    </tr>\n",
       "    <tr>\n",
       "      <th>...</th>\n",
       "      <td>...</td>\n",
       "      <td>...</td>\n",
       "    </tr>\n",
       "    <tr>\n",
       "      <th>449</th>\n",
       "      <td>몰수패, 훈련코치, 하이라이트 개선 상황</td>\n",
       "      <td>11-18</td>\n",
       "    </tr>\n",
       "    <tr>\n",
       "      <th>450</th>\n",
       "      <td>한국대표 선발전 참가자 명단 발표 및 예선 실황 중계 방송 안내</td>\n",
       "      <td>11-18</td>\n",
       "    </tr>\n",
       "    <tr>\n",
       "      <th>451</th>\n",
       "      <td>이벤트로 주는 팩은 확률공개 x</td>\n",
       "      <td>11-17</td>\n",
       "    </tr>\n",
       "    <tr>\n",
       "      <th>452</th>\n",
       "      <td>토트넘 금카팀 리뷰-뎀벨레,완야마</td>\n",
       "      <td>11-17</td>\n",
       "    </tr>\n",
       "    <tr>\n",
       "      <th>453</th>\n",
       "      <td>플레이보드 풀참 후기</td>\n",
       "      <td>11-17</td>\n",
       "    </tr>\n",
       "  </tbody>\n",
       "</table>\n",
       "<p>454 rows × 2 columns</p>\n",
       "</div>"
      ],
      "text/plain": [
       "                                      제목    작성일\n",
       "0                       팁과 노하우 게시판 이용 안내  04-07\n",
       "1              영상을 포함한 게시글과 관련하여 안내드립니다.  08-16\n",
       "2        게시판 내 이슈 관련 게시글에 대하여 협조 부탁드립니다.  04-24\n",
       "3                    이벤트 쿠폰과 관련하여 안내드립니다  07-02\n",
       "4                      오늘이 의외로 사재기 타임이네요  15:32\n",
       "..                                   ...    ...\n",
       "449               몰수패, 훈련코치, 하이라이트 개선 상황  11-18\n",
       "450  한국대표 선발전 참가자 명단 발표 및 예선 실황 중계 방송 안내  11-18\n",
       "451                    이벤트로 주는 팩은 확률공개 x  11-17\n",
       "452                   토트넘 금카팀 리뷰-뎀벨레,완야마  11-17\n",
       "453                          플레이보드 풀참 후기  11-17\n",
       "\n",
       "[454 rows x 2 columns]"
      ]
     },
     "execution_count": 56,
     "metadata": {},
     "output_type": "execute_result"
    }
   ],
   "source": [
    "df = pd.DataFrame({'제목':title_list,'작성일':date_list})\n",
    "df"
   ]
  },
  {
   "cell_type": "markdown",
   "id": "00f6606c",
   "metadata": {},
   "source": [
    "# 6주차 단톡방 과제 2\n",
    "- 60171100 윤민혁"
   ]
  },
  {
   "cell_type": "code",
   "execution_count": 69,
   "id": "d71764fc",
   "metadata": {
    "ExecuteTime": {
     "end_time": "2022-04-10T03:20:12.692428Z",
     "start_time": "2022-04-10T03:20:11.642405Z"
    }
   },
   "outputs": [],
   "source": [
    "site_pre= 'https://movie.naver.com/movie/bi/mi/pointWriteFormList.naver?code=83893&type=after&isActualPointWriteExecute=false&isMileageSubscriptionAlready=false&isMileageSubscriptionReject=false&page='\n",
    "id_pre = '_filtered_ment_'\n",
    "id_list=[]\n",
    "score=[]\n",
    "review = []\n",
    "\n",
    "\n",
    "for k in range(10):\n",
    "    id_list.append(id_pre+str(k))\n",
    "    \n",
    "for i in range(1,11):\n",
    "    site = site_pre+str(i)\n",
    "    res = requests.get(site)\n",
    "    soup = BeautifulSoup(res.content, 'html.parser')\n",
    "    score_data = soup.find_all('div','star_score')\n",
    "    for id in id_list:\n",
    "        review.append(soup.find('span',{'id':id}).get_text().strip())\n",
    "    \n",
    "    for j in score_data:\n",
    "        score.append(j.get_text().strip())"
   ]
  },
  {
   "cell_type": "code",
   "execution_count": 70,
   "id": "a0e34c3d",
   "metadata": {
    "ExecuteTime": {
     "end_time": "2022-04-10T03:20:14.448046Z",
     "start_time": "2022-04-10T03:20:14.437912Z"
    }
   },
   "outputs": [],
   "source": [
    "df = pd.DataFrame({'리뷰':review,'평점':score})"
   ]
  },
  {
   "cell_type": "code",
   "execution_count": 75,
   "id": "774400c6",
   "metadata": {
    "ExecuteTime": {
     "end_time": "2022-04-10T03:21:46.499089Z",
     "start_time": "2022-04-10T03:21:46.465089Z"
    }
   },
   "outputs": [
    {
     "data": {
      "text/html": [
       "<div>\n",
       "<style scoped>\n",
       "    .dataframe tbody tr th:only-of-type {\n",
       "        vertical-align: middle;\n",
       "    }\n",
       "\n",
       "    .dataframe tbody tr th {\n",
       "        vertical-align: top;\n",
       "    }\n",
       "\n",
       "    .dataframe thead th {\n",
       "        text-align: right;\n",
       "    }\n",
       "</style>\n",
       "<table border=\"1\" class=\"dataframe\">\n",
       "  <thead>\n",
       "    <tr style=\"text-align: right;\">\n",
       "      <th></th>\n",
       "      <th>리뷰</th>\n",
       "      <th>평점</th>\n",
       "    </tr>\n",
       "  </thead>\n",
       "  <tbody>\n",
       "    <tr>\n",
       "      <th>74</th>\n",
       "      <td>진짜 다시봐도 또 봐도 나중에 봐도 소름돋고 흥분시키는 영화!</td>\n",
       "      <td>10</td>\n",
       "    </tr>\n",
       "    <tr>\n",
       "      <th>5</th>\n",
       "      <td>이병헌의 목소리는 정말 하늘이 내려준듯 하다.웃음과 감동을 모두 잡은 영화인듯</td>\n",
       "      <td>10</td>\n",
       "    </tr>\n",
       "    <tr>\n",
       "      <th>6</th>\n",
       "      <td>천만이 부끄럽지않은 영화가 여기있네... 웃다가 울다가... 이런게 영화가 아닐지</td>\n",
       "      <td>10</td>\n",
       "    </tr>\n",
       "    <tr>\n",
       "      <th>7</th>\n",
       "      <td>백성을 하늘처럼 섬기는 왕, 진정 그것이 그대가 꿈꾸는 왕이라면... 그 꿈 내가 ...</td>\n",
       "      <td>10</td>\n",
       "    </tr>\n",
       "    <tr>\n",
       "      <th>8</th>\n",
       "      <td>진심 최고의 영화다. 정말 별 10점!!</td>\n",
       "      <td>10</td>\n",
       "    </tr>\n",
       "    <tr>\n",
       "      <th>...</th>\n",
       "      <td>...</td>\n",
       "      <td>...</td>\n",
       "    </tr>\n",
       "    <tr>\n",
       "      <th>34</th>\n",
       "      <td>가짜왕이 진정한 백성의 왕이네... 굿입니다.</td>\n",
       "      <td>9</td>\n",
       "    </tr>\n",
       "    <tr>\n",
       "      <th>45</th>\n",
       "      <td>중동고 81회 이병헌 화이팅, 88회 후배가.</td>\n",
       "      <td>9</td>\n",
       "    </tr>\n",
       "    <tr>\n",
       "      <th>47</th>\n",
       "      <td>고루한 사극에 현대식 유머를 더하다. 최고의 몰입도.</td>\n",
       "      <td>9</td>\n",
       "    </tr>\n",
       "    <tr>\n",
       "      <th>58</th>\n",
       "      <td>이병헌의 광해의 연기는 압도되어 빨려들어간다</td>\n",
       "      <td>9</td>\n",
       "    </tr>\n",
       "    <tr>\n",
       "      <th>27</th>\n",
       "      <td>후아, 눈물을 주체할 수가 없다. 간단한 플롯임에도 하고싶은 이야기를 다 녹여낸 극...</td>\n",
       "      <td>9</td>\n",
       "    </tr>\n",
       "  </tbody>\n",
       "</table>\n",
       "<p>100 rows × 2 columns</p>\n",
       "</div>"
      ],
      "text/plain": [
       "                                                   리뷰  평점\n",
       "74                 진짜 다시봐도 또 봐도 나중에 봐도 소름돋고 흥분시키는 영화!  10\n",
       "5         이병헌의 목소리는 정말 하늘이 내려준듯 하다.웃음과 감동을 모두 잡은 영화인듯  10\n",
       "6       천만이 부끄럽지않은 영화가 여기있네... 웃다가 울다가... 이런게 영화가 아닐지  10\n",
       "7   백성을 하늘처럼 섬기는 왕, 진정 그것이 그대가 꿈꾸는 왕이라면... 그 꿈 내가 ...  10\n",
       "8                              진심 최고의 영화다. 정말 별 10점!!  10\n",
       "..                                                ...  ..\n",
       "34                          가짜왕이 진정한 백성의 왕이네... 굿입니다.   9\n",
       "45                          중동고 81회 이병헌 화이팅, 88회 후배가.   9\n",
       "47                      고루한 사극에 현대식 유머를 더하다. 최고의 몰입도.   9\n",
       "58                           이병헌의 광해의 연기는 압도되어 빨려들어간다   9\n",
       "27  후아, 눈물을 주체할 수가 없다. 간단한 플롯임에도 하고싶은 이야기를 다 녹여낸 극...   9\n",
       "\n",
       "[100 rows x 2 columns]"
      ]
     },
     "execution_count": 75,
     "metadata": {},
     "output_type": "execute_result"
    }
   ],
   "source": [
    "df = df.sort_values(by='평점', ascending=True)\n",
    "df"
   ]
  },
  {
   "cell_type": "code",
   "execution_count": null,
   "id": "65bc4ed0",
   "metadata": {},
   "outputs": [],
   "source": []
  }
 ],
 "metadata": {
  "kernelspec": {
   "display_name": "Python 3 (ipykernel)",
   "language": "python",
   "name": "python3"
  },
  "language_info": {
   "codemirror_mode": {
    "name": "ipython",
    "version": 3
   },
   "file_extension": ".py",
   "mimetype": "text/x-python",
   "name": "python",
   "nbconvert_exporter": "python",
   "pygments_lexer": "ipython3",
   "version": "3.8.8"
  },
  "toc": {
   "base_numbering": 1,
   "nav_menu": {},
   "number_sections": true,
   "sideBar": true,
   "skip_h1_title": false,
   "title_cell": "Table of Contents",
   "title_sidebar": "Contents",
   "toc_cell": false,
   "toc_position": {},
   "toc_section_display": true,
   "toc_window_display": false
  }
 },
 "nbformat": 4,
 "nbformat_minor": 5
}
