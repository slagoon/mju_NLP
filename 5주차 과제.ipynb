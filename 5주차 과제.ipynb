{
 "cells": [
  {
   "cell_type": "markdown",
   "id": "63d41916",
   "metadata": {},
   "source": [
    "# 5주차 과제\n",
    "- 60171100 윤민혁"
   ]
  },
  {
   "cell_type": "markdown",
   "id": "dee43532",
   "metadata": {},
   "source": [
    "## 과제 1"
   ]
  },
  {
   "cell_type": "code",
   "execution_count": 20,
   "id": "0ec1d7ff",
   "metadata": {
    "ExecuteTime": {
     "end_time": "2022-03-30T06:03:34.166700Z",
     "start_time": "2022-03-30T06:03:34.152680Z"
    }
   },
   "outputs": [],
   "source": [
    "import requests\n",
    "from bs4 import BeautifulSoup"
   ]
  },
  {
   "cell_type": "code",
   "execution_count": 21,
   "id": "fa897e9a",
   "metadata": {
    "ExecuteTime": {
     "end_time": "2022-03-30T06:03:34.349858Z",
     "start_time": "2022-03-30T06:03:34.168700Z"
    }
   },
   "outputs": [
    {
     "data": {
      "text/plain": [
       "<Response [200]>"
      ]
     },
     "execution_count": 21,
     "metadata": {},
     "output_type": "execute_result"
    }
   ],
   "source": [
    "res = requests.get('https://sports.news.naver.com/news.nhn?oid=144&aid=0000802326')\n",
    "res"
   ]
  },
  {
   "cell_type": "code",
   "execution_count": 22,
   "id": "54865eb1",
   "metadata": {
    "ExecuteTime": {
     "end_time": "2022-03-30T06:03:34.380232Z",
     "start_time": "2022-03-30T06:03:34.351859Z"
    }
   },
   "outputs": [],
   "source": [
    "soup = BeautifulSoup(res.content, 'html.parser')"
   ]
  },
  {
   "cell_type": "code",
   "execution_count": 23,
   "id": "f888fa88",
   "metadata": {
    "ExecuteTime": {
     "end_time": "2022-03-30T06:03:34.395119Z",
     "start_time": "2022-03-30T06:03:34.383118Z"
    }
   },
   "outputs": [],
   "source": [
    "data_title = soup.find('title')\n",
    "data_day = soup.find('div','info')\n",
    "data_content = soup.find('div','news_end')"
   ]
  },
  {
   "cell_type": "code",
   "execution_count": 24,
   "id": "fb3b1fe0",
   "metadata": {
    "ExecuteTime": {
     "end_time": "2022-03-30T06:03:34.410159Z",
     "start_time": "2022-03-30T06:03:34.396118Z"
    },
    "scrolled": false
   },
   "outputs": [
    {
     "name": "stdout",
     "output_type": "stream",
     "text": [
      "제목: 페이커 ‘팀과 함께 V10’, 새역사 정조준[LCK]\n",
      "날짜: \n",
      "기사입력 2022.03.29. 오전 06:02\n",
      "최종수정 2022.03.29. 오전 06:02\n",
      "기사원문\n",
      "\n",
      "본문: \n",
      "\t\t\t\t\t\t\n",
      "\t\t\t\t\t\t\n",
      "\t\t\t\t\t\t\t[스포츠경향] T1, 18전 전승 ‘무결점 우승’ 도전젠지는 ‘5년만의 첫 우승컵’ 사냥최근 상대전적은 T1이 5연승 압도‘18전 전승’의 역사를 쓰며 정상 탈환을 향해 질주중인 T1의 마지막 고비를 젠지가 막아 섰다.T1과 젠지는 4월 2일 경기 고양시 킨텍스에서 열리는 ‘2022 리그 오브 레전드 챔피언스 코리아(LCK) 스프링’ 결승전에서 맞대결을 펼친다. 양 팀은 26~27일 열린 플레이오프 2라운드에서 광동 프릭스와 담원 기아를 각각 3-0, 3-2로 꺾고 결승 티켓을 손에 넣었다. T1은 광동 프릭스를 맞아 미드 라이너 ‘페이커’ 이상혁의 아리와 서포터 ‘케리아’ 류민석의 노틸러스가 인상적인 활약을 펼치면서 한 차례의 위기도 없이 완승을 거뒀다. 반면 젠지는 ‘LCK 3회 연속 우승’을 기록중이던 담원 기아를 상대로 풀세트 접전을 펼쳤다. 5세트에 포탑 철거 중심의 전략을 들고 나온 담원 기아에게 1만 골드 이상 뒤처졌지만 ‘쵸비’ 정지훈과 ‘룰러’ 박재혁을 중심으로 놀라운 뒷심을 발휘하며 대역전의 드라마를 만들었다. 선수로서 첫 ‘LCK 10회 우승’에 도전하는 T1의 ‘페이커’ 이상혁이 엄지 손가락을 들어올리며 선전을 다짐하고 있다.  |LCK■‘V10’ 노리는 명가 T1T1은 LCK 역사상 가장 많은 우승을 차지한 팀이다. SK텔레콤 T1 시절인 2013년 LCK 서머에서 KT 롤스터를 3-2로 꺾으면서 첫 우승을 차지했고, 2015년 스프링부터 2016년 스프링, 2019년 스프링부터 2020년 스프링까지 두 번이나 3회 연속 우승을 달성하는 등 LCK에서만 9회 우승을 달성했다. 지난 2021년 서머에서 담원 기아를 상대로 10회 우승에 도전했다 고배를 마셨지만, 2022년 스프링에서 그 누구도 달성하지 못했던 ‘18전 전승’이라는 신화를 작성하면서 승승장구하고 있다. 2013년 데뷔한 이상혁 또한 팀과 함께 LCK 10회 우승에 도전한다. 지도자로서는 담원 기아의 김정균 총감독이 2021년 서머 우승을 통해 가장 먼저 10회 우승이라는 기록을 세웠지만, 이번 스프링에서 우승한다면 선수로서는 이상혁이 가장 먼저 LCK 10회 우승의 대기록을 세운다. 이상혁을 제외한 다른 4명의 주전 선수들에게는 이번 우승이 첫 LCK 우승이다. 류민석은 DRX 시절인 2020년 서머에서 우승에 도전한 적이 있지만 실패했고, 2021년 서머에서는 ‘구마유시’ 이민형, ‘오너’ 문현준 등과 함께 준우승에 만족해야 했다. 처음으로 풀 타임 주전으로 활약한 탑 라이너 ‘제우스’ 최우제는 이번 결승이 처음이다.2021년 단장으로 T1에 합류했다가 올해 감독으로 자리를 옮긴 최성훈 감독 또한 지도자 자격으로 첫 결승전을 치른다.T1 |LCK젠지 |LCK■‘젠지’ 이름으로 첫 우승 도전젠지는 ‘2017 월드 챔피언십’을 제패한 삼성 갤럭시를 인수하면서 LCK에 모습을 드러냈다. KSV라는 이름으로 2018년 스프링을 소화했고, 서머부터 젠지로 활동한 이래 두 차례 LCK 결승전을 경험했다. 2020년 스프링 정규 리그 1위를 차지한 젠지는 결승에 선착했지만 T1에게 0-3으로 완패하면서 준우승에 머물렀다. 2021년 스프링에서는 담원 기아에게 0-3으로 패배하면서 또다시 정상 일보직전에서 눈물을 삼켰다. 이번 시즌을 앞두고 박재혁을 제외한 4명의 주전들을 모두 교체하면서 우승에 대한 열망을 불태운 젠지는 곧바로 결승에 오르면서 우승에 도전할 기회를 얻었다. 젠지의 주전 5명 가운데 LCK 우승을 경험한 선수는 정글러 ‘피넛’ 한왕호 뿐이다. 한왕호는 2016년 서머에서 락스 타이거즈 소속으로 우승을 경험했고 2017년 스프링에는 SK텔레콤 T1의 유니폼을 입고 정상에 올랐다. 또 2018년 스프링에서 킹존 드래곤X 소속으로 다시 우승컵을 안았다.반면, 탑 라이너 ‘도란’ 최현준은 2회 준우승, 미드 라이너 정지훈은 4회 준우승, 원거리 딜러 박재혁은 2회 준우승, 서포터 ‘리헨즈’ 손시우는 3회 준우승 등 번번이 우승 문턱을 넘지 못했다. ■최근 상대 전적 T1 5연승T1과 젠지는 역사가 오래된 팀인 만큼 상대 전적도 많다. 2018년 스프링부터 지금까지 정규 리그를 포함해 플레이오프와 결승 등 포스트 시즌에서도 숱하게 만났고 KeSPA컵 전적까지 포함하면 20번 이상 대결을 펼쳤다. 2021년1월 1일 이후 진행된 공식 대회에서 상대 전적은 6승2패로 T1이 앞서 있다. 2021년 스프링 정규 리그에서 1승1패를 나눠가졌지만 플레이오프 2라운드에서 젠지가 3-0으로 T1을 제압하고 결승에 올라갔다. 그 뒤로는 T1이 모두 승리했다. 2021년 서머 정규 리그에서 두 번 만나 승리했고 서머 플레이오프 2라운드에서 3-1로 승리하면서 결승에 진출했다. 2022년 젠지가 새로운 라인업을 갖추고 난 뒤 두 번의 정규 리그에서 모두 T1이 2-0으로 승리했지만 코로나19라는 변수가 발생하면서 젠지는 완전한 라인업으로는 T1을 상대한 적이 없다. 따라서 4월 2일 킨텍스에서 열리는 결승전은 젠지가 완전체로 T1을 상대하는 첫 경기가 되기에 더욱 큰 관심이 모이고 있다.조진호 기자 ftw@kyunghyang.com\n",
      "\t\t\t\t\t\t\n",
      "\t\t\t\t\t\t\n",
      "\t\t\t\t\t\t\n",
      "\t\t\t\t\t\t\n",
      "\t\t\t\t\t\t기사제공 스포츠경향\n",
      "조진호 기자 ftw@kyunghyang.com\n",
      "\n",
      "\n",
      "\n",
      "\n",
      "\n",
      "\n",
      "\n",
      "조진호 기자\n",
      "\n",
      "\n",
      "구독\n",
      "\n",
      "\n",
      "\n",
      "조진호 기자의 구독을 취소하시겠습니까?구독에서 해당 기자의 기사가 제외됩니다.\n",
      "\n",
      "예\n",
      "아니오\n",
      "\n",
      "닫기\n",
      "\n",
      "\n",
      "\n",
      "\n",
      "\n",
      "\n",
      "구독자\n",
      "-\n",
      "\n",
      "\n",
      "응원수\n",
      "-\n",
      "\n",
      "\n",
      "\n",
      "\n",
      "스포츠경향 생활경제부 입니다.\n",
      "\n",
      "\n",
      "\n",
      "뭘 보지? 고민 끝!…‘OTT 포털’ 등장\n",
      "\n",
      "\n",
      "애플티비도 온다…속타는 토종 OTT\n",
      "\n",
      "\n",
      "\n",
      "\n",
      "\n",
      "\n",
      "\n",
      "\n",
      "\n",
      "Copyright ⓒ 스포츠경향. All rights reserved. 무단 전재 및 재배포 금지.\n",
      "\n",
      "\n",
      "\n",
      "기사 섹션 분류 가이드\n",
      "\n",
      "기사 섹션 분류 안내\n",
      "스포츠 기사 섹션(종목) 정보는 언론사 분류와 기술 기반의 자동 분류 시스템을 따르고 있습니다. 오분류에 대한 건은 네이버스포츠로 제보 부탁드립니다.\n",
      "오분류 제보하기\n",
      "가이드 닫기\n",
      "\n",
      "\n",
      "\n",
      "\n",
      "\n",
      "\n",
      "스포츠경향 인기 무료만화 보기\n",
      "\n",
      "\n",
      "지금 옆사람이 보고있는 뉴스\n",
      "\n",
      "\n",
      "\n",
      "\n"
     ]
    }
   ],
   "source": [
    "print('제목:',data_title.get_text())\n",
    "print('날짜:',data_day.get_text())\n",
    "print('본문:',data_content.get_text())"
   ]
  },
  {
   "cell_type": "markdown",
   "id": "b309c057",
   "metadata": {},
   "source": [
    "## 과제 2"
   ]
  },
  {
   "cell_type": "code",
   "execution_count": 25,
   "id": "5bfd15eb",
   "metadata": {
    "ExecuteTime": {
     "end_time": "2022-03-30T06:03:34.425533Z",
     "start_time": "2022-03-30T06:03:34.412148Z"
    }
   },
   "outputs": [],
   "source": [
    "import pandas as pd"
   ]
  },
  {
   "cell_type": "code",
   "execution_count": 26,
   "id": "d763fc9b",
   "metadata": {
    "ExecuteTime": {
     "end_time": "2022-03-30T06:03:34.592016Z",
     "start_time": "2022-03-30T06:03:34.427474Z"
    }
   },
   "outputs": [
    {
     "data": {
      "text/plain": [
       "<Response [200]>"
      ]
     },
     "execution_count": 26,
     "metadata": {},
     "output_type": "execute_result"
    }
   ],
   "source": [
    "res = requests.get('http://www.crazy11.co.kr/shop/shopbrand.html?xcode=257&type=Y&gf_ref=Yz1iWFpVV2M=')\n",
    "res"
   ]
  },
  {
   "cell_type": "code",
   "execution_count": 27,
   "id": "77309ef9",
   "metadata": {
    "ExecuteTime": {
     "end_time": "2022-03-30T06:03:34.667979Z",
     "start_time": "2022-03-30T06:03:34.593926Z"
    }
   },
   "outputs": [],
   "source": [
    "soup = BeautifulSoup(res.content,'html.parser')"
   ]
  },
  {
   "cell_type": "code",
   "execution_count": 28,
   "id": "53eee809",
   "metadata": {
    "ExecuteTime": {
     "end_time": "2022-03-30T06:03:34.697923Z",
     "start_time": "2022-03-30T06:03:34.669994Z"
    },
    "scrolled": true
   },
   "outputs": [
    {
     "name": "stdout",
     "output_type": "stream",
     "text": [
      "\n",
      "                        아디다스 X 스피드플로우.3 FG (GW7483) #                    \n",
      "\n",
      "                        아디다스 코파 센스.1 HG (FZ3712) #.                    \n",
      "\n",
      "                        아디다스 X 고스티드.1 FG (FW6897) #.                    \n",
      "\n",
      "                        나이키 티엠포 레전드 9 엘리트 FG (CZ8482-616) #                    \n",
      "\n",
      "                        나이키 티엠포 레전드 9 엘리트 FG (CZ8482-007) #                    \n",
      "\n",
      "                        미즈노 모렐리아 네오 III 베타 (P1GA229027 일본산) #                    \n",
      "\n",
      "                        아디다스 프레데터 프릭+ FG (FY6239) 수입 #                    \n",
      "\n",
      "                        아디다스 프레데터 프릭+ 폴 포그바 X 스텔라 맥카트니 FG (GX0225) 수입 #                    \n",
      "\n",
      "                        아디다스 프레데터 프릭+ FG (FY6240) 수입 #                    \n",
      "\n",
      "                        나이키 머큐리얼 수퍼플라이 8 프로 FG (DJ2848-007) #                    \n",
      "\n",
      "                        아디다스 코파 센스+ FG (FY6226) 수입 #                    \n",
      "\n",
      "                        아디다스 코파 센스+ FG (FY6218) 수입 #                    \n",
      "\n",
      "                        아디다스 코파 센스.1 FG (GW4946) #                    \n",
      "\n",
      "                        나이키 팬텀 GT2 엘리트 AG-PRO (DC0748-808) 전용쌕 #                    \n",
      "\n",
      "                        나이키 팬텀 GT2 엘리트 DF FG (CZ9889-007) 전용쌕 #                    \n",
      "\n",
      "                        미즈노 웨이브 이그니터스 JAPAN (P1GA224409) 일본산 #                    \n",
      "\n",
      "                        미즈노 레뷸라 컵 JP (P1GA227064) 전용쌕/일본산 #                    \n",
      "\n",
      "                        아디다스 X 스피드플로우.1 FG (GW7453) #                    \n",
      "\n",
      "                        나이키 팬텀 GT2 엘리트 FG (CZ9890-808) 전용쌕 #                    \n",
      "\n",
      "                        나이키 머큐리얼 수퍼플라이 8 엘리트 MDS FG (DN3779-375) 전용쌕 #                    \n",
      "\n",
      "                        나이키 머큐리얼 수퍼플라이 8 엘리트 FG (DJ2839-484) 전용쌕 #                    \n",
      "\n",
      "                        아디다스 프레데터 엣지.1 FG (H02934) #                    \n",
      "\n",
      "                        나이키 팬텀 GT2 아카데미 HG (DC0795-808)                    \n",
      "\n",
      "                        아디다스 X 스피드플로우 메시.1 FG (GW7417) #.                    \n",
      "\n",
      "                        아디다스 X 스피드플로우.3 MG (GW7503) #                    \n",
      "\n",
      "                        아디다스 코파 센스.3 FG (GW4957)                    \n",
      "\n",
      "                        나이키 머큐리얼 수퍼플라이 8 아카데미 HG (DJ2867-484) #                    \n",
      "\n",
      "                        아디다스 프레데터 엣지.3 L FG (GW2280) #                    \n",
      "\n",
      "                        아디다스 프레데터 엣지.3 FG (GW2276) #                    \n",
      "\n",
      "                        아디다스 프레데터 엣지.3 MG (GW9989) #                    \n",
      "\n",
      "                        아디다스 코파 센스.1 AG (GW4948) #                    \n",
      "\n",
      "                        아디다스 프레데터 엣지.1 L AG (GZ2873) #                    \n",
      "\n",
      "                        아디다스 프레데터 엣지.1 FG (H02935) #                    \n",
      "\n",
      "                        아디다스 코파 센스.1 HG (GZ6378) #                    \n",
      "\n",
      "                        아디다스 코파 센스.1 FG (GW4943) #                    \n",
      "\n",
      "                        아디다스 프레데터 엣지.1 FG (H02932) #                    \n",
      "\n",
      "                        아디다스 X 스피드플로우.2 MG (GW7477) #                    \n",
      "\n",
      "                        아디다스 X 스피드플로우.1 FG (GW7457) #                    \n",
      "\n",
      "                        아디다스 프레데터 엣지.1 AG (GW9984) #                    \n",
      "\n",
      "                        아디다스 프레데터 엣지.3 L MG (GW9992) #                    \n"
     ]
    }
   ],
   "source": [
    "data_list = soup.find_all('div','itemInfo-tit lineH18')\n",
    "content = []\n",
    "for item in data_list:\n",
    "    print(item.get_text())\n",
    "    content.append(item.get_text())"
   ]
  },
  {
   "cell_type": "code",
   "execution_count": 29,
   "id": "3fedd4eb",
   "metadata": {
    "ExecuteTime": {
     "end_time": "2022-03-30T06:03:34.712940Z",
     "start_time": "2022-03-30T06:03:34.699915Z"
    },
    "scrolled": true
   },
   "outputs": [
    {
     "name": "stdout",
     "output_type": "stream",
     "text": [
      "109,000원\n",
      "299,000원\n",
      "299,000원\n",
      "269,000원\n",
      "269,000원\n",
      "329,000원\n",
      "359,000원\n",
      "369,000원\n",
      "359,000원\n",
      "179,000원\n",
      "359,000원\n",
      "359,000원\n",
      "269,000원\n",
      "289,000원\n",
      "309,000원\n",
      "299,000원\n",
      "299,000원\n",
      "299,000원\n",
      "289,000원\n",
      "339,000원\n",
      "319,000원\n",
      "299,000원\n",
      "99,000원\n",
      "299,000원\n",
      "109,000원\n",
      "109,000원\n",
      "109,000원\n",
      "109,000원\n",
      "129,000원\n",
      "129,000원\n",
      "269,000원\n",
      "299,000원\n",
      "299,000원\n",
      "269,000원\n",
      "269,000원\n",
      "299,000원\n",
      "179,000원\n",
      "299,000원\n",
      "299,000원\n",
      "109,000원\n"
     ]
    }
   ],
   "source": [
    "data_price = soup.find_all('span','itemInfo-price-ori txtc-99')\n",
    "price = []\n",
    "for item in data_price:\n",
    "    print(item.get_text())\n",
    "    price.append(item.get_text())"
   ]
  },
  {
   "cell_type": "code",
   "execution_count": 30,
   "id": "3508c56f",
   "metadata": {
    "ExecuteTime": {
     "end_time": "2022-03-30T06:03:34.727955Z",
     "start_time": "2022-03-30T06:03:34.714950Z"
    },
    "scrolled": false
   },
   "outputs": [
    {
     "data": {
      "text/html": [
       "<div>\n",
       "<style scoped>\n",
       "    .dataframe tbody tr th:only-of-type {\n",
       "        vertical-align: middle;\n",
       "    }\n",
       "\n",
       "    .dataframe tbody tr th {\n",
       "        vertical-align: top;\n",
       "    }\n",
       "\n",
       "    .dataframe thead th {\n",
       "        text-align: right;\n",
       "    }\n",
       "</style>\n",
       "<table border=\"1\" class=\"dataframe\">\n",
       "  <thead>\n",
       "    <tr style=\"text-align: right;\">\n",
       "      <th></th>\n",
       "      <th>물품</th>\n",
       "      <th>가격</th>\n",
       "    </tr>\n",
       "  </thead>\n",
       "  <tbody>\n",
       "    <tr>\n",
       "      <th>0</th>\n",
       "      <td>\\n                        아디다스 X 스피드플로우.3 FG (...</td>\n",
       "      <td>109,000원</td>\n",
       "    </tr>\n",
       "    <tr>\n",
       "      <th>1</th>\n",
       "      <td>\\n                        아디다스 코파 센스.1 HG (FZ3...</td>\n",
       "      <td>299,000원</td>\n",
       "    </tr>\n",
       "    <tr>\n",
       "      <th>2</th>\n",
       "      <td>\\n                        아디다스 X 고스티드.1 FG (FW...</td>\n",
       "      <td>299,000원</td>\n",
       "    </tr>\n",
       "    <tr>\n",
       "      <th>3</th>\n",
       "      <td>\\n                        나이키 티엠포 레전드 9 엘리트 FG...</td>\n",
       "      <td>269,000원</td>\n",
       "    </tr>\n",
       "    <tr>\n",
       "      <th>4</th>\n",
       "      <td>\\n                        나이키 티엠포 레전드 9 엘리트 FG...</td>\n",
       "      <td>269,000원</td>\n",
       "    </tr>\n",
       "    <tr>\n",
       "      <th>5</th>\n",
       "      <td>\\n                        미즈노 모렐리아 네오 III 베타 (...</td>\n",
       "      <td>329,000원</td>\n",
       "    </tr>\n",
       "    <tr>\n",
       "      <th>6</th>\n",
       "      <td>\\n                        아디다스 프레데터 프릭+ FG (FY...</td>\n",
       "      <td>359,000원</td>\n",
       "    </tr>\n",
       "    <tr>\n",
       "      <th>7</th>\n",
       "      <td>\\n                        아디다스 프레데터 프릭+ 폴 포그바 ...</td>\n",
       "      <td>369,000원</td>\n",
       "    </tr>\n",
       "    <tr>\n",
       "      <th>8</th>\n",
       "      <td>\\n                        아디다스 프레데터 프릭+ FG (FY...</td>\n",
       "      <td>359,000원</td>\n",
       "    </tr>\n",
       "    <tr>\n",
       "      <th>9</th>\n",
       "      <td>\\n                        나이키 머큐리얼 수퍼플라이 8 프로 ...</td>\n",
       "      <td>179,000원</td>\n",
       "    </tr>\n",
       "    <tr>\n",
       "      <th>10</th>\n",
       "      <td>\\n                        아디다스 코파 센스+ FG (FY62...</td>\n",
       "      <td>359,000원</td>\n",
       "    </tr>\n",
       "    <tr>\n",
       "      <th>11</th>\n",
       "      <td>\\n                        아디다스 코파 센스+ FG (FY62...</td>\n",
       "      <td>359,000원</td>\n",
       "    </tr>\n",
       "    <tr>\n",
       "      <th>12</th>\n",
       "      <td>\\n                        아디다스 코파 센스.1 FG (GW4...</td>\n",
       "      <td>269,000원</td>\n",
       "    </tr>\n",
       "    <tr>\n",
       "      <th>13</th>\n",
       "      <td>\\n                        나이키 팬텀 GT2 엘리트 AG-PR...</td>\n",
       "      <td>289,000원</td>\n",
       "    </tr>\n",
       "    <tr>\n",
       "      <th>14</th>\n",
       "      <td>\\n                        나이키 팬텀 GT2 엘리트 DF FG...</td>\n",
       "      <td>309,000원</td>\n",
       "    </tr>\n",
       "    <tr>\n",
       "      <th>15</th>\n",
       "      <td>\\n                        미즈노 웨이브 이그니터스 JAPAN ...</td>\n",
       "      <td>299,000원</td>\n",
       "    </tr>\n",
       "    <tr>\n",
       "      <th>16</th>\n",
       "      <td>\\n                        미즈노 레뷸라 컵 JP (P1GA22...</td>\n",
       "      <td>299,000원</td>\n",
       "    </tr>\n",
       "    <tr>\n",
       "      <th>17</th>\n",
       "      <td>\\n                        아디다스 X 스피드플로우.1 FG (...</td>\n",
       "      <td>299,000원</td>\n",
       "    </tr>\n",
       "    <tr>\n",
       "      <th>18</th>\n",
       "      <td>\\n                        나이키 팬텀 GT2 엘리트 FG (C...</td>\n",
       "      <td>289,000원</td>\n",
       "    </tr>\n",
       "    <tr>\n",
       "      <th>19</th>\n",
       "      <td>\\n                        나이키 머큐리얼 수퍼플라이 8 엘리트...</td>\n",
       "      <td>339,000원</td>\n",
       "    </tr>\n",
       "    <tr>\n",
       "      <th>20</th>\n",
       "      <td>\\n                        나이키 머큐리얼 수퍼플라이 8 엘리트...</td>\n",
       "      <td>319,000원</td>\n",
       "    </tr>\n",
       "    <tr>\n",
       "      <th>21</th>\n",
       "      <td>\\n                        아디다스 프레데터 엣지.1 FG (H...</td>\n",
       "      <td>299,000원</td>\n",
       "    </tr>\n",
       "    <tr>\n",
       "      <th>22</th>\n",
       "      <td>\\n                        나이키 팬텀 GT2 아카데미 HG (...</td>\n",
       "      <td>99,000원</td>\n",
       "    </tr>\n",
       "    <tr>\n",
       "      <th>23</th>\n",
       "      <td>\\n                        아디다스 X 스피드플로우 메시.1 F...</td>\n",
       "      <td>299,000원</td>\n",
       "    </tr>\n",
       "    <tr>\n",
       "      <th>24</th>\n",
       "      <td>\\n                        아디다스 X 스피드플로우.3 MG (...</td>\n",
       "      <td>109,000원</td>\n",
       "    </tr>\n",
       "    <tr>\n",
       "      <th>25</th>\n",
       "      <td>\\n                        아디다스 코파 센스.3 FG (GW4...</td>\n",
       "      <td>109,000원</td>\n",
       "    </tr>\n",
       "    <tr>\n",
       "      <th>26</th>\n",
       "      <td>\\n                        나이키 머큐리얼 수퍼플라이 8 아카데...</td>\n",
       "      <td>109,000원</td>\n",
       "    </tr>\n",
       "    <tr>\n",
       "      <th>27</th>\n",
       "      <td>\\n                        아디다스 프레데터 엣지.3 L FG ...</td>\n",
       "      <td>109,000원</td>\n",
       "    </tr>\n",
       "    <tr>\n",
       "      <th>28</th>\n",
       "      <td>\\n                        아디다스 프레데터 엣지.3 FG (G...</td>\n",
       "      <td>129,000원</td>\n",
       "    </tr>\n",
       "    <tr>\n",
       "      <th>29</th>\n",
       "      <td>\\n                        아디다스 프레데터 엣지.3 MG (G...</td>\n",
       "      <td>129,000원</td>\n",
       "    </tr>\n",
       "    <tr>\n",
       "      <th>30</th>\n",
       "      <td>\\n                        아디다스 코파 센스.1 AG (GW4...</td>\n",
       "      <td>269,000원</td>\n",
       "    </tr>\n",
       "    <tr>\n",
       "      <th>31</th>\n",
       "      <td>\\n                        아디다스 프레데터 엣지.1 L AG ...</td>\n",
       "      <td>299,000원</td>\n",
       "    </tr>\n",
       "    <tr>\n",
       "      <th>32</th>\n",
       "      <td>\\n                        아디다스 프레데터 엣지.1 FG (H...</td>\n",
       "      <td>299,000원</td>\n",
       "    </tr>\n",
       "    <tr>\n",
       "      <th>33</th>\n",
       "      <td>\\n                        아디다스 코파 센스.1 HG (GZ6...</td>\n",
       "      <td>269,000원</td>\n",
       "    </tr>\n",
       "    <tr>\n",
       "      <th>34</th>\n",
       "      <td>\\n                        아디다스 코파 센스.1 FG (GW4...</td>\n",
       "      <td>269,000원</td>\n",
       "    </tr>\n",
       "    <tr>\n",
       "      <th>35</th>\n",
       "      <td>\\n                        아디다스 프레데터 엣지.1 FG (H...</td>\n",
       "      <td>299,000원</td>\n",
       "    </tr>\n",
       "    <tr>\n",
       "      <th>36</th>\n",
       "      <td>\\n                        아디다스 X 스피드플로우.2 MG (...</td>\n",
       "      <td>179,000원</td>\n",
       "    </tr>\n",
       "    <tr>\n",
       "      <th>37</th>\n",
       "      <td>\\n                        아디다스 X 스피드플로우.1 FG (...</td>\n",
       "      <td>299,000원</td>\n",
       "    </tr>\n",
       "    <tr>\n",
       "      <th>38</th>\n",
       "      <td>\\n                        아디다스 프레데터 엣지.1 AG (G...</td>\n",
       "      <td>299,000원</td>\n",
       "    </tr>\n",
       "    <tr>\n",
       "      <th>39</th>\n",
       "      <td>\\n                        아디다스 프레데터 엣지.3 L MG ...</td>\n",
       "      <td>109,000원</td>\n",
       "    </tr>\n",
       "  </tbody>\n",
       "</table>\n",
       "</div>"
      ],
      "text/plain": [
       "                                                   물품        가격\n",
       "0   \\n                        아디다스 X 스피드플로우.3 FG (...  109,000원\n",
       "1   \\n                        아디다스 코파 센스.1 HG (FZ3...  299,000원\n",
       "2   \\n                        아디다스 X 고스티드.1 FG (FW...  299,000원\n",
       "3   \\n                        나이키 티엠포 레전드 9 엘리트 FG...  269,000원\n",
       "4   \\n                        나이키 티엠포 레전드 9 엘리트 FG...  269,000원\n",
       "5   \\n                        미즈노 모렐리아 네오 III 베타 (...  329,000원\n",
       "6   \\n                        아디다스 프레데터 프릭+ FG (FY...  359,000원\n",
       "7   \\n                        아디다스 프레데터 프릭+ 폴 포그바 ...  369,000원\n",
       "8   \\n                        아디다스 프레데터 프릭+ FG (FY...  359,000원\n",
       "9   \\n                        나이키 머큐리얼 수퍼플라이 8 프로 ...  179,000원\n",
       "10  \\n                        아디다스 코파 센스+ FG (FY62...  359,000원\n",
       "11  \\n                        아디다스 코파 센스+ FG (FY62...  359,000원\n",
       "12  \\n                        아디다스 코파 센스.1 FG (GW4...  269,000원\n",
       "13  \\n                        나이키 팬텀 GT2 엘리트 AG-PR...  289,000원\n",
       "14  \\n                        나이키 팬텀 GT2 엘리트 DF FG...  309,000원\n",
       "15  \\n                        미즈노 웨이브 이그니터스 JAPAN ...  299,000원\n",
       "16  \\n                        미즈노 레뷸라 컵 JP (P1GA22...  299,000원\n",
       "17  \\n                        아디다스 X 스피드플로우.1 FG (...  299,000원\n",
       "18  \\n                        나이키 팬텀 GT2 엘리트 FG (C...  289,000원\n",
       "19  \\n                        나이키 머큐리얼 수퍼플라이 8 엘리트...  339,000원\n",
       "20  \\n                        나이키 머큐리얼 수퍼플라이 8 엘리트...  319,000원\n",
       "21  \\n                        아디다스 프레데터 엣지.1 FG (H...  299,000원\n",
       "22  \\n                        나이키 팬텀 GT2 아카데미 HG (...   99,000원\n",
       "23  \\n                        아디다스 X 스피드플로우 메시.1 F...  299,000원\n",
       "24  \\n                        아디다스 X 스피드플로우.3 MG (...  109,000원\n",
       "25  \\n                        아디다스 코파 센스.3 FG (GW4...  109,000원\n",
       "26  \\n                        나이키 머큐리얼 수퍼플라이 8 아카데...  109,000원\n",
       "27  \\n                        아디다스 프레데터 엣지.3 L FG ...  109,000원\n",
       "28  \\n                        아디다스 프레데터 엣지.3 FG (G...  129,000원\n",
       "29  \\n                        아디다스 프레데터 엣지.3 MG (G...  129,000원\n",
       "30  \\n                        아디다스 코파 센스.1 AG (GW4...  269,000원\n",
       "31  \\n                        아디다스 프레데터 엣지.1 L AG ...  299,000원\n",
       "32  \\n                        아디다스 프레데터 엣지.1 FG (H...  299,000원\n",
       "33  \\n                        아디다스 코파 센스.1 HG (GZ6...  269,000원\n",
       "34  \\n                        아디다스 코파 센스.1 FG (GW4...  269,000원\n",
       "35  \\n                        아디다스 프레데터 엣지.1 FG (H...  299,000원\n",
       "36  \\n                        아디다스 X 스피드플로우.2 MG (...  179,000원\n",
       "37  \\n                        아디다스 X 스피드플로우.1 FG (...  299,000원\n",
       "38  \\n                        아디다스 프레데터 엣지.1 AG (G...  299,000원\n",
       "39  \\n                        아디다스 프레데터 엣지.3 L MG ...  109,000원"
      ]
     },
     "execution_count": 30,
     "metadata": {},
     "output_type": "execute_result"
    }
   ],
   "source": [
    "soccer_shoes = pd.DataFrame({'물품':content,'가격':price})\n",
    "soccer_shoes"
   ]
  },
  {
   "cell_type": "code",
   "execution_count": null,
   "id": "12371168",
   "metadata": {},
   "outputs": [],
   "source": []
  }
 ],
 "metadata": {
  "kernelspec": {
   "display_name": "Python 3 (ipykernel)",
   "language": "python",
   "name": "python3"
  },
  "language_info": {
   "codemirror_mode": {
    "name": "ipython",
    "version": 3
   },
   "file_extension": ".py",
   "mimetype": "text/x-python",
   "name": "python",
   "nbconvert_exporter": "python",
   "pygments_lexer": "ipython3",
   "version": "3.8.8"
  },
  "toc": {
   "base_numbering": 1,
   "nav_menu": {},
   "number_sections": true,
   "sideBar": true,
   "skip_h1_title": false,
   "title_cell": "Table of Contents",
   "title_sidebar": "Contents",
   "toc_cell": false,
   "toc_position": {},
   "toc_section_display": true,
   "toc_window_display": false
  }
 },
 "nbformat": 4,
 "nbformat_minor": 5
}
