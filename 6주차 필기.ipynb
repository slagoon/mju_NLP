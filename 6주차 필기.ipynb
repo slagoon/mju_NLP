{
 "cells": [
  {
   "cell_type": "markdown",
   "id": "8dfa49e9",
   "metadata": {},
   "source": [
    "## 태그 (문자열)제거 : extract()"
   ]
  },
  {
   "cell_type": "markdown",
   "id": "8695afd3",
   "metadata": {},
   "source": [
    "### 예제1"
   ]
  },
  {
   "cell_type": "code",
   "execution_count": 1,
   "id": "14cc4374",
   "metadata": {
    "ExecuteTime": {
     "end_time": "2022-04-09T09:18:45.095872Z",
     "start_time": "2022-04-09T09:18:44.894259Z"
    }
   },
   "outputs": [],
   "source": [
    "import requests\n",
    "from bs4 import BeautifulSoup"
   ]
  },
  {
   "cell_type": "code",
   "execution_count": 3,
   "id": "970b5cde",
   "metadata": {
    "ExecuteTime": {
     "end_time": "2022-04-05T06:17:33.198393Z",
     "start_time": "2022-04-05T06:17:33.182395Z"
    }
   },
   "outputs": [
    {
     "name": "stdout",
     "output_type": "stream",
     "text": [
      "빅데이터 분석과 응용매주 금요일 18:00-21:00\n"
     ]
    }
   ],
   "source": [
    "markup = '<p>빅데이터 분석과 응용<b>매주 금요일 18:00-21:00</b><p>'\n",
    "soup = BeautifulSoup(markup,'html.parser')\n",
    "mydata = soup.p\n",
    "print(mydata.get_text())"
   ]
  },
  {
   "cell_type": "code",
   "execution_count": 4,
   "id": "e568f28f",
   "metadata": {
    "ExecuteTime": {
     "end_time": "2022-04-05T06:17:56.176199Z",
     "start_time": "2022-04-05T06:17:56.162094Z"
    }
   },
   "outputs": [
    {
     "name": "stdout",
     "output_type": "stream",
     "text": [
      "빅데이터 분석과 응용\n"
     ]
    }
   ],
   "source": [
    "soup.b.extract()\n",
    "print(mydata.get_text())"
   ]
  },
  {
   "cell_type": "markdown",
   "id": "9e9e0852",
   "metadata": {},
   "source": [
    "### 예제2 - extract()는 특정 태그(문자열)을 반환"
   ]
  },
  {
   "cell_type": "code",
   "execution_count": 5,
   "id": "a54eb3f7",
   "metadata": {
    "ExecuteTime": {
     "end_time": "2022-04-05T06:19:26.557373Z",
     "start_time": "2022-04-05T06:19:26.536948Z"
    }
   },
   "outputs": [
    {
     "name": "stdout",
     "output_type": "stream",
     "text": [
      "<a href=\"http://example.com\">I linked to<i>example.com</i></a>\n"
     ]
    }
   ],
   "source": [
    "markup = '<a href = \"http://example.com\">I linked to<i>example.com</i><a>'\n",
    "soup = BeautifulSoup(markup)\n",
    "a_tag = soup.a\n",
    "print(a_tag)"
   ]
  },
  {
   "cell_type": "code",
   "execution_count": 6,
   "id": "f79bcd70",
   "metadata": {
    "ExecuteTime": {
     "end_time": "2022-04-05T06:19:50.253547Z",
     "start_time": "2022-04-05T06:19:50.237038Z"
    }
   },
   "outputs": [
    {
     "name": "stdout",
     "output_type": "stream",
     "text": [
      "<i>example.com</i>\n"
     ]
    }
   ],
   "source": [
    "i_tag = soup.i.extract()\n",
    "print(i_tag)"
   ]
  },
  {
   "cell_type": "code",
   "execution_count": 7,
   "id": "f127698b",
   "metadata": {
    "ExecuteTime": {
     "end_time": "2022-04-05T06:20:07.885892Z",
     "start_time": "2022-04-05T06:20:07.873892Z"
    }
   },
   "outputs": [
    {
     "name": "stdout",
     "output_type": "stream",
     "text": [
      "<a href=\"http://example.com\">I linked to</a>\n"
     ]
    }
   ],
   "source": [
    "print(a_tag)"
   ]
  },
  {
   "cell_type": "markdown",
   "id": "551b2a79",
   "metadata": {},
   "source": [
    "#### 제거할 태그가 없는 상태에서 제거할 경우 에러 발생"
   ]
  },
  {
   "cell_type": "code",
   "execution_count": 9,
   "id": "18083a55",
   "metadata": {
    "ExecuteTime": {
     "end_time": "2022-04-05T06:20:57.811196Z",
     "start_time": "2022-04-05T06:20:57.801197Z"
    }
   },
   "outputs": [],
   "source": [
    "#soup.i.extract()"
   ]
  },
  {
   "cell_type": "markdown",
   "id": "cae4447c",
   "metadata": {},
   "source": [
    "### .parent부모 태그를 찾아야 할 때"
   ]
  },
  {
   "cell_type": "code",
   "execution_count": 9,
   "id": "77d7a5fe",
   "metadata": {
    "ExecuteTime": {
     "end_time": "2022-04-09T10:20:46.594252Z",
     "start_time": "2022-04-09T10:20:46.579178Z"
    }
   },
   "outputs": [
    {
     "name": "stdout",
     "output_type": "stream",
     "text": [
      "<i>example.com</i>\n",
      "<a href=\"http://example.com\">I linked to<i>example.com</i></a>\n"
     ]
    }
   ],
   "source": [
    "markup='<a href = \"http://example.com\">I linked to<i>example.com</i><a>'\n",
    "soup = BeautifulSoup(markup)\n",
    "tag=soup.i\n",
    "print(tag)\n",
    "print(tag.parent)"
   ]
  },
  {
   "cell_type": "code",
   "execution_count": 10,
   "id": "79e5bcc2",
   "metadata": {
    "ExecuteTime": {
     "end_time": "2022-04-09T10:20:47.034197Z",
     "start_time": "2022-04-09T10:20:47.030419Z"
    }
   },
   "outputs": [
    {
     "name": "stdout",
     "output_type": "stream",
     "text": [
      "example.com\n"
     ]
    }
   ],
   "source": [
    "print(tag.string)"
   ]
  },
  {
   "cell_type": "code",
   "execution_count": 11,
   "id": "eb0620af",
   "metadata": {
    "ExecuteTime": {
     "end_time": "2022-04-09T10:20:47.505153Z",
     "start_time": "2022-04-09T10:20:47.501143Z"
    }
   },
   "outputs": [
    {
     "name": "stdout",
     "output_type": "stream",
     "text": [
      "example.com\n"
     ]
    }
   ],
   "source": [
    "print(tag.string.extract())"
   ]
  },
  {
   "cell_type": "code",
   "execution_count": 14,
   "id": "435d73c9",
   "metadata": {
    "ExecuteTime": {
     "end_time": "2022-04-05T06:37:15.693209Z",
     "start_time": "2022-04-05T06:37:15.676301Z"
    }
   },
   "outputs": [
    {
     "name": "stdout",
     "output_type": "stream",
     "text": [
      "<i></i>\n"
     ]
    }
   ],
   "source": [
    "print(tag)"
   ]
  },
  {
   "cell_type": "markdown",
   "id": "b11a09d9",
   "metadata": {},
   "source": [
    "### 여러 부분에서 제거해야하는 경우(갯수가 맞아야함)"
   ]
  },
  {
   "cell_type": "code",
   "execution_count": 15,
   "id": "2b252cb9",
   "metadata": {
    "ExecuteTime": {
     "end_time": "2022-04-10T05:42:11.617448Z",
     "start_time": "2022-04-10T05:42:11.604447Z"
    }
   },
   "outputs": [
    {
     "name": "stdout",
     "output_type": "stream",
     "text": [
      "[<a href=\"http://naver.com\">네이버 <i>홈페이지</i></a>, <a href=\"http://mju.ac.kr\">명지대 <i>홈페이지</i></a>, <a href=\"http://hongik.ac.kr\">홍익대 <i>홈페이지</i></a>]\n"
     ]
    }
   ],
   "source": [
    "markup = '''\n",
    "<a href = \"http://naver.com\">네이버 <i>홈페이지</i></a>\n",
    "<a href = \"http://mju.ac.kr\">명지대 <i>홈페이지</i></a>\n",
    "<a href = \"http://hongik.ac.kr\">홍익대 <i>홈페이지</i></a>\n",
    "'''\n",
    "soup = BeautifulSoup(markup)\n",
    "mydata = soup.find_all('a')\n",
    "print(mydata)"
   ]
  },
  {
   "cell_type": "code",
   "execution_count": 16,
   "id": "c4da2228",
   "metadata": {
    "ExecuteTime": {
     "end_time": "2022-04-10T05:42:13.163460Z",
     "start_time": "2022-04-10T05:42:13.147459Z"
    }
   },
   "outputs": [
    {
     "name": "stdout",
     "output_type": "stream",
     "text": [
      "<html><body>\n",
      "<a href=\"http://mju.ac.kr\">명지대 <i>홈페이지</i></a>\n",
      "<a href=\"http://hongik.ac.kr\">홍익대 <i>홈페이지</i></a>\n",
      "</body></html>\n",
      "<html><body>\n",
      "\n",
      "<a href=\"http://hongik.ac.kr\">홍익대 <i>홈페이지</i></a>\n",
      "</body></html>\n",
      "<html><body>\n",
      "\n",
      "\n",
      "</body></html>\n",
      "[<a href=\"http://naver.com\">네이버 <i>홈페이지</i></a>, <a href=\"http://mju.ac.kr\">명지대 <i>홈페이지</i></a>, <a href=\"http://hongik.ac.kr\">홍익대 <i>홈페이지</i></a>]\n"
     ]
    }
   ],
   "source": [
    "for item in mydata:\n",
    "    soup.a.extract()\n",
    "    print(soup)\n",
    "print(mydata)"
   ]
  },
  {
   "cell_type": "markdown",
   "id": "823eb3a8",
   "metadata": {},
   "source": [
    "- 갯수가 안맞을 경우 힌트 : i 태그를 먼저 찾아서 i 태그를 삭제(위에는 a태그로 가져옴)"
   ]
  },
  {
   "cell_type": "markdown",
   "id": "dbe062b7",
   "metadata": {},
   "source": [
    "## 여러페이지에서 수집하기"
   ]
  },
  {
   "cell_type": "code",
   "execution_count": 1,
   "id": "7e23d7bb",
   "metadata": {
    "ExecuteTime": {
     "end_time": "2022-04-07T09:06:30.924217Z",
     "start_time": "2022-04-07T09:06:30.824887Z"
    }
   },
   "outputs": [],
   "source": [
    "import requests\n",
    "from bs4 import BeautifulSoup"
   ]
  },
  {
   "cell_type": "code",
   "execution_count": 6,
   "id": "f216f9d0",
   "metadata": {
    "ExecuteTime": {
     "end_time": "2022-04-07T09:21:47.319960Z",
     "start_time": "2022-04-07T09:21:46.798962Z"
    }
   },
   "outputs": [
    {
     "name": "stdout",
     "output_type": "stream",
     "text": [
      "http://corners.gmarket.co.kr/Bestsellers?viewType=G&groupCode=G01\n",
      "\n",
      "\n",
      "\n",
      "\n",
      "\n",
      "브리치X연합전 20%+10%쿠폰 블라우스/니트/가디건/맨투맨\n",
      "[비비안]비비안 봄맞이 1+1브라/팬티 클리어런스 초특가\n",
      "[마르조]20%+12% 추가할인 마르조 오나라 미리만나봄\n",
      "[지오다노]20+5% 지오다노 봄신상 반팔 모음전 ~67%off\n",
      "브리치X저스트원 20%+10%중복쿠폰 팬츠/가디건/니트\n",
      "[타미힐피거]타미힐피거 남여공용 봄 윙클 크루넥 맨투맨/선물용/커플추천\n",
      "에이블린/20%/봄신상/원피스/반팔티/청바지/박스티\n",
      "시크폭스 봄신상/티셔츠/팬츠/슬랙스/청바지\n",
      "브리치x럭키567 20%+10%쿠폰 맨투맨/원피스/T셔츠\n",
      "빅세일20% 봄신상 티셔츠/블라우스/니트/원피스\n",
      "모노시크/20%/티셔츠/맨투맨/트레이닝/세트상품/팬츠\n",
      "제이프랑 20%봄신상 티셔츠/남방/반팔티/팬츠\n",
      "시크루즈/20%/롱원피스/세트/빅사이즈/루즈핏/데일리\n",
      "다온샵 봄세일+20% 청바지/면/조거/슬랙스/빅사이즈\n",
      "브리치x허니제이 20%+10%쿠폰 니트/가디건/팬츠\n",
      "요즘에/봄세일+20%/슬랙스/데님/면팬츠/밴딩/조거/3XL\n",
      "로드블링 20%쿠폰할인 봄신상 맨투맨/바지/티셔츠/\n",
      "20%/균일가/스판/스트레치/반팔티/반팔반바지세트\n",
      "[앤드지 바이 지오지아][앤드지] 22 S/S X초코어 남여공용 유니버스 맨투맨 7종 택1(BLC1TR1501)\n",
      "홈쇼핑 봄신상 아우터/점퍼/가디건/바람막이 外\n",
      "유닉심플20%봄신상/세트/맨투맨/남방/셔츠/원피스\n",
      "[게스]20+5% 게스 빅세일 22SS 반팔/데님/캐주얼가방 할인전\n",
      "브리치x씨샵인더룸 20%+10%쿠폰 가디건/니트/맨투맨\n",
      "런닝/5매/남성/남자/여성/여자/아동/조끼/반팔/속옷\n",
      "[미센스]미센스 봄 코디의 완성 BEST 니트/블라우스/팬츠 외\n",
      "인기바지 특가모음~ 카고바지/밴딩바지/스판바지\n",
      "[지프]나침판 빅 지프 반팔티_6 color (JM5TSU170)\n",
      "[아디다스골프]정품  아디다스 M 세레노 트랙 수트 3종 택1\n",
      "패션라인/봄신상+특가/블라우스/원피스/자켓/데님\n",
      "브리치x아이미마인 20%+10%쿠폰 가디건/맨투맨/니트\n",
      "[지오다노]20+5% 지오다노 패션빅세일 아우터/팬츠 특가\n",
      "[챔피온]20+5% 챔피온 라이브 방송상품 신상 최대할인 ~70%\n",
      "[플레이보이]남성 남자 패키지 드로즈 5매입 세트 PMD2109-5\n",
      "[시크헤라]시크헤라 인기신상 금주 베스트 아이템\n",
      "모스트맘 20%쿠폰 봄신상/잠옷/파자마/주니어잠옷\n",
      "[갠소]봄신상 데일리룩 20%+5%쿠폰/맨투맨/원피스/셔츠/팬츠\n",
      "빅세일20%홈쇼핑 인기 브랜드 신상 자켓/팬츠\n",
      "브리치X클로슈W 20%+10%쿠폰 니트/가디건/자켓\n",
      "브리치x박남매 20%+10% 빅사이즈 블라우스/셔츠\n",
      "슈프림 신상긴팔티/트레이닝 + 남여공용 팬츠/홈웨어\n",
      "20%쿠폰 엘라모 인기 남녀 반팔티셔츠 S~4XL 빅사이즈\n",
      "[레노마][레노마(남성)] S/S 구김이 적은 기능성 스판 쿨 슬랙스 RMIPBPZZA 8종 택1\n",
      "제이엘프 20%+5% 러블리룩 베스트 봄신상 모음\n",
      "빅사이즈 봄팬츠4종세트/밴딩/슬랙스/자켓\n",
      "20%쿠폰/1+1+1외/나시/속바지/속치마/다모음/최고품질\n",
      "투투/봄신상+특가/슬랙스/데님/빅사이즈5XL\n",
      "[이지바이](20%쿠폰)매일 입기좋은 스포츠/바지/바람막이/티\n",
      "{니트모아} 2022 신상 니트/폴라/가디건/빅사이즈\n",
      "[컴포트랩]탐탐 브라렛 단품 최대쿠폰적용가 12600원\n",
      "잇수다 20%쿠폰 니트/가디건/트레이닝세트/맨투맨\n",
      "[플라스틱아일랜드]플라스틱아일랜드 신상 데이트룩/데일리룩\n",
      "빅세일20% 봄신상 잠옷 주니어 사이즈 입고\n",
      "쉬블림로브 쿠폰적용7920균일 블라우스 원피스 맨투맨\n",
      "[폴햄]폴햄 외 봄시즌 데님/슬랙스 외 팬츠 할인전\n",
      "[솔로이스트]20+10% 솔로이스트 빅세일 아우터/원피스 SACL1H49\n",
      "[원더브라]볼륨원조 원더브라 본사 언더웨어 BIG SALE\n",
      "[블루레이스]20% 블루레이스 봄신상 BIG SALE\n",
      "[BYC]20%쿠폰/여성팬티/위생/노라인/보정/1+1 2BOX/사은품\n",
      "메이킹유 맨투맨/원피스/블라우스/스커트/가디건\n",
      "20%쿠폰 오버핏 빅사이즈 남자 반팔티 옵션추가금X\n",
      "20%/균일가/봄/여름/크롭/슬랙스/카고/트레이닝바지\n",
      "맨투맨 블라우스 잠옷 니트 원피스 점퍼 티셔츠 자켓\n",
      "[키스해링]특집 기획 팝아트 드로즈 5종패키지 택1\n",
      "엄마옷로즈맘 봄신상 티셔츠/마담/5060중년여성의류\n",
      "세미와이드카라 이모션 임팩트 드레스셔츠 BLC5WD1001\n",
      "봄신상/빅사이즈/청바지/슬랙스/밴딩/스커트/홈웨어\n",
      "20% 줄리샵 봄맞이 파격 세일 원피스/니트 외\n",
      "[비너스]노와이어브라 여자 여성 속옷 브래지어 세트 인견\n",
      "[by파크랜드]by파크랜드_빅세일 남성 정장 봄 최종가 슈트/자켓외\n",
      "[트라이]여성팬티5매/여자/여성/속옷/미디/맥시/위생\n",
      "[헤지스]20+5% 헤지스 남성 아울렛 인기 봄의류 빅세일 ~44%\n",
      "[리복]리복 올플랫 시그니쳐 드로즈 10종 패키지\n",
      "티탁 20%쿠폰/봄신상/원피스/맨투맨/롱티셔츠/팬츠\n",
      "[챔피온]20+5% 챔피온 인기 의류/잡화 클리어런스 빅세일 ~70%\n",
      "체이스컬트 봄 BEST 팬츠/자켓 모음\n",
      "[매니몰]20%쿠폰 매니몰  반팔티/반바지/반팔후드/S~4XL\n",
      "(20%쿠폰)편안한 스포츠/아웃도어/추리닝/청바지/자켓\n",
      "[랩]LAP S/S 신상 청자켓/티셔츠/원피스 外\n",
      "달리샵/봄신상/20%쿠폰/티셔츠/니트/바지/원피스/자켓\n",
      "[자주]JAJU 22 SS 봄신상 파자마 할인특가전\n",
      "[마리끌레르](신세계경기점)[SSG Exclusive] 벌룬 슬리브 셔링 원피스 (MOCAOP01M3)\n",
      "20%할인데이데이 봄신상/니트/블라우스/맨투맨/팬츠\n",
      "[핫코드]봄 신상 남자청바지/빅사이즈/슬랙스/스판/일자/행사\n",
      "[폴햄]폴햄 외 봄 맞이 티셔츠/셔츠/팬츠 외 모음전\n",
      "홈쇼핑 트위드자켓/맥코트/니트/팬츠\n",
      "[아디다스]20%쿠폰푸마 여성 브라팬티 2종/4종세트 할인전\n",
      "루나샵 여름신상 티셔츠/맨투맨/원피스/빅사이즈\n",
      "[캔마트]봄기운 물씬 S/S 최대40%+전회원15%/스마일20%+무배\n",
      "프라랑 1+1 봄신상 맨투맨/니트/밴딩팬츠\n",
      "[올리비아로렌]올리비아로렌외 22S/S 인기티셔츠/니트외 20+중복10%\n",
      "봄신상/남자청바지/남성/빅사이즈/슬랙스/조거팬츠\n",
      "수맘 수엠W 잠옷 원피스 홈웨어 상하세트\n",
      "[베스띠벨리](20+5%)비키/씨SPRING SALE 트렌치코트/자켓/원피스外\n",
      "[제임스딘]남성팬티/드로즈/남자속옷/패브릭드로즈/5종세트/속옷\n",
      "홈쇼핑 봄신상 간절기 니트/팬츠/원피스 外\n",
      "[챔피온]20FW  ASIA  여성 Champion 로고 C VAPOR® 반팔 티셔츠 CKTS0F271WT\n",
      "[이너리즘]심리스 스포츠 브라탑 4종기획세트/노라인팬티 5종\n",
      "5부 오버핏 반팔 티셔츠 남자여성 남녀공용 여름 면티\n",
      "[프로젝트M]남성 반팔 스웨터 3종 (EPB2ER1100 외2 종)\n",
      "쏭스타일 신상추가.빅사이즈.롱티.루즈핏\n",
      "http://corners.gmarket.co.kr/Bestsellers?viewType=G&groupCode=G05\n",
      "\n",
      "\n",
      "\n",
      "\n",
      "\n",
      "[아디다스]나이키外 인기 신상 반팔티/반바지/쇼트/운동복 모음\n",
      "[아이더]아이더 POP 2 PACK 라운드 반팔 티셔츠 DMM22293\n",
      "[뮬라웨어]20%+15% 뮬라웨어 패션빅세일 첫신상 초특가\n",
      "[비에프엘아웃도어]20%쿠폰) 트레이닝바지 4720원/레깅스/티셔츠\n",
      "[컬럼비아][컬럼비아] 남성 트레일 스톰 피크 미드 트레킹 등산화 BM5578\n",
      "[나이키]나이키 리복 스우시 6팩 크루삭스 장목 스포츠양말\n",
      "[크록스](20%쿠폰) 본사공식 크록스 BEST 22종 택 (G040422)\n",
      "[노스페이스화이트라벨]데일리 여름 반팔티/로고티/라운드티/슬리퍼 인기상품\n",
      "[데상트]데상트/디아도라/스킨스 인기 스포츠 의류 35종 택1\n",
      "[네파]남녀공용 NUVOLA 누볼라(7GC7643)\n",
      "[밀레]밀레 본사 바람막이 트레이닝복 티셔츠 바지\n",
      "[노스페이스]노스페이스 22SS 신상 맨투맨 외 의류/잡화 모음전\n",
      "[휠라]20%쿠폰 휠라 SS시즌 티셔츠/바지/운동화/슬리퍼/가방\n",
      "[챔피온]20FW  ASIA  C로고 C VAPOR® 반팔 티셔츠 CKTS0F223BK\n",
      "[밀레]밀레 본사 직영 등산복 바람막이 티셔츠 바지\n",
      "[카렉스]레인스톰 하이브리드 와이퍼  2+2 2세트 무료배송\n",
      "[르까프]르까프 브랜드 의류 총집합\n",
      "[아디다스](신세계경기점)[UNISEX SWIM] 아딜렛 크록 / 컴포트 (FY8970 GZ5886 CG3425 EG1850)\n",
      "[콜맨]콜맨 48종모음 할인 캠핑슈즈 뮬 트래킹화 키즈운동화\n",
      "[몽벨]몽벨 플리스자켓/바람막이/티셔츠/바지 외\n",
      "[머렐]남여 솔리드 경량 바람막이 자켓 (5220JS217_JS254) 컬러 7종\n",
      "[나이키]나이키 운동화 런닝화 에어맥스 맨투맨 바람막이 긴팔\n",
      "EXR/르까프 외 골프 아우터/트랙수트/티셔츠/팬츠\n",
      "Cartour알피쿨 K25 독일콤프 한국어설명서 국내AS\n",
      "[언더아머]언더아머 본사 남성 UA Tech 2.0 반팔\n",
      "[챔피온]20FW  ASIA  C로고 C VAPOR® 반팔 티셔츠 CKTS0F223WT\n",
      "[나이키]나이키 에어맥스 운동화 런닝화 긴팔티 바람막이 바지\n",
      "[네파]네파 SS OPEN BEST 자켓/바람막이/티셔츠/팬츠 50종\n",
      "[크록스](신세계본점)[크록스] 바야밴드 클로그 205089-6TG\n",
      "[아디다스](신세계김해점)[RUNNING] 갤럭시 5 (GW0767 FW5717 GW0762 FW5705 FY6718 G55774 GW0774 FW6125)\n",
      "[밀레](밀레) 플리스+방풍자켓 남성 피보 윈드플리스 자켓 3 in 1_MVQWJ413\n",
      "[불스원]불스원샷 골드 휘발유 500ML 1+1\n",
      "[크록스키즈]크록스/멜리사 아동/성인샌들/크록밴드 + 지비츠증정\n",
      "[노스페이스화이트라벨]SS 시즌 봄자켓/아노락/맨투맨/트레이닝/티셔츠/잡화\n",
      "[푸마]나이키/푸마 트레이닝 티셔츠 50종 택1\n",
      "[푸마]20% 푸마 외 골프웨어/간절기 봄의류 빅세일\n",
      "인기 바캉스 해변 슬리퍼 아쿠아 슈즈 샌들 4종 택1\n",
      "[아디다스]아디다스 21FW 남성 트랙수트2종\n",
      "국산 스파인코렉터 필라테스 기구 아크바렐\n",
      "[노스페이스]노스페이스 반팔티 특가 모음전\n",
      "[아이더]LUKE 루크 키즈 상하 세트 JUM21M11\n",
      "[웨스트우드]웨스트우드 여름자켓 외 아웃도어SS의류 세일전\n",
      "[나이키]나이키 정품 봄 후드/집업/맨투맨/팬츠 모음\n",
      "[뮬라웨어]20%+15% 뮬라웨어 봄준비 특가 레깅스/슬리브 외\n",
      "[킨즈]킨즈 프로 킥보드 초등학생 어린이 성인 두발 수동\n",
      "[테슬라]신상입고 요가복 레깅스 조거팬츠 트레이닝\n",
      "[불스원]불스원샷 골드 경유 500ML 1+1\n",
      "[네파]네파 봄 맞이 SS OPEN 자켓/티셔츠/팬츠/신발 50종\n",
      "[내셔널지오그래픽]크로우 입체패턴 쿨맥스 스몰 로고 반팔 티셔츠 N212MTS480\n",
      "국내산 코코 PVC 샤워기호스줄 2M 꼬임방지 물때x\n",
      "[컬럼비아][컬럼비아] 소자 30L 플러스 백팩 YU0393\n",
      "[미즈노]봄신상 운동복 운동화 트레이닝 상품 모음전\n",
      "[아디다스](신세계의정부점)[New Performance] M SL C 7/8 PT_[HE1859 HE1860]\n",
      "[마운티아]15-20% 마운티아 여름 기능성 자켓/티셔츠/팬츠 外\n",
      "[내셔널지오그래픽](대구신세계)내셔널지오그래픽 N212UTS140 쥬라기 아트웍 백프린트 H/TEE\n",
      "[아디다스]아디다스/푸마 外 SS 트레이닝복세트 아우터 긴바지\n",
      "[프로월드컵]PWX 캠핑슬리퍼 운동화 슬립온 티셔츠 반바지\n",
      "[아이로드]TR10 32GB 전후방 FHD 2채널 블랙박스 무료장착\n",
      "[콜핑]20%+5% 콜핑 반팔 긴팔 티 신상 바지 자켓 특가전\n",
      "[스케쳐스]여성 메모리폼 워킹화 울트라플렉스고워크 조이 5종 SL0WP21X161 162 163 164\n",
      "[나이키]나이키 리복 양말 5팩 스우시 크루삭스 키즈 스포츠\n",
      "[코베아]3웨이올인원M 구이바다 아이보리에디션 쓱디션(가방포함)\n",
      "[로티캠프]원터치 빅스퀘어 텐트 6인용\n",
      "휠라 레인저 1RM01141E147\n",
      "[스탠리]스탠리 어드벤쳐 워터저그 7.5L(네이비) 캠핑템\n",
      "[밀레](밀레) (남성) 브로센 기본 여름 팬츠_MXPUP102\n",
      "[프로월드컵]PWX 새부리형마스크 KF94 100매 블랙 개별포장 특대형\n",
      "[아디다스]아디다스/푸마 외 봄 신상 반팔 긴팔 쇼트 팬츠 모음\n",
      "[나이키]나이키 조거팬츠 트레이닝복 츄리닝 bv2679 수비토\n",
      "[챔피온]20FW  ASIA  C로고 C VAPOR® 반팔 티셔츠 CKTS0F223CG\n",
      "[트렉스타]코브라 800 시티 트레킹화 코브라 최고의 인기상품\n",
      "[카릭스]벌컨 26 특대형 사발이 포함 풀세트 우드 스토브 발칸\n",
      "[아이나비]블랙박스 FXD7000 16G 풀HD 2채널 GPS + 무료출장장착\n",
      "[코베아][코베아] 3way 올인원 구이바다 (캐리백 포함)\n",
      "[아디다스](신세계의정부점)[New Performance] 알파바운스BB슬라이드 택1[BA8775 B41720 FZ0387 FZ0388]\n",
      "온라인단독  FILA RELAXATION 반팔 FE2RSE5106XBLK\n",
      "귀걸이형 매쉬 라이딩마스크 자외선차단 자전거등산\n",
      "[일동후디스]일동후디스 하이뮨 프로틴 밸런스 304g x 1통 /An\n",
      "[스케쳐스](신세계강남점)[스케쳐스]여성 워킹화 울트라플렉스/고워크5 17종 (SL0WP21X161/162/163/164)(SP0WW21X0...\n",
      "[엑스핏]1+1 가죽 블랙에디션 차량용목쿠션 목베개 헤드쿠션 小\n",
      "[크록스](신세계본점)[크록스] 바야밴드 클로그 205089-4JL\n",
      "[파인캐디]UPL1000 레이저 골프거리측정기 빅세일\n",
      "[크록스]아동 라렌 클로그 키즈 15908-410\n",
      "캠프365 파파웨건 캠핑웨건 뒷문 확장 원단 분리\n",
      "[웨스트우드]웨스트우드 등산자켓 외 티셔츠/팬츠 SS의류 세일전\n",
      "[푸마]푸마 스포츠 남성 여성 학생 크루삭스 국내생산 양말\n",
      "스몰 와펜 반팔티 FS2RSD2104XBLK\n",
      "[파인뷰]파인뷰 X900 POWER F/F2 블랙박스 64GB무료업 설치O\n",
      "[푸마]Puma Smash v2 Vulc CV(36596802)\n",
      "[스탠리]스탠리 어드벤쳐 워터저그 7.5L(폴라블루) 캠핑템\n",
      "[모토앤]21년형) 15W 차량용 핸드폰 고속 무선 충전기 거치대\n",
      "[네파]남여 프레도 칠 카라 티셔츠 7G35241 7G45241 (남성컬러 7종 여성컬러 5종)\n",
      "[하디로어]하디로어 가정용 2중 잠금 안전한 프리미엄 문틀 철봉\n",
      "[스케쳐스][스케쳐스] 남여 러닝화 고 런 펄스 SP0WR21X051 4종\n",
      "에디바우어 22SS 여름 아웃도어팬츠 남성 3종\n",
      "[롤러브레이드]롤러블레이드 2022년 피닉스 아동용 인라인스케이트\n",
      "[센터폴]20+10%쿠폰 센터폴 외 봄 시즌오프+여름프리뷰~92%OFF\n",
      "[네파]네파 남녀양말  3켤레 5켤레 구성  [최대49%] BEST 3종 택 1\n",
      "[반스]반스 어센틱 남자 여성 스니커즈 운동화 VN0A4BV905D\n",
      "[크록스]남녀공용 라렌 클로그 15907-100\n",
      "http://corners.gmarket.co.kr/Bestsellers?viewType=G&groupCode=G06\n",
      "\n",
      "\n",
      "\n",
      "\n",
      "\n",
      "[갤럭시]삼성 갤럭시워치4 40mm 블루투스 +할인+강화유리\n",
      "[다이슨](본사) 다이슨 에어랩 스타일러 볼륨앤쉐이프\n",
      "[삼성전자]삼성 갤럭시버즈 프로 ANC 블루투스 이어폰 SM-R190\n",
      "[애플]아이폰 13 프로 자급제 256GB (색상 선택)\n",
      "[에어팟]혜택가23만원대 에어팟 프로 MagSafe MLWK3KH/A\n",
      "[애플]아이폰 13 프로 자급제 128GB (색상 선택)\n",
      "[삼성전자]삼성 갤럭시워치4 클래식 46mm 블루투스 할인+혜택 3종\n",
      "[애플]아이폰 13 미니 자급제 128GB (색상 선택)\n",
      "[갤럭시]삼성 갤럭시워치4 44mm 블루투스 +할인+강화유리\n",
      "[노트북플러스]노트북 플러스2 NT550XDZ-AD5A 가성비 노트북 최종61만\n",
      "[애플]아이폰 13 자급제 128GB (색상 선택)\n",
      "[레노버]레노버 xiaoxin p11 Plus 태블릿 6+128G 개봉글로벌롬\n",
      "[아이패드]애플 아이패드 9세대 10.2인치 WIFI 64GB\n",
      "[애플]애플 에어팟 3세대 / 케이스 증정\n",
      "[에어팟]헤택가19만원대 에어팟 3세대 Magsafe MME73KH/A\n",
      "[삼성전자]삼성 갤럭시 워치4 40mm +최대20%쿠폰+액정보호필름\n",
      "[삼성전자]삼성 갤럭시버즈2 블루투스 이어폰 SM-R177\n",
      "[애플]아이폰 13 자급제 256GB (색상 선택)\n",
      "[삼성전자]공식파트너 삼성 세라믹 전자레인지 MS23K3523AK\n",
      "[비달사순]비달사순 2000W 전문가용 헤어드라이기 VSD5129K\n",
      "[삼성전자]갤럭시 핏2 스마트밴드 +20%할인+액정필름\n",
      "당일출고정품  애플 에어팟 프로\n",
      "[애플]아이폰 13 미니 자급제 256GB (색상 선택)\n",
      "[쿠쿠]CMW-A201DW 전자레인지 다이얼식 20L\n",
      "S22 울트라 노트20/노트10/S21/S20 /A53 A32 A23 가죽\n",
      "[갤럭시]1+1 2개(1.7m) 3in1 핸드폰 충전케이블 C타입+5핀+8핀\n",
      "[엠지텍]노래방/블루투스스피커 락클래식 디스코 마이크2개증정\n",
      "[제로큐브]21년형+10%쿠폰) 고급형 써큘레이터 선풍기 리모컨\n",
      "[삼성전자]삼성 갤럭시워치4 클래식 42mm 블루투스 할인+혜택 3종\n",
      "[아이모노]21년최신 무선 셀카봉 블루투스 핸드폰 삼각대 거치대\n",
      "[위닉스](공식인증점) 위닉스 뽀송 제습기 10L DXAH100-JWK\n",
      "[삼성전자]삼성 공식인증 MicroSD EVO Plus 512GB MB-MC512KA EL\n",
      "크레마 S (crema S) 블랙 / 화이트\n",
      "[인스탁스]인스탁스 미니필름 40장+사은품/폴라로이드필름\n",
      "[비보북]X513EA-BQ031 중복7만|최종56만|i5-11세대 인기노트북\n",
      "[주연테크]X27FI-144 27인치 게이밍 모니터 IPS 144Hz 스피커내장\n",
      "[에이수스]X515EA-BQ040 (중복7만 최종50.9만) ASUS 가성비노트북 인텔 i5-1135G 8GB NVMe 256GB 프리도스\n",
      "[자우버]렌즈케어 200매 렌즈클리너 일회용 안경닦이 티슈\n",
      "[UM2]200W PD 접지멀티충전기 200PD-GAN2 노트북 맥북 플립\n",
      "[삼성전자]846리터 3도어 양문형 냉장고 RS84T5041M9 공식인증점\n",
      "[갤럭시]1+1 2개(2m)고속충전케이블 C타입/5핀/8핀 삼성아이폰\n",
      "[애플]애플 펜슬 2세대 MU8F2KH/A\n",
      "[일렉트로룩스]18V 무선청소기 ZB3311 (BEST 인기)\n",
      "[HP]HP X27q QHD 게이밍모니터 최종 31만 IPS/165HZ/HDR400\n",
      "[필립스](1+1특가) 소닉케어 1100 시리즈 HX3641/41 전동칫솔\n",
      "[레드울프]S22 노트20/노트10/S21/S20/S10/A53/A32 울트라 가죽\n",
      "[비보북]M3500QA-L1073 기간한정 최대 66만 삼성 OLED 세잔 R5\n",
      "[삼성전자]삼성전자 갤럭시 워치4 40mm / SM-R860N 20%+3종혜택\n",
      "[쿠쿠]트윈프레셔 6인용 IH압력밥솥 CRP-LHTR0610FWM\n",
      "[삼성전자]삼성전자 DDR4 8GB PC4-25600 (3200) sl\n",
      "[피스넷]끊김없는 완전무선 블루투스이어폰 피스넷 프리고\n",
      "[노트북플러스]삼성전자 노트북 플러스2 NT550XDZ-AD3A 최종 54만\n",
      "[아이닉](10%쿠폰)차이슨 무선청소기 NEW i20 UV탑재\n",
      "[쿠쿠]전자레인지 20L CMW-A201DB\n",
      "[삼성전자]갤럭시워치4 44mm LTE 자급제 +할인+혜택 3종\n",
      "[갤럭시탭A]갤럭시탭 A8 10.5 SM-X200 WIFI 64GB\n",
      "[삼성전자]삼성전자 갤럭시 워치4 44mm / SM-R870N 20%+3종혜택\n",
      "[그램17]LG그램 2022 신제품 17ZD95P-GX76K 153만초특가 노트북\n",
      "[티피링크]티피링크 Tapo C210 2K 초고화질 가정용 무선홈 CCTV\n",
      "[어메이즈핏]어메이즈핏 스마트워치 티렉스 T-REX PRO 블랙 한글판\n",
      "[레노버]레노버 XiaoxinPad 태블릿 P11 4G+64GB WIFI K11 버전\n",
      "[인스탁스]인스탁스 미니필름 100장+사은품/폴라로이드필름\n",
      "[쿠쿠]CRP-DHP0610FD 6인용 IH 압력밥솥\n",
      "[지펠][지펠] [306L] 삼성 리얼메탈 빌트인 냉장고 엘레강트블랙 [RB30R4051B1]\n",
      "[삼성전자]갤럭시워치4 클래식 46mm LTE 자급제 +할인+혜택 3종\n",
      "[삼성전자]갤럭시워치4 40mm LTE 자급제 +할인+혜택 3종\n",
      "[닌텐도]Z 닌텐도 SWITCH 별의커비 디스커버리\n",
      "[테팔](10%중복) 믹서기 블렌더 블렌드포스 플러스 BL4258\n",
      "[TUF]FX706HEB-HX113 특가 102만 RTX3050Ti 게이밍노트북\n",
      "[로지텍]로지텍 M350 페블 무소음 무선 블루투스 마우스 병행\n",
      "[단미]2구 타이머 와플메이커 샌드위치메이커 화이트 SAN02T\n",
      "[HP]HP X32 QHD 165hz HDR 최종36만/게이밍/1ms/165Hz/32형\n",
      "[LG전자]LG 블랙라벨 통돌이 세탁기 16KG T16MU\n",
      "[제이엠더블유]JMW M5001A PLUS 헤어드라이기\n",
      "[베이스어스]D02 pro 블루투스 무선 헤드폰 헤드셋 50h재생 블랙\n",
      "[갤럭시북]갤럭시북 NT750XDZ-A51A 1.55kg 대학생 추천 최종 83만\n",
      "[필립스](15% 중복)필립스 3000시리즈 전기면도기 S3231/52\n",
      "[카시오]본사직영 카시오 FX-570ES plus-2 공학용 계산기\n",
      "[쿠쿠]CRP-HQB0310FS 3인용 IH전기압력밥솥\n",
      "윤남텍 간편세척 초음파 다목적 가습기/YN-101/G마켓\n",
      "[갤럭시]1+1 2개(1.2m) 3in1 멀티 충전케이블 C타입+5핀+8핀\n",
      "[비소]비소 스마트폰 삼각대 풀세트 (리모콘+거치대+가방)\n",
      "[애플]아이폰 SE 3세대 자급제 128GB (색상선택)\n",
      "NB 공식수입사 NB정품 F100A 모니터거치대 모니터암\n",
      "[큐씨와이]QCY T13 APP 화이트 TWS 블루투스 이어폰\n",
      "[디베아](15%쿠폰)차이슨 무선청소기 ALLNEW22000  35000PA\n",
      "[쿠쿠]6인용 트윈프레셔밥솥 CRP-ST0610FW\n",
      "[로지텍]로지텍 G304 무선 게이밍 마우스 병행 밀봉박스새상품\n",
      "핸드폰/갤럭시S22울트라/S21/노트20/S20/A52/A32/버디\n",
      "[오아]클린이워터B 휴대용 무선 구강세정기 1+1 패키지\n",
      "[쿠쿠]CRP-KHTS1060FD 트윈프레셔밥솥 10인용 /LKM\n",
      "[삼성전자]갤럭시탭A7라이트 8.7 SM-T220 WIFI 32GB 그레이\n",
      "[디앤더블유]안방 연기잡는 그릴 AB501DG 예성\n",
      "[기가바이트](+공인) GIGABYTE G27F FHD 게이밍 144 피씨디렉트\n",
      "[필립스]PHILIPS 샤티넬 어드밴스 모근제거기 BRE710/10\n",
      "[제로큐브]1+1) 고속 충전기 USB+C타입 핸드폰 삼성 갤럭시 애플\n",
      "[삼성전자]삼성전자 DDR4 PC4-25600 8GB\n",
      "[쿠쿠]CMW-2310DW 23L 전자레인지\n",
      "[칼리아]스마트폰 핸드폰 침대 자바라 거치대 CF-350\n",
      "[필립스](15%중복)필립스 면도기 SkinIQ5000 S5582/36오션블루\n"
     ]
    }
   ],
   "source": [
    "site_list = ['http://corners.gmarket.co.kr/Bestsellers?viewType=G&groupCode=G01',\n",
    "'http://corners.gmarket.co.kr/Bestsellers?viewType=G&groupCode=G05',\n",
    "'http://corners.gmarket.co.kr/Bestsellers?viewType=G&groupCode=G06']\n",
    "\n",
    "for site in site_list:\n",
    "    res = requests.get(site)\n",
    "    soup = BeautifulSoup(res.content)\n",
    "    mydata = soup.find_all('a','itemname')\n",
    "    print(site)\n",
    "    for item in mydata:\n",
    "        print(item.get_text())"
   ]
  },
  {
   "cell_type": "code",
   "execution_count": 7,
   "id": "140e6b9f",
   "metadata": {
    "ExecuteTime": {
     "end_time": "2022-04-07T09:21:49.790859Z",
     "start_time": "2022-04-07T09:21:49.356870Z"
    }
   },
   "outputs": [
    {
     "name": "stdout",
     "output_type": "stream",
     "text": [
      "\n",
      "치킨마요덮밥&국물떡볶이  5,500원\n",
      "버섯별미밥(#)  3,000원\n",
      "쇠고기육개장  5,000원\n",
      "※운영시간: 11:00~14:30\n",
      "※혼잡시간: 11:50~12:20\n",
      "\n"
     ]
    }
   ],
   "source": [
    "res = requests.get('https://snuco.snu.ac.kr/ko/foodmenu?field_menu_date_value_1%5Bvalue%5D%5Bdate%5D=&field_menu_date_value%5Bvalue%5D%5Bdate%5D=04%2F04%2F2022')\n",
    "soup = BeautifulSoup(res.content)\n",
    "mydata = soup.find('td','views-field views-field-field-lunch')\n",
    "\n",
    "print(mydata.get_text())"
   ]
  },
  {
   "cell_type": "code",
   "execution_count": 8,
   "id": "702289c4",
   "metadata": {
    "ExecuteTime": {
     "end_time": "2022-04-07T09:22:34.371363Z",
     "start_time": "2022-04-07T09:22:33.873964Z"
    }
   },
   "outputs": [
    {
     "name": "stdout",
     "output_type": "stream",
     "text": [
      "\n",
      "치킨마요덮밥&국물떡볶이  5,500원\n",
      "버섯별미밥(#)  3,000원\n",
      "쇠고기육개장  5,000원\n",
      "※운영시간: 11:00~14:30\n",
      "※혼잡시간: 11:50~12:20\n",
      "\n",
      "\n",
      "바지락순두부  4,500원\n",
      "불고기비빔밥  5,500원\n",
      " \n",
      "※운영시간: 11:30~14:00\n",
      "※혼잡시간: 11:50~12:20\n",
      " \n",
      "(3층 교직원) 오늘의 메뉴-육개짬뽕밥  11,000원\n",
      "(3층교직메뉴)\n",
      "봄나물&불고기정식  15,000원\n",
      "웰빙정식  17,000원\n",
      "고등어구이정식  15,000원\n",
      "연어스테이크  15,000원\n",
      "꿀유자청닭정육채소구이  13,000원\n",
      "왕갈비탕  13,000원\n",
      "매운삼겹살직화구이  13,000원\n",
      "한우사골떡만두국  12,000원\n",
      "뚝배기순두부찌개  9,000원\n",
      "리코타치즈샐러드  10,000원\n",
      "왕만두(2개)  3,000원\n",
      "\n",
      "\n",
      "백종원만두전골 + 제육볶음 + 미역줄기볶음 + 콩나물무침 : 5,500원\n",
      "셀프라면 + 밥 + 김치 : 3000원\n",
      "▶ 운영시간 : 11:30 ~ 13:30\n",
      "\n",
      "\n",
      "당분간 폐점\n",
      "\n",
      "\n",
      "피자, 스파게티류\n",
      " \n",
      "※운영시간: 10:30~18:00\n",
      "※혼잡시간: 12:00~12:30\n",
      "\n",
      "\n",
      "<셀프코너> 6,500원\n",
      "잡곡밥\n",
      "스키야키우육버섯전골\n",
      "수원식얼큰물갈비찜\n",
      "뿌링클치킨볼&요거트소스\n",
      "한식잡채\n",
      "흑임자치커리무침\n",
      "깍두기\n",
      " \n",
      "오늘의차\n",
      "그린샐러드\n",
      " \n",
      "※운영시간: 11:00~14:00\n",
      "※혼잡시간: 12:00~12:30\n",
      "\n",
      "\n",
      "너비아니구이&북어해장국  6,000원\n",
      " \n",
      " \n",
      "※ 운영시간 : 11:00~14:00\n",
      "※ 혼잡시간 : 11:30~12:10\n",
      "\n",
      "\n",
      "잔치국수  4,500원\n",
      "두부와쇠고기볶음  5,000원\n",
      " \n",
      "※운영시간: 11:30~13:30\n",
      "\n",
      "\n",
      "<셋트메뉴>\n",
      "* 호구셋트 7,400원\n",
      " (콤비메뉴 + 미니탕수육 + 팝만두)\n",
      "* 돈까스 비빔면 셋트 6,300원\n",
      " (돈까스 비빔면 + 찐만두)\n",
      "* 탄탄비빔면 셋트 6,300원\n",
      " (탄탄비빔면 + 찐만두)\n",
      " \n",
      "<단품 메뉴>\n",
      "우삼겹 짬뽕 9,900원\n",
      "치킨 탕수육 8,200원\n",
      "짬짜탕면 7,200원\n",
      "순두부 만두 짬뽕 / 밥 5,500원\n",
      "부대짬뽕 / 밥 5,900원\n",
      "고기 소보루 볶음밥 4,200원\n",
      "공간 짜장면 4,200원\n",
      "사천 짜장면 4,200원\n",
      "공간 짬뽕 / 밥 4,200원\n",
      "콤비메뉴 5,200원\n",
      "( 짜장면/짬뽕, 볶음밥/짜장, 볶음밥/짬뽕) \n",
      " \n",
      "<사이드 메뉴>\n",
      "미니 탕수육 3,800원\n",
      "찐만두 2,000원\n",
      "탄산음료(콜라/사이다) 1,500원\n",
      " \n",
      "※운영시간: 11:00~18:30 /\n",
      "브레이크 타임 : 14:30~15:30\n",
      "\n",
      "\n",
      "<채식뷔페> 7000원\n",
      "비건 스테이크\n",
      "바질 페스토 콘킬리에\n",
      "그릴 채소구이\n",
      "옥수수 쏨땀\n",
      "황금 버섯잡채\n",
      "쌀밥/잡곡밥\n",
      "미역국\n",
      "야채죽\n",
      "비건포기김치\n",
      "그린샐러드&토핑\n",
      "오렌지\n",
      "옥수수수염차&오미자차\n",
      "\n",
      "\n",
      "제육쌈정식&씨앗쌈장  6,000원\n",
      "새우튀김덮밥&국물떡볶이(#)  5,500원\n",
      " \n",
      "※운영시간: 11:00~14:00\n",
      "※혼잡시간: 11:30~12:40\n",
      "\n",
      "\n",
      "우거지갈비탕  5,000원\n",
      "핫커리등심돈까스  5,500원\n",
      " \n",
      "※운영시간: 11:30-13:30\n",
      "※혼잡시간: 11:50-12:20\n",
      "\n",
      "\n",
      "<교직원식당>\n",
      "\n",
      "▷봄 6,500원\n",
      "참치채소비빔밥,집게맛살튀김,식혜\n",
      " \n",
      "\n",
      "▷소반 6,000원\n",
      "뚝배기치즈불닭,순대찜\n",
      " \n",
      "★말렌카 케이크 출시\n",
      "1조각 4,000원 / 홀케이크 26,000원\n",
      "\n",
      "★샐러드 구독서비스-치킨텐더샐러드\n",
      "(요일별 샐러드 종류 변경)\n",
      "월 10회: 4,300원, 월 20회: 4,100원\n",
      "※운영시간: 11:30~13:10\n",
      "\n",
      "\n",
      "[뚝]돼지고기고추장찌개 5,000원\n",
      "매콤산적덮밥 6,000원\n",
      "(플러스메뉴) 소떡소떡 2,000원\n",
      "※운영시간: 점심 11:30~13:30 / 저녁 17:00~19:00\n",
      "\n"
     ]
    }
   ],
   "source": [
    "res = requests.get('https://snuco.snu.ac.kr/ko/foodmenu?field_menu_date_value_1%5Bvalue%5D%5Bdate%5D=&field_menu_date_value%5Bvalue%5D%5Bdate%5D=04%2F04%2F2022')\n",
    "soup = BeautifulSoup(res.content)\n",
    "mydata = soup.find_all('td','views-field views-field-field-lunch')\n",
    "\n",
    "for item in mydata:\n",
    "    print(item.get_text())"
   ]
  },
  {
   "cell_type": "code",
   "execution_count": 9,
   "id": "f888aed0",
   "metadata": {
    "ExecuteTime": {
     "end_time": "2022-04-07T09:24:18.570570Z",
     "start_time": "2022-04-07T09:24:17.374381Z"
    }
   },
   "outputs": [
    {
     "name": "stdout",
     "output_type": "stream",
     "text": [
      "\n",
      "치킨마요덮밥&국물떡볶이  5,500원\n",
      "버섯별미밥(#)  3,000원\n",
      "쇠고기육개장  5,000원\n",
      "※운영시간: 11:00~14:30\n",
      "※혼잡시간: 11:50~12:20\n",
      "\n"
     ]
    }
   ],
   "source": [
    "res = requests.get('https://snuco.snu.ac.kr/ko/foodmenu?field_menu_date_value_1%5Bvalue%5D%5Bdate%5D=&field_menu_date_value%5Bvalue%5D%5Bdate%5D=04%2F04%2F2022')\n",
    "soup = BeautifulSoup(res.content)\n",
    "mydata = soup.find_all('td','views-field views-field-field-lunch')\n",
    "\n",
    "print(mydata[0].get_text())"
   ]
  },
  {
   "cell_type": "markdown",
   "id": "b044e2c0",
   "metadata": {},
   "source": [
    "## 서울대 학식 날짜별 크롤링"
   ]
  },
  {
   "cell_type": "code",
   "execution_count": 14,
   "id": "6baf8625",
   "metadata": {
    "ExecuteTime": {
     "end_time": "2022-04-07T09:31:21.093977Z",
     "start_time": "2022-04-07T09:31:18.483434Z"
    }
   },
   "outputs": [
    {
     "name": "stdout",
     "output_type": "stream",
     "text": [
      "4월 첫주 점심 학생식당 메뉴\n",
      "4월4일\n",
      "\n",
      "치킨마요덮밥&국물떡볶이  5,500원\n",
      "버섯별미밥(#)  3,000원\n",
      "쇠고기육개장  5,000원\n",
      "※운영시간: 11:00~14:30\n",
      "※혼잡시간: 11:50~12:20\n",
      "\n",
      "4월5일\n",
      "\n",
      "토마토소스스파게티&육즙함박  5,500원\n",
      "어묵매운탕(#)  3,000원\n",
      "매운갈비찜  5,500원\n",
      "※운영시간: 11:00~14:30\n",
      "※혼잡시간: 11:50~12:20\n",
      "\n",
      "4월6일\n",
      "\n",
      "훈제오리볶음밥&핫도그  5,500원\n",
      "두부삼색굴소스볶음(#)  3,000원\n",
      "라면사리모둠햄부대찌개  5,000원\n",
      "※운영시간: 11:00~14:30\n",
      "※혼잡시간: 11:50~12:20\n",
      "\n",
      "4월7일\n",
      "\n",
      "쇠고기브로콜리볶음  5,500원\n",
      "칠리깐풍잡채어묵(#)  3.000원\n",
      "영계백숙 6,000원\n",
      "※운영시간: 11:00~14:30\n",
      "※혼잡시간: 11:50~12:20\n",
      "\n",
      "4월8일\n",
      "\n",
      "고등어김치조림(#)  5,500원\n",
      "두부명란찌개  3,000원\n",
      "순대국밥  5,000원\n",
      "※운영시간: 11:00~14:30\n",
      "※혼잡시간: 11:50~12:20\n",
      "\n"
     ]
    }
   ],
   "source": [
    "site_pre = 'https://snuco.snu.ac.kr/ko/foodmenu?field_menu_date_value_1%5Bvalue%5D%5Bdate%5D=&field_menu_date_value%5Bvalue%5D%5Bdate%5D=04%2F'\n",
    "site_post = '%2F2022'\n",
    "\n",
    "print('4월 첫주 점심 학생식당 메뉴')\n",
    "\n",
    "for data in range(4,9):\n",
    "    site = site_pre + str(data) + site_post\n",
    "    res = requests.get(site)\n",
    "    soup = BeautifulSoup(res.content)\n",
    "    mydata = soup.find('td','views-field views-field-field-lunch')\n",
    "    print('4월'+str(data)+'일')\n",
    "    print(mydata.get_text())"
   ]
  },
  {
   "cell_type": "code",
   "execution_count": 15,
   "id": "2b1fae30",
   "metadata": {
    "ExecuteTime": {
     "end_time": "2022-04-07T10:33:06.553809Z",
     "start_time": "2022-04-07T10:33:06.549845Z"
    }
   },
   "outputs": [
    {
     "name": "stdout",
     "output_type": "stream",
     "text": [
      "\n",
      "\n",
      "asdfksljf\n",
      "\n",
      "\n",
      "\n"
     ]
    }
   ],
   "source": [
    "txt = '''\n",
    "\n",
    "asdfksljf\n",
    "\n",
    "\n",
    "'''\n",
    "print(txt)"
   ]
  },
  {
   "cell_type": "code",
   "execution_count": 16,
   "id": "8d83c807",
   "metadata": {
    "ExecuteTime": {
     "end_time": "2022-04-07T10:33:31.193151Z",
     "start_time": "2022-04-07T10:33:31.178151Z"
    }
   },
   "outputs": [
    {
     "name": "stdout",
     "output_type": "stream",
     "text": [
      "asdfksljf\n"
     ]
    }
   ],
   "source": [
    "txt = txt.strip()\n",
    "print(txt)"
   ]
  },
  {
   "cell_type": "code",
   "execution_count": 17,
   "id": "b9143f01",
   "metadata": {
    "ExecuteTime": {
     "end_time": "2022-04-07T10:34:44.207801Z",
     "start_time": "2022-04-07T10:34:44.196800Z"
    }
   },
   "outputs": [
    {
     "name": "stdout",
     "output_type": "stream",
     "text": [
      "학번18\n",
      "학번19\n",
      "학번20\n",
      "학번21\n"
     ]
    }
   ],
   "source": [
    "std_no = []\n",
    "std_no_pre = '학번'\n",
    "\n",
    "for i in range(18,22):\n",
    "    std_no.append(std_no_pre+str(i))\n",
    "for no in std_no:\n",
    "    print(no)"
   ]
  },
  {
   "cell_type": "markdown",
   "id": "d1dba306",
   "metadata": {},
   "source": [
    "## 네이버 영화 크롤링"
   ]
  },
  {
   "cell_type": "code",
   "execution_count": 20,
   "id": "45f48929",
   "metadata": {
    "ExecuteTime": {
     "end_time": "2022-04-07T10:36:54.193925Z",
     "start_time": "2022-04-07T10:36:54.181712Z"
    }
   },
   "outputs": [
    {
     "data": {
      "text/plain": [
       "['_filtered_ment_0',\n",
       " '_filtered_ment_1',\n",
       " '_filtered_ment_2',\n",
       " '_filtered_ment_3',\n",
       " '_filtered_ment_4',\n",
       " '_filtered_ment_5',\n",
       " '_filtered_ment_6',\n",
       " '_filtered_ment_7',\n",
       " '_filtered_ment_8',\n",
       " '_filtered_ment_9']"
      ]
     },
     "execution_count": 20,
     "metadata": {},
     "output_type": "execute_result"
    }
   ],
   "source": [
    "id_list = []\n",
    "for i in range(10):\n",
    "    id_list.append('_filtered_ment_'+str(i))\n",
    "id_list"
   ]
  },
  {
   "cell_type": "code",
   "execution_count": 23,
   "id": "52dbd053",
   "metadata": {
    "ExecuteTime": {
     "end_time": "2022-04-07T10:39:06.153145Z",
     "start_time": "2022-04-07T10:39:06.050090Z"
    }
   },
   "outputs": [
    {
     "name": "stdout",
     "output_type": "stream",
     "text": [
      "평론가 평점 못믿겠다 솔직히 베놈2보다 재밌었음쿠키영상 2개도\n",
      "오랜만에 맨몸액션 제대로 본 기분ㄷㄷ 흡혈박쥐와 인간이 결합해서 그런감; 그리고 자레드 레토 연기 진짜 섬세한듯!!\n",
      "스토리, 액션, 스케일 다 좋았는데 내가 가장 좋았던 건 마틴!! 그저 빛.. 외모며 성격이며 스마트함이며 센스며.. 연기도 개잘함 ㅜ\n",
      "눈과 귀를 압살해버리는 액션씬과 거대한 스케일이 진짜 압권킹,, 액션씬 특히 공중전에서 싸울때 입 벌리고 봤다ㅋㅋ\n",
      "모비우스에 빙의하면서 봤는데 약간 갓생캐인듯ㅠㅠ\n",
      "자레드 레토 진짜...빌런이었다가 히어로였다가 캐릭터 자체도 매력적인데 연기는 또 왤케 완벽합니까...\n",
      "꼭 큰 화면으로 보는 걸 추천합니다:)!!\n",
      "한번 더 봐야하는 깨알 장면들이 많네요ㅋㅋㅋㅋ 데일리 뷰글부터호라이즌까지 곧 2차 갑니다ㅋㅋㅋ\n",
      "배트맨 보다 박쥐를 잘 이용한 남자\n",
      "쿠키 2개 있으니까 다 보고 나오세용ㅋㅋ 스포라서 다 적을 순 없지만 영화만큼이나 쿠키 2개도 꿀입니당\n"
     ]
    }
   ],
   "source": [
    "res = requests.get('https://movie.naver.com/movie/bi/mi/pointWriteFormList.naver?code=190695&type=after&isActualPointWriteExecute=false&isMileageSubscriptionAlready=false&isMileageSubscriptionReject=false&page=1')\n",
    "soup = BeautifulSoup(res.content)\n",
    "\n",
    "id_list = []\n",
    "for i in range(10):\n",
    "    id_list.append('_filtered_ment_'+str(i))\n",
    "id_list\n",
    "\n",
    "for id in id_list:\n",
    "    print(soup.find('span',{'id':id}).get_text().strip())"
   ]
  },
  {
   "cell_type": "code",
   "execution_count": null,
   "id": "cc752931",
   "metadata": {},
   "outputs": [],
   "source": []
  }
 ],
 "metadata": {
  "kernelspec": {
   "display_name": "Python 3 (ipykernel)",
   "language": "python",
   "name": "python3"
  },
  "language_info": {
   "codemirror_mode": {
    "name": "ipython",
    "version": 3
   },
   "file_extension": ".py",
   "mimetype": "text/x-python",
   "name": "python",
   "nbconvert_exporter": "python",
   "pygments_lexer": "ipython3",
   "version": "3.8.8"
  }
 },
 "nbformat": 4,
 "nbformat_minor": 5
}
