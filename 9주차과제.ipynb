{
 "cells": [
  {
   "cell_type": "markdown",
   "id": "3b6a9d8f",
   "metadata": {},
   "source": [
    "# 9주차 개인톡 과제\n",
    "- 60171100 윤민혁"
   ]
  },
  {
   "cell_type": "code",
   "execution_count": 96,
   "id": "49fbfea2",
   "metadata": {
    "ExecuteTime": {
     "end_time": "2022-04-30T14:13:11.207605Z",
     "start_time": "2022-04-30T14:13:11.196602Z"
    }
   },
   "outputs": [],
   "source": [
    "import requests\n",
    "import pandas as pd\n",
    "from bs4 import BeautifulSoup\n",
    "import re\n",
    "import warnings\n",
    "warnings.filterwarnings('ignore')\n",
    "import numpy as np"
   ]
  },
  {
   "cell_type": "markdown",
   "id": "47156c5f",
   "metadata": {},
   "source": [
    "## 적은 데이터로 모델 제작\n",
    "- 영화 태극기 휘날리며"
   ]
  },
  {
   "cell_type": "code",
   "execution_count": 97,
   "id": "80c99fab",
   "metadata": {
    "ExecuteTime": {
     "end_time": "2022-04-30T14:13:16.538322Z",
     "start_time": "2022-04-30T14:13:11.547928Z"
    }
   },
   "outputs": [],
   "source": [
    "# 평점 높은순과 평점 낮은순\n",
    "pres = ['https://movie.naver.com/movie/bi/mi/pointWriteFormList.naver?code=36666&type=after&onlyActualPointYn=N&onlySpoilerPointYn=N&order=highest&page=',\n",
    "       'https://movie.naver.com/movie/bi/mi/pointWriteFormList.naver?code=36666&type=after&onlyActualPointYn=N&onlySpoilerPointYn=N&order=lowest&page=']\n",
    "\n",
    "review=[]\n",
    "rate=[]\n",
    "target=[]\n",
    "# 각각 300개의 평점 크롤링\n",
    "for pre in pres:\n",
    "    for i in range(1,31):\n",
    "        site = pre + str(i)\n",
    "        res = requests.get(site)\n",
    "        soup = BeautifulSoup(res.content,'html.parser')\n",
    "    \n",
    "        id_list = []\n",
    "        id_pre = '_filtered_ment_'\n",
    "    \n",
    "        for i in range(10):\n",
    "            id_list.append(id_pre+str(i))\n",
    "    \n",
    "        for id in id_list:\n",
    "            review.append(soup.find('span',{'id':id}).get_text().strip())\n",
    "        \n",
    "        rate_list = []\n",
    "        rate_list = (soup.select('div.star_score > em'))\n",
    "    \n",
    "        for r in rate_list:\n",
    "            r = int(re.sub('<.+?>', '',str(r)))\n",
    "            rate.append(r)\n",
    "            if r>8:\n",
    "                target.append(1)\n",
    "            elif r<=4:\n",
    "                target.append(0)\n",
    "            else:\n",
    "                target.append(-1)"
   ]
  },
  {
   "cell_type": "code",
   "execution_count": 98,
   "id": "52d99d81",
   "metadata": {
    "ExecuteTime": {
     "end_time": "2022-04-30T14:13:16.553131Z",
     "start_time": "2022-04-30T14:13:16.540132Z"
    },
    "scrolled": true
   },
   "outputs": [
    {
     "data": {
      "text/html": [
       "<div>\n",
       "<style scoped>\n",
       "    .dataframe tbody tr th:only-of-type {\n",
       "        vertical-align: middle;\n",
       "    }\n",
       "\n",
       "    .dataframe tbody tr th {\n",
       "        vertical-align: top;\n",
       "    }\n",
       "\n",
       "    .dataframe thead th {\n",
       "        text-align: right;\n",
       "    }\n",
       "</style>\n",
       "<table border=\"1\" class=\"dataframe\">\n",
       "  <thead>\n",
       "    <tr style=\"text-align: right;\">\n",
       "      <th></th>\n",
       "      <th>review</th>\n",
       "      <th>rate</th>\n",
       "      <th>target</th>\n",
       "    </tr>\n",
       "  </thead>\n",
       "  <tbody>\n",
       "    <tr>\n",
       "      <th>0</th>\n",
       "      <td>이 영화는 진짜 잘만들었다    감동그자체 . 영화</td>\n",
       "      <td>10</td>\n",
       "      <td>1</td>\n",
       "    </tr>\n",
       "    <tr>\n",
       "      <th>1</th>\n",
       "      <td></td>\n",
       "      <td>10</td>\n",
       "      <td>1</td>\n",
       "    </tr>\n",
       "    <tr>\n",
       "      <th>2</th>\n",
       "      <td>고등학생때 질질짜면서 보던게 어느세 30대라는 나이가 돼어 슬슬 40대가 되어갈 준...</td>\n",
       "      <td>10</td>\n",
       "      <td>1</td>\n",
       "    </tr>\n",
       "    <tr>\n",
       "      <th>3</th>\n",
       "      <td>진짜 최고의 영화.. 전쟁에 대해서, 인간에 대해서 다시 생각해보게 됨</td>\n",
       "      <td>10</td>\n",
       "      <td>1</td>\n",
       "    </tr>\n",
       "    <tr>\n",
       "      <th>4</th>\n",
       "      <td>이런 영화가 많이 나와야 하는데...6.25 참전용사님들, 자유민주주의 대한민국을 ...</td>\n",
       "      <td>10</td>\n",
       "      <td>1</td>\n",
       "    </tr>\n",
       "    <tr>\n",
       "      <th>...</th>\n",
       "      <td>...</td>\n",
       "      <td>...</td>\n",
       "      <td>...</td>\n",
       "    </tr>\n",
       "    <tr>\n",
       "      <th>595</th>\n",
       "      <td>이게머가재밌다는건지-_-</td>\n",
       "      <td>1</td>\n",
       "      <td>0</td>\n",
       "    </tr>\n",
       "    <tr>\n",
       "      <th>596</th>\n",
       "      <td>쿨럭!!...이영화 분수에 맞지 않게 넘 점수가 높다.</td>\n",
       "      <td>1</td>\n",
       "      <td>0</td>\n",
       "    </tr>\n",
       "    <tr>\n",
       "      <th>597</th>\n",
       "      <td>왜 빵점은 없는 것이냐~ 제작산지 배포산지 하는 짓거리가 맘에 들지 않아</td>\n",
       "      <td>1</td>\n",
       "      <td>0</td>\n",
       "    </tr>\n",
       "    <tr>\n",
       "      <th>598</th>\n",
       "      <td>재미없었어요. 진짜 봤구요. 제 갠적인 생각이니 태클마세요.</td>\n",
       "      <td>1</td>\n",
       "      <td>0</td>\n",
       "    </tr>\n",
       "    <tr>\n",
       "      <th>599</th>\n",
       "      <td>쓸데없이 잔인한 장면, 어색한 부분, 뻔한 스토리</td>\n",
       "      <td>1</td>\n",
       "      <td>0</td>\n",
       "    </tr>\n",
       "  </tbody>\n",
       "</table>\n",
       "<p>600 rows × 3 columns</p>\n",
       "</div>"
      ],
      "text/plain": [
       "                                                review  rate  target\n",
       "0                         이 영화는 진짜 잘만들었다    감동그자체 . 영화    10       1\n",
       "1                                                         10       1\n",
       "2    고등학생때 질질짜면서 보던게 어느세 30대라는 나이가 돼어 슬슬 40대가 되어갈 준...    10       1\n",
       "3              진짜 최고의 영화.. 전쟁에 대해서, 인간에 대해서 다시 생각해보게 됨    10       1\n",
       "4    이런 영화가 많이 나와야 하는데...6.25 참전용사님들, 자유민주주의 대한민국을 ...    10       1\n",
       "..                                                 ...   ...     ...\n",
       "595                                      이게머가재밌다는건지-_-     1       0\n",
       "596                     쿨럭!!...이영화 분수에 맞지 않게 넘 점수가 높다.     1       0\n",
       "597           왜 빵점은 없는 것이냐~ 제작산지 배포산지 하는 짓거리가 맘에 들지 않아     1       0\n",
       "598                  재미없었어요. 진짜 봤구요. 제 갠적인 생각이니 태클마세요.     1       0\n",
       "599                        쓸데없이 잔인한 장면, 어색한 부분, 뻔한 스토리     1       0\n",
       "\n",
       "[600 rows x 3 columns]"
      ]
     },
     "execution_count": 98,
     "metadata": {},
     "output_type": "execute_result"
    }
   ],
   "source": [
    "df_1000 = pd.DataFrame({'review':review,'rate':rate,'target':target})\n",
    "df_1000"
   ]
  },
  {
   "cell_type": "code",
   "execution_count": 99,
   "id": "ade3fc64",
   "metadata": {
    "ExecuteTime": {
     "end_time": "2022-04-30T14:13:16.568166Z",
     "start_time": "2022-04-30T14:13:16.555642Z"
    }
   },
   "outputs": [
    {
     "data": {
      "text/plain": [
       "array([10,  1], dtype=int64)"
      ]
     },
     "execution_count": 99,
     "metadata": {},
     "output_type": "execute_result"
    }
   ],
   "source": [
    "df_1000.rate.unique()"
   ]
  },
  {
   "cell_type": "code",
   "execution_count": 100,
   "id": "ec9b9906",
   "metadata": {
    "ExecuteTime": {
     "end_time": "2022-04-30T14:13:16.583225Z",
     "start_time": "2022-04-30T14:13:16.570203Z"
    }
   },
   "outputs": [],
   "source": [
    "# 데이터 셋 분리\n",
    "from sklearn.model_selection import train_test_split\n",
    "\n",
    "train_x, test_x, train_y, test_y = train_test_split(review, target, test_size=0.2, random_state=0)"
   ]
  },
  {
   "cell_type": "code",
   "execution_count": 101,
   "id": "6f88a46e",
   "metadata": {
    "ExecuteTime": {
     "end_time": "2022-04-30T14:13:16.598248Z",
     "start_time": "2022-04-30T14:13:16.585151Z"
    }
   },
   "outputs": [
    {
     "data": {
      "text/plain": [
       "(480, 480)"
      ]
     },
     "execution_count": 101,
     "metadata": {},
     "output_type": "execute_result"
    }
   ],
   "source": [
    "len(train_x), len(train_y)"
   ]
  },
  {
   "cell_type": "code",
   "execution_count": 102,
   "id": "cbf35fc6",
   "metadata": {
    "ExecuteTime": {
     "end_time": "2022-04-30T14:13:17.812866Z",
     "start_time": "2022-04-30T14:13:16.600181Z"
    }
   },
   "outputs": [
    {
     "data": {
      "text/plain": [
       "<480x603 sparse matrix of type '<class 'numpy.float64'>'\n",
       "\twith 4874 stored elements in Compressed Sparse Row format>"
      ]
     },
     "execution_count": 102,
     "metadata": {},
     "output_type": "execute_result"
    }
   ],
   "source": [
    "from konlpy.tag import Okt\n",
    "from sklearn.feature_extraction.text import TfidfVectorizer\n",
    "\n",
    "okt = Okt()\n",
    "tfv = TfidfVectorizer(tokenizer=okt.morphs, ngram_range=(1,2), min_df=3, max_df = 0.9)\n",
    "tfv.fit(train_x)\n",
    "\n",
    "tfv_train_x = tfv.transform(train_x)\n",
    "tfv_train_x"
   ]
  },
  {
   "cell_type": "code",
   "execution_count": 103,
   "id": "103609f7",
   "metadata": {
    "ExecuteTime": {
     "end_time": "2022-04-30T14:13:18.008833Z",
     "start_time": "2022-04-30T14:13:17.814048Z"
    }
   },
   "outputs": [
    {
     "name": "stdout",
     "output_type": "stream",
     "text": [
      "Fitting 4 folds for each of 5 candidates, totalling 20 fits\n"
     ]
    },
    {
     "data": {
      "text/plain": [
       "GridSearchCV(cv=4, estimator=LogisticRegression(random_state=0),\n",
       "             param_grid={'C': [1, 3, 5, 7, 9]}, scoring='accuracy', verbose=1)"
      ]
     },
     "execution_count": 103,
     "metadata": {},
     "output_type": "execute_result"
    }
   ],
   "source": [
    "from sklearn.linear_model import LogisticRegression\n",
    "from sklearn.model_selection import GridSearchCV\n",
    "\n",
    "clf = LogisticRegression(random_state=0)\n",
    "params = {'C':[1,3,5,7,9]}\n",
    "grid_cv = GridSearchCV(clf, param_grid=params, cv = 4, scoring='accuracy', verbose=1)\n",
    "grid_cv.fit(tfv_train_x, train_y)"
   ]
  },
  {
   "cell_type": "code",
   "execution_count": 104,
   "id": "b1bfbcd5",
   "metadata": {
    "ExecuteTime": {
     "end_time": "2022-04-30T14:13:18.190193Z",
     "start_time": "2022-04-30T14:13:18.010833Z"
    }
   },
   "outputs": [
    {
     "data": {
      "text/plain": [
       "0.7916666666666666"
      ]
     },
     "execution_count": 104,
     "metadata": {},
     "output_type": "execute_result"
    }
   ],
   "source": [
    "tfv_test_x = tfv.transform(test_x)\n",
    "grid_cv.best_estimator_.score(tfv_test_x,test_y)"
   ]
  },
  {
   "cell_type": "code",
   "execution_count": 105,
   "id": "3fd64f8f",
   "metadata": {
    "ExecuteTime": {
     "end_time": "2022-04-30T14:13:18.220101Z",
     "start_time": "2022-04-30T14:13:18.192094Z"
    }
   },
   "outputs": [
    {
     "name": "stdout",
     "output_type": "stream",
     "text": [
      "부정 리뷰\n",
      "부정 리뷰\n",
      "긍정 리뷰\n",
      "부정 리뷰\n",
      "부정 리뷰\n",
      "부정 리뷰\n",
      "긍정 리뷰\n",
      "부정 리뷰\n",
      "부정 리뷰\n",
      "긍정 리뷰\n"
     ]
    }
   ],
   "source": [
    "my_review1 = ['시간아깝네요','스토리 전개가 고구마 먹는 듯 답답','마지막까지 손에 땀을 쥐며 잘 봤습니다',\n",
    "          '도무지 주제도 모르겠고 멀 전달하려는지 모르겠음','별로 추천하고 싶진 않네요',\n",
    "          '몰입도가 높은 영화입니다. 시간가는 줄 몰랐네요.','곱씹을 수록 잘 만들어진 영화인 것 같아요. 다시 볼 겁니다.',\n",
    "         '전개가 어이가 없네','평점 알바 왜이렇게 많냐','일상의 고단함을 잊게 해주었던 인생영화']\n",
    "my_review2 = tfv.transform(my_review1)\n",
    "for i in my_review2:\n",
    "    if(grid_cv.best_estimator_.predict(i)):\n",
    "         print('긍정 리뷰')\n",
    "    else:\n",
    "         print('부정 리뷰')\n"
   ]
  },
  {
   "cell_type": "code",
   "execution_count": 106,
   "id": "1cd61c5f",
   "metadata": {
    "ExecuteTime": {
     "end_time": "2022-04-30T14:13:18.250034Z",
     "start_time": "2022-04-30T14:13:18.223101Z"
    }
   },
   "outputs": [
    {
     "data": {
      "text/plain": [
       "array([0, 0, 1, 0, 0, 0, 1, 0, 0, 1])"
      ]
     },
     "execution_count": 106,
     "metadata": {},
     "output_type": "execute_result"
    }
   ],
   "source": [
    "my_review1 = ['시간아깝네요','스토리 전개가 고구마 먹는 듯 답답','마지막까지 손에 땀을 쥐며 잘 봤습니다',\n",
    "          '도무지 주제도 모르겠고 멀 전달하려는지 모르겠음','별로 추천하고 싶진 않네요',\n",
    "          '몰입도가 높은 영화입니다. 시간가는 줄 몰랐네요.','곱씹을 수록 잘 만들어진 영화인 것 같아요. 다시 볼 겁니다.',\n",
    "         '전개가 어이가 없네','평점 알바 왜이렇게 많냐','일상의 고단함을 잊게 해주었던 인생영화']\n",
    "my_review2 = tfv.transform(my_review1)\n",
    "grid_cv.best_estimator_.predict(my_review2)"
   ]
  },
  {
   "cell_type": "markdown",
   "id": "39bad45a",
   "metadata": {},
   "source": [
    "# 많은 데이터로 모델 제작"
   ]
  },
  {
   "cell_type": "code",
   "execution_count": 107,
   "id": "a377ffff",
   "metadata": {
    "ExecuteTime": {
     "end_time": "2022-04-30T14:14:50.951743Z",
     "start_time": "2022-04-30T14:13:18.252047Z"
    }
   },
   "outputs": [],
   "source": [
    "# 평점 높은순과 평점 낮은순\n",
    "pres = ['https://movie.naver.com/movie/bi/mi/pointWriteFormList.naver?code=36666&type=after&onlyActualPointYn=N&onlySpoilerPointYn=N&order=highest&page=',\n",
    "       'https://movie.naver.com/movie/bi/mi/pointWriteFormList.naver?code=36666&type=after&onlyActualPointYn=N&onlySpoilerPointYn=N&order=lowest&page=']\n",
    "\n",
    "review=[]\n",
    "rate=[]\n",
    "target=[]\n",
    "# 각각 5000개의 평점 크롤링\n",
    "for pre in pres:\n",
    "    for i in range(1,501):\n",
    "        site = pre + str(i)\n",
    "        res = requests.get(site)\n",
    "        soup = BeautifulSoup(res.content,'html.parser')\n",
    "    \n",
    "        id_list = []\n",
    "        id_pre = '_filtered_ment_'\n",
    "    \n",
    "        for i in range(10):\n",
    "            id_list.append(id_pre+str(i))\n",
    "    \n",
    "        for id in id_list:\n",
    "            review.append(soup.find('span',{'id':id}).get_text().strip())\n",
    "        \n",
    "        rate_list = []\n",
    "        rate_list = (soup.select('div.star_score > em'))\n",
    "    \n",
    "        for r in rate_list:\n",
    "            r = int(re.sub('<.+?>', '',str(r)))\n",
    "            rate.append(r)\n",
    "            if r>8:\n",
    "                target.append(1)\n",
    "            elif r<=4:\n",
    "                target.append(0)\n",
    "            else:\n",
    "                target.append(-1)"
   ]
  },
  {
   "cell_type": "code",
   "execution_count": 108,
   "id": "df165574",
   "metadata": {
    "ExecuteTime": {
     "end_time": "2022-04-30T14:14:50.981833Z",
     "start_time": "2022-04-30T14:14:50.952742Z"
    }
   },
   "outputs": [
    {
     "data": {
      "text/html": [
       "<div>\n",
       "<style scoped>\n",
       "    .dataframe tbody tr th:only-of-type {\n",
       "        vertical-align: middle;\n",
       "    }\n",
       "\n",
       "    .dataframe tbody tr th {\n",
       "        vertical-align: top;\n",
       "    }\n",
       "\n",
       "    .dataframe thead th {\n",
       "        text-align: right;\n",
       "    }\n",
       "</style>\n",
       "<table border=\"1\" class=\"dataframe\">\n",
       "  <thead>\n",
       "    <tr style=\"text-align: right;\">\n",
       "      <th></th>\n",
       "      <th>review</th>\n",
       "      <th>rate</th>\n",
       "      <th>target</th>\n",
       "    </tr>\n",
       "  </thead>\n",
       "  <tbody>\n",
       "    <tr>\n",
       "      <th>0</th>\n",
       "      <td>이 영화는 진짜 잘만들었다    감동그자체 . 영화</td>\n",
       "      <td>10</td>\n",
       "      <td>1</td>\n",
       "    </tr>\n",
       "    <tr>\n",
       "      <th>1</th>\n",
       "      <td></td>\n",
       "      <td>10</td>\n",
       "      <td>1</td>\n",
       "    </tr>\n",
       "    <tr>\n",
       "      <th>2</th>\n",
       "      <td>고등학생때 질질짜면서 보던게 어느세 30대라는 나이가 돼어 슬슬 40대가 되어갈 준...</td>\n",
       "      <td>10</td>\n",
       "      <td>1</td>\n",
       "    </tr>\n",
       "    <tr>\n",
       "      <th>3</th>\n",
       "      <td>진짜 최고의 영화.. 전쟁에 대해서, 인간에 대해서 다시 생각해보게 됨</td>\n",
       "      <td>10</td>\n",
       "      <td>1</td>\n",
       "    </tr>\n",
       "    <tr>\n",
       "      <th>4</th>\n",
       "      <td>이런 영화가 많이 나와야 하는데...6.25 참전용사님들, 자유민주주의 대한민국을 ...</td>\n",
       "      <td>10</td>\n",
       "      <td>1</td>\n",
       "    </tr>\n",
       "    <tr>\n",
       "      <th>...</th>\n",
       "      <td>...</td>\n",
       "      <td>...</td>\n",
       "      <td>...</td>\n",
       "    </tr>\n",
       "    <tr>\n",
       "      <th>9995</th>\n",
       "      <td>흡인력 있는 서사. 전쟁장면도 좋지만 그보다 진한 형제간의 우정이 눈물을 자아내요</td>\n",
       "      <td>10</td>\n",
       "      <td>1</td>\n",
       "    </tr>\n",
       "    <tr>\n",
       "      <th>9996</th>\n",
       "      <td>짱이다!!!!!!!!!!!!!!!!!!!!!!!!!!!!!!!!!!!!!!!!!!!...</td>\n",
       "      <td>10</td>\n",
       "      <td>1</td>\n",
       "    </tr>\n",
       "    <tr>\n",
       "      <th>9997</th>\n",
       "      <td>개잼있음</td>\n",
       "      <td>10</td>\n",
       "      <td>1</td>\n",
       "    </tr>\n",
       "    <tr>\n",
       "      <th>9998</th>\n",
       "      <td>마이웨이보고 생각나서 왔는데 이런 작품이 한국에서 나왔다는게 새삼 대단하네요.</td>\n",
       "      <td>10</td>\n",
       "      <td>1</td>\n",
       "    </tr>\n",
       "    <tr>\n",
       "      <th>9999</th>\n",
       "      <td>영화의 주된 내용도 모르고 단순히 전쟁씬과 CG 라는 이유로 가는놈들ㅡㅡㅡ</td>\n",
       "      <td>10</td>\n",
       "      <td>1</td>\n",
       "    </tr>\n",
       "  </tbody>\n",
       "</table>\n",
       "<p>10000 rows × 3 columns</p>\n",
       "</div>"
      ],
      "text/plain": [
       "                                                 review  rate  target\n",
       "0                          이 영화는 진짜 잘만들었다    감동그자체 . 영화    10       1\n",
       "1                                                          10       1\n",
       "2     고등학생때 질질짜면서 보던게 어느세 30대라는 나이가 돼어 슬슬 40대가 되어갈 준...    10       1\n",
       "3               진짜 최고의 영화.. 전쟁에 대해서, 인간에 대해서 다시 생각해보게 됨    10       1\n",
       "4     이런 영화가 많이 나와야 하는데...6.25 참전용사님들, 자유민주주의 대한민국을 ...    10       1\n",
       "...                                                 ...   ...     ...\n",
       "9995      흡인력 있는 서사. 전쟁장면도 좋지만 그보다 진한 형제간의 우정이 눈물을 자아내요    10       1\n",
       "9996  짱이다!!!!!!!!!!!!!!!!!!!!!!!!!!!!!!!!!!!!!!!!!!!...    10       1\n",
       "9997                                               개잼있음    10       1\n",
       "9998        마이웨이보고 생각나서 왔는데 이런 작품이 한국에서 나왔다는게 새삼 대단하네요.    10       1\n",
       "9999          영화의 주된 내용도 모르고 단순히 전쟁씬과 CG 라는 이유로 가는놈들ㅡㅡㅡ    10       1\n",
       "\n",
       "[10000 rows x 3 columns]"
      ]
     },
     "execution_count": 108,
     "metadata": {},
     "output_type": "execute_result"
    }
   ],
   "source": [
    "df_5000 = pd.DataFrame({'review':review,'rate':rate,'target':target})\n",
    "df_5000"
   ]
  },
  {
   "cell_type": "code",
   "execution_count": 109,
   "id": "c1b2f587",
   "metadata": {
    "ExecuteTime": {
     "end_time": "2022-04-30T14:14:50.996884Z",
     "start_time": "2022-04-30T14:14:50.983829Z"
    }
   },
   "outputs": [
    {
     "data": {
      "text/plain": [
       "array([10,  1,  2,  3,  4,  5,  6,  7,  8,  9], dtype=int64)"
      ]
     },
     "execution_count": 109,
     "metadata": {},
     "output_type": "execute_result"
    }
   ],
   "source": [
    "df_5000.rate.unique()"
   ]
  },
  {
   "cell_type": "code",
   "execution_count": 110,
   "id": "98f92a3f",
   "metadata": {
    "ExecuteTime": {
     "end_time": "2022-04-30T14:14:51.011891Z",
     "start_time": "2022-04-30T14:14:50.998884Z"
    }
   },
   "outputs": [],
   "source": [
    "train_x, test_x, train_y, test_y = train_test_split(review, target, test_size=0.2, random_state=0)"
   ]
  },
  {
   "cell_type": "code",
   "execution_count": 111,
   "id": "2bf2b8a7",
   "metadata": {
    "ExecuteTime": {
     "end_time": "2022-04-30T14:15:12.014916Z",
     "start_time": "2022-04-30T14:14:51.013894Z"
    }
   },
   "outputs": [
    {
     "data": {
      "text/plain": [
       "<8000x9220 sparse matrix of type '<class 'numpy.float64'>'\n",
       "\twith 136194 stored elements in Compressed Sparse Row format>"
      ]
     },
     "execution_count": 111,
     "metadata": {},
     "output_type": "execute_result"
    }
   ],
   "source": [
    "okt = Okt()\n",
    "tfv = TfidfVectorizer(tokenizer=okt.morphs, ngram_range=(1,2), min_df=3, max_df = 0.9)\n",
    "tfv.fit(train_x)\n",
    "\n",
    "tfv_train_x = tfv.transform(train_x)\n",
    "tfv_train_x"
   ]
  },
  {
   "cell_type": "code",
   "execution_count": 112,
   "id": "01e3312c",
   "metadata": {
    "ExecuteTime": {
     "end_time": "2022-04-30T14:15:22.278052Z",
     "start_time": "2022-04-30T14:15:12.016835Z"
    }
   },
   "outputs": [
    {
     "name": "stdout",
     "output_type": "stream",
     "text": [
      "Fitting 4 folds for each of 5 candidates, totalling 20 fits\n"
     ]
    },
    {
     "data": {
      "text/plain": [
       "GridSearchCV(cv=4, estimator=LogisticRegression(random_state=0),\n",
       "             param_grid={'C': [1, 3, 5, 7, 9]}, scoring='accuracy', verbose=1)"
      ]
     },
     "execution_count": 112,
     "metadata": {},
     "output_type": "execute_result"
    }
   ],
   "source": [
    "clf = LogisticRegression(random_state=0)\n",
    "params = {'C':[1,3,5,7,9]}\n",
    "grid_cv = GridSearchCV(clf, param_grid=params, cv = 4, scoring='accuracy', verbose=1)\n",
    "grid_cv.fit(tfv_train_x, train_y)"
   ]
  },
  {
   "cell_type": "code",
   "execution_count": 113,
   "id": "f35f64fc",
   "metadata": {
    "ExecuteTime": {
     "end_time": "2022-04-30T14:15:24.815180Z",
     "start_time": "2022-04-30T14:15:22.280016Z"
    }
   },
   "outputs": [
    {
     "data": {
      "text/plain": [
       "0.8765"
      ]
     },
     "execution_count": 113,
     "metadata": {},
     "output_type": "execute_result"
    }
   ],
   "source": [
    "tfv_test_x = tfv.transform(test_x)\n",
    "grid_cv.best_estimator_.score(tfv_test_x,test_y)"
   ]
  },
  {
   "cell_type": "code",
   "execution_count": 114,
   "id": "cf293b91",
   "metadata": {
    "ExecuteTime": {
     "end_time": "2022-04-30T14:15:24.845236Z",
     "start_time": "2022-04-30T14:15:24.816181Z"
    }
   },
   "outputs": [
    {
     "data": {
      "text/plain": [
       "array([ 0,  0,  1,  1, -1,  1,  1,  1,  0,  1])"
      ]
     },
     "execution_count": 114,
     "metadata": {},
     "output_type": "execute_result"
    }
   ],
   "source": [
    "my_review1 = ['시간아깝네요','스토리 전개가 고구마 먹는 듯 답답','마지막까지 손에 땀을 쥐며 잘 봤습니다',\n",
    "          '도무지 주제도 모르겠고 멀 전달하려는지 모르겠음','별로 추천하고 싶진 않네요',\n",
    "          '몰입도가 높은 영화입니다. 시간가는 줄 몰랐네요.','곱씹을 수록 잘 만들어진 영화인 것 같아요. 다시 볼 겁니다.',\n",
    "         '전개가 어이가 없네','평점 알바 왜이렇게 많냐','일상의 고단함을 잊게 해주었던 인생영화']\n",
    "result = ['부정 리뷰','부정 리뷰','긍정 리뷰','부정 리뷰','부정 리뷰','긍정 리뷰','긍정 리뷰',\n",
    "         '부정 리뷰','부정 리뷰','긍정 리뷰']\n",
    "my_review2 = tfv.transform(my_review1)\n",
    "grid_cv.best_estimator_.predict(my_review2)"
   ]
  },
  {
   "cell_type": "code",
   "execution_count": 115,
   "id": "6fb3e52f",
   "metadata": {
    "ExecuteTime": {
     "end_time": "2022-04-30T14:15:24.860250Z",
     "start_time": "2022-04-30T14:15:24.847244Z"
    }
   },
   "outputs": [
    {
     "name": "stdout",
     "output_type": "stream",
     "text": [
      "부정 리뷰\n",
      "부정 리뷰\n",
      "긍정 리뷰\n",
      "긍정 리뷰\n",
      "긍정 리뷰\n",
      "긍정 리뷰\n",
      "긍정 리뷰\n",
      "긍정 리뷰\n",
      "부정 리뷰\n",
      "긍정 리뷰\n"
     ]
    }
   ],
   "source": [
    "for i in my_review2:\n",
    "    if(grid_cv.best_estimator_.predict(i)):\n",
    "         print('긍정 리뷰')\n",
    "    else:\n",
    "         print('부정 리뷰')"
   ]
  },
  {
   "cell_type": "markdown",
   "id": "4b8388e9",
   "metadata": {},
   "source": [
    "- 평점 상위 300개와 하위 300개로 이루어진 첫번째 모델에서는 10개 중 9개에 대해 예측이 성공했다.\n",
    "- 평점 상위 5000개와 하위 5000개로 이루어진 두번째 모델에서는 10개 중 7개에 대해 예측이 성공했다.\n",
    "- 데이터가 많은 모델에서는 정확도는 올라갔지만 실제 리뷰를 적용했을 때 예측에 성공한 갯수는 데이터가 적은 모델이 조금 더 많은 것을 확인할 수 있었다."
   ]
  },
  {
   "cell_type": "code",
   "execution_count": null,
   "id": "5c49d4f5",
   "metadata": {},
   "outputs": [],
   "source": []
  }
 ],
 "metadata": {
  "kernelspec": {
   "display_name": "Python 3 (ipykernel)",
   "language": "python",
   "name": "python3"
  },
  "language_info": {
   "codemirror_mode": {
    "name": "ipython",
    "version": 3
   },
   "file_extension": ".py",
   "mimetype": "text/x-python",
   "name": "python",
   "nbconvert_exporter": "python",
   "pygments_lexer": "ipython3",
   "version": "3.8.8"
  },
  "toc": {
   "base_numbering": 1,
   "nav_menu": {},
   "number_sections": true,
   "sideBar": true,
   "skip_h1_title": false,
   "title_cell": "Table of Contents",
   "title_sidebar": "Contents",
   "toc_cell": false,
   "toc_position": {},
   "toc_section_display": true,
   "toc_window_display": false
  }
 },
 "nbformat": 4,
 "nbformat_minor": 5
}
